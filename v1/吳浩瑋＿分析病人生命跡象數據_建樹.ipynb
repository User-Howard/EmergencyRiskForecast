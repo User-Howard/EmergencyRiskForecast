{
 "cells": [
  {
   "cell_type": "code",
   "execution_count": 90,
   "metadata": {
    "executionInfo": {
     "elapsed": 1640,
     "status": "ok",
     "timestamp": 1635182471146,
     "user": {
      "displayName": "吳浩瑋",
      "photoUrl": "https://lh3.googleusercontent.com/a-/AOh14Gg1JVKOVvYXKwQf9nIC3P0NkNRIcFeYbZaYyftCfQ=s64",
      "userId": "11302229288605057867"
     },
     "user_tz": -480
    },
    "id": "qyM0gIy4lEK1"
   },
   "outputs": [],
   "source": [
    "import pandas\n",
    "df = pandas.read_csv(\"ANS.csv\", engine='python')"
   ]
  },
  {
   "cell_type": "code",
   "execution_count": 97,
   "metadata": {},
   "outputs": [
    {
     "data": {
      "text/plain": [
       "905634"
      ]
     },
     "execution_count": 97,
     "metadata": {},
     "output_type": "execute_result"
    }
   ],
   "source": [
    "df.size"
   ]
  },
  {
   "cell_type": "code",
   "execution_count": 94,
   "metadata": {
    "executionInfo": {
     "elapsed": 6,
     "status": "ok",
     "timestamp": 1635182472522,
     "user": {
      "displayName": "吳浩瑋",
      "photoUrl": "https://lh3.googleusercontent.com/a-/AOh14Gg1JVKOVvYXKwQf9nIC3P0NkNRIcFeYbZaYyftCfQ=s64",
      "userId": "11302229288605057867"
     },
     "user_tz": -480
    },
    "id": "q5wgiB16JxhF"
   },
   "outputs": [],
   "source": [
    "mark = (\"Heart Rate\", \\\n",
    "        \"Respiratory Rate\", \\\n",
    "        \"Non Invasive Blood Pressure systolic\", \\\n",
    "        \"Non Invasive Blood Pressure diastolic\", \\\n",
    "        \"O2 saturation pulseoxymetry\", \\\n",
    "        \"Temperature Celsius\")\n",
    "df.dropna(inplace=True)\n",
    "df_under, df_under_label = df[list(mark)], df.label"
   ]
  },
  {
   "cell_type": "code",
   "execution_count": 67,
   "metadata": {
    "colab": {
     "base_uri": "https://localhost:8080/"
    },
    "executionInfo": {
     "elapsed": 409,
     "status": "ok",
     "timestamp": 1635182305355,
     "user": {
      "displayName": "吳浩瑋",
      "photoUrl": "https://lh3.googleusercontent.com/a-/AOh14Gg1JVKOVvYXKwQf9nIC3P0NkNRIcFeYbZaYyftCfQ=s64",
      "userId": "11302229288605057867"
     },
     "user_tz": -480
    },
    "id": "usjC-uR4e35U",
    "outputId": "c868973d-198c-4c64-bcae-9c9e04fd06df",
    "scrolled": true
   },
   "outputs": [
    {
     "name": "stdout",
     "output_type": "stream",
     "text": [
      "Before\t 0.0003180092620197563\n",
      "After \t 0.5\n"
     ]
    }
   ],
   "source": [
    "from imblearn.under_sampling import RandomUnderSampler\n",
    "print(\"Before\\t\", sum(df_under_label) / len(df_under_label))\n",
    "df_under_resample, df_under_label_resample = RandomUnderSampler(sampling_strategy='majority').fit_resample(df_under, df_under_label)\n",
    "print(\"After \\t\", sum(df_under_label_resample) / len(df_under_label_resample))"
   ]
  },
  {
   "cell_type": "code",
   "execution_count": 68,
   "metadata": {},
   "outputs": [
    {
     "data": {
      "text/plain": [
       "32"
      ]
     },
     "execution_count": 68,
     "metadata": {},
     "output_type": "execute_result"
    }
   ],
   "source": [
    "sum(df_under_label)"
   ]
  },
  {
   "cell_type": "code",
   "execution_count": 69,
   "metadata": {
    "executionInfo": {
     "elapsed": 7,
     "status": "ok",
     "timestamp": 1635179557901,
     "user": {
      "displayName": "吳浩瑋",
      "photoUrl": "https://lh3.googleusercontent.com/a-/AOh14Gg1JVKOVvYXKwQf9nIC3P0NkNRIcFeYbZaYyftCfQ=s64",
      "userId": "11302229288605057867"
     },
     "user_tz": -480
    },
    "id": "GIuK6ZtheuiI"
   },
   "outputs": [],
   "source": [
    "df_under_resample = (df_under_resample - df_under_resample.mean()) / df_under_resample.std()\n",
    "# df_under_resample"
   ]
  },
  {
   "cell_type": "code",
   "execution_count": 70,
   "metadata": {
    "colab": {
     "base_uri": "https://localhost:8080/"
    },
    "executionInfo": {
     "elapsed": 415,
     "status": "ok",
     "timestamp": 1635182454770,
     "user": {
      "displayName": "吳浩瑋",
      "photoUrl": "https://lh3.googleusercontent.com/a-/AOh14Gg1JVKOVvYXKwQf9nIC3P0NkNRIcFeYbZaYyftCfQ=s64",
      "userId": "11302229288605057867"
     },
     "user_tz": -480
    },
    "id": "mwl4adV6YBEb",
    "outputId": "553a5138-75ae-468e-fc2b-7e138829aeb8"
   },
   "outputs": [
    {
     "data": {
      "text/html": [
       "<div>\n",
       "<style scoped>\n",
       "    .dataframe tbody tr th:only-of-type {\n",
       "        vertical-align: middle;\n",
       "    }\n",
       "\n",
       "    .dataframe tbody tr th {\n",
       "        vertical-align: top;\n",
       "    }\n",
       "\n",
       "    .dataframe thead th {\n",
       "        text-align: right;\n",
       "    }\n",
       "</style>\n",
       "<table border=\"1\" class=\"dataframe\">\n",
       "  <thead>\n",
       "    <tr style=\"text-align: right;\">\n",
       "      <th></th>\n",
       "      <th>Heart Rate</th>\n",
       "      <th>Respiratory Rate</th>\n",
       "      <th>Non Invasive Blood Pressure systolic</th>\n",
       "      <th>Non Invasive Blood Pressure diastolic</th>\n",
       "      <th>O2 saturation pulseoxymetry</th>\n",
       "      <th>Temperature Celsius</th>\n",
       "    </tr>\n",
       "  </thead>\n",
       "  <tbody>\n",
       "    <tr>\n",
       "      <th>0</th>\n",
       "      <td>-0.734873</td>\n",
       "      <td>-0.980739</td>\n",
       "      <td>-0.432547</td>\n",
       "      <td>0.086245</td>\n",
       "      <td>0.769811</td>\n",
       "      <td>0.984680</td>\n",
       "    </tr>\n",
       "    <tr>\n",
       "      <th>1</th>\n",
       "      <td>-0.992412</td>\n",
       "      <td>-1.121252</td>\n",
       "      <td>0.707427</td>\n",
       "      <td>-0.443857</td>\n",
       "      <td>0.577958</td>\n",
       "      <td>-3.833326</td>\n",
       "    </tr>\n",
       "    <tr>\n",
       "      <th>2</th>\n",
       "      <td>-0.013762</td>\n",
       "      <td>-0.980739</td>\n",
       "      <td>0.159504</td>\n",
       "      <td>0.444064</td>\n",
       "      <td>0.482031</td>\n",
       "      <td>0.213799</td>\n",
       "    </tr>\n",
       "    <tr>\n",
       "      <th>3</th>\n",
       "      <td>-0.812135</td>\n",
       "      <td>-1.261766</td>\n",
       "      <td>2.068041</td>\n",
       "      <td>-0.443857</td>\n",
       "      <td>0.577958</td>\n",
       "      <td>0.213799</td>\n",
       "    </tr>\n",
       "    <tr>\n",
       "      <th>4</th>\n",
       "      <td>0.192269</td>\n",
       "      <td>2.672607</td>\n",
       "      <td>-0.395773</td>\n",
       "      <td>0.682611</td>\n",
       "      <td>0.194251</td>\n",
       "      <td>-0.171641</td>\n",
       "    </tr>\n",
       "    <tr>\n",
       "      <th>5</th>\n",
       "      <td>-0.786381</td>\n",
       "      <td>-0.840226</td>\n",
       "      <td>0.192600</td>\n",
       "      <td>-0.178806</td>\n",
       "      <td>0.194251</td>\n",
       "      <td>1.562841</td>\n",
       "    </tr>\n",
       "  </tbody>\n",
       "</table>\n",
       "</div>"
      ],
      "text/plain": [
       "   Heart Rate  Respiratory Rate  Non Invasive Blood Pressure systolic  \\\n",
       "0   -0.734873         -0.980739                             -0.432547   \n",
       "1   -0.992412         -1.121252                              0.707427   \n",
       "2   -0.013762         -0.980739                              0.159504   \n",
       "3   -0.812135         -1.261766                              2.068041   \n",
       "4    0.192269          2.672607                             -0.395773   \n",
       "5   -0.786381         -0.840226                              0.192600   \n",
       "\n",
       "   Non Invasive Blood Pressure diastolic  O2 saturation pulseoxymetry  \\\n",
       "0                               0.086245                     0.769811   \n",
       "1                              -0.443857                     0.577958   \n",
       "2                               0.444064                     0.482031   \n",
       "3                              -0.443857                     0.577958   \n",
       "4                               0.682611                     0.194251   \n",
       "5                              -0.178806                     0.194251   \n",
       "\n",
       "   Temperature Celsius  \n",
       "0             0.984680  \n",
       "1            -3.833326  \n",
       "2             0.213799  \n",
       "3             0.213799  \n",
       "4            -0.171641  \n",
       "5             1.562841  "
      ]
     },
     "execution_count": 70,
     "metadata": {},
     "output_type": "execute_result"
    }
   ],
   "source": [
    "df_under_resample[:6]"
   ]
  },
  {
   "cell_type": "code",
   "execution_count": 71,
   "metadata": {
    "colab": {
     "base_uri": "https://localhost:8080/"
    },
    "executionInfo": {
     "elapsed": 399,
     "status": "ok",
     "timestamp": 1635180861780,
     "user": {
      "displayName": "吳浩瑋",
      "photoUrl": "https://lh3.googleusercontent.com/a-/AOh14Gg1JVKOVvYXKwQf9nIC3P0NkNRIcFeYbZaYyftCfQ=s64",
      "userId": "11302229288605057867"
     },
     "user_tz": -480
    },
    "id": "pjhzE-iOWdgB",
    "outputId": "3f616a4f-f6f6-42c5-dc10-c906305f8b49",
    "scrolled": true
   },
   "outputs": [
    {
     "data": {
      "text/plain": [
       "Heart Rate                               1.0\n",
       "Respiratory Rate                         1.0\n",
       "Non Invasive Blood Pressure systolic     1.0\n",
       "Non Invasive Blood Pressure diastolic    1.0\n",
       "O2 saturation pulseoxymetry              1.0\n",
       "Temperature Celsius                      1.0\n",
       "dtype: float64"
      ]
     },
     "execution_count": 71,
     "metadata": {},
     "output_type": "execute_result"
    }
   ],
   "source": [
    "df_under_resample.std()"
   ]
  },
  {
   "cell_type": "code",
   "execution_count": 72,
   "metadata": {
    "colab": {
     "base_uri": "https://localhost:8080/"
    },
    "executionInfo": {
     "elapsed": 511,
     "status": "ok",
     "timestamp": 1635180864045,
     "user": {
      "displayName": "吳浩瑋",
      "photoUrl": "https://lh3.googleusercontent.com/a-/AOh14Gg1JVKOVvYXKwQf9nIC3P0NkNRIcFeYbZaYyftCfQ=s64",
      "userId": "11302229288605057867"
     },
     "user_tz": -480
    },
    "id": "GMD1Q3cJXfee",
    "outputId": "2e2ce1f6-359d-466b-f735-41f684630578"
   },
   "outputs": [
    {
     "data": {
      "text/plain": [
       "Heart Rate                              -2.949030e-16\n",
       "Respiratory Rate                        -1.179612e-16\n",
       "Non Invasive Blood Pressure systolic    -9.367507e-17\n",
       "Non Invasive Blood Pressure diastolic    2.012279e-16\n",
       "O2 saturation pulseoxymetry              5.481726e-16\n",
       "Temperature Celsius                      1.029038e-14\n",
       "dtype: float64"
      ]
     },
     "execution_count": 72,
     "metadata": {},
     "output_type": "execute_result"
    }
   ],
   "source": [
    "df_under_resample.mean()"
   ]
  },
  {
   "cell_type": "code",
   "execution_count": 73,
   "metadata": {
    "executionInfo": {
     "elapsed": 7,
     "status": "ok",
     "timestamp": 1635179557901,
     "user": {
      "displayName": "吳浩瑋",
      "photoUrl": "https://lh3.googleusercontent.com/a-/AOh14Gg1JVKOVvYXKwQf9nIC3P0NkNRIcFeYbZaYyftCfQ=s64",
      "userId": "11302229288605057867"
     },
     "user_tz": -480
    },
    "id": "RpQvLocQbgrT"
   },
   "outputs": [],
   "source": [
    "from sklearn.model_selection import train_test_split\n",
    "X_train, X_test, y_train, y_test = train_test_split(df_under_resample, df_under_label_resample, test_size=0.2, stratify=df_under_label_resample)"
   ]
  },
  {
   "cell_type": "code",
   "execution_count": 74,
   "metadata": {
    "executionInfo": {
     "elapsed": 6,
     "status": "ok",
     "timestamp": 1635179557901,
     "user": {
      "displayName": "吳浩瑋",
      "photoUrl": "https://lh3.googleusercontent.com/a-/AOh14Gg1JVKOVvYXKwQf9nIC3P0NkNRIcFeYbZaYyftCfQ=s64",
      "userId": "11302229288605057867"
     },
     "user_tz": -480
    },
    "id": "i0ILtnLHU7Ss"
   },
   "outputs": [],
   "source": [
    "from sklearn import tree\n",
    "model = tree.DecisionTreeClassifier(max_depth=3)\n",
    "model = model.fit(X_train, y_train)"
   ]
  },
  {
   "cell_type": "code",
   "execution_count": 75,
   "metadata": {
    "colab": {
     "base_uri": "https://localhost:8080/",
     "height": 469
    },
    "executionInfo": {
     "elapsed": 648,
     "status": "ok",
     "timestamp": 1635179558543,
     "user": {
      "displayName": "吳浩瑋",
      "photoUrl": "https://lh3.googleusercontent.com/a-/AOh14Gg1JVKOVvYXKwQf9nIC3P0NkNRIcFeYbZaYyftCfQ=s64",
      "userId": "11302229288605057867"
     },
     "user_tz": -480
    },
    "id": "lRtUhZ8RWW1r",
    "outputId": "80a4b9f6-b07a-4330-fa1a-73810efdd6f2"
   },
   "outputs": [
    {
     "data": {
      "text/plain": [
       "[Text(0.4230769230769231, 0.875, 'x[1] <= -0.067\\ngini = 0.5\\nsamples = 51\\nvalue = [25, 26]'),\n",
       " Text(0.15384615384615385, 0.625, 'x[2] <= -1.021\\ngini = 0.278\\nsamples = 24\\nvalue = [20, 4]'),\n",
       " Text(0.07692307692307693, 0.375, 'gini = 0.0\\nsamples = 3\\nvalue = [0, 3]'),\n",
       " Text(0.23076923076923078, 0.375, 'x[1] <= -1.669\\ngini = 0.091\\nsamples = 21\\nvalue = [20, 1]'),\n",
       " Text(0.15384615384615385, 0.125, 'gini = 0.0\\nsamples = 1\\nvalue = [0, 1]'),\n",
       " Text(0.3076923076923077, 0.125, 'gini = 0.0\\nsamples = 20\\nvalue = [20, 0]'),\n",
       " Text(0.6923076923076923, 0.625, 'x[3] <= 0.186\\ngini = 0.302\\nsamples = 27\\nvalue = [5, 22]'),\n",
       " Text(0.5384615384615384, 0.375, 'x[5] <= 2.623\\ngini = 0.087\\nsamples = 22\\nvalue = [1, 21]'),\n",
       " Text(0.46153846153846156, 0.125, 'gini = 0.0\\nsamples = 21\\nvalue = [0, 21]'),\n",
       " Text(0.6153846153846154, 0.125, 'gini = 0.0\\nsamples = 1\\nvalue = [1, 0]'),\n",
       " Text(0.8461538461538461, 0.375, 'x[3] <= 2.67\\ngini = 0.32\\nsamples = 5\\nvalue = [4, 1]'),\n",
       " Text(0.7692307692307693, 0.125, 'gini = 0.0\\nsamples = 4\\nvalue = [4, 0]'),\n",
       " Text(0.9230769230769231, 0.125, 'gini = 0.0\\nsamples = 1\\nvalue = [0, 1]')]"
      ]
     },
     "execution_count": 75,
     "metadata": {},
     "output_type": "execute_result"
    },
    {
     "data": {
      "image/png": "[encoded data removed]",
      "text/plain": [
       "<Figure size 640x480 with 1 Axes>"
      ]
     },
     "metadata": {},
     "output_type": "display_data"
    }
   ],
   "source": [
    "tree.plot_tree(model)"
   ]
  },
  {
   "cell_type": "code",
   "execution_count": 76,
   "metadata": {
    "executionInfo": {
     "elapsed": 11,
     "status": "ok",
     "timestamp": 1635179558544,
     "user": {
      "displayName": "吳浩瑋",
      "photoUrl": "https://lh3.googleusercontent.com/a-/AOh14Gg1JVKOVvYXKwQf9nIC3P0NkNRIcFeYbZaYyftCfQ=s64",
      "userId": "11302229288605057867"
     },
     "user_tz": -480
    },
    "id": "w_kuGXYYPkxC"
   },
   "outputs": [],
   "source": [
    "import graphviz\n",
    "from graphviz import Digraph, Source\n",
    "features = list(mark)\n",
    "dot_data = tree.export_graphviz(model, feature_names=features)\n",
    "graph = Source(dot_data)"
   ]
  },
  {
   "cell_type": "code",
   "execution_count": 77,
   "metadata": {
    "colab": {
     "base_uri": "https://localhost:8080/",
     "height": 168
    },
    "executionInfo": {
     "elapsed": 1155,
     "status": "error",
     "timestamp": 1635263426781,
     "user": {
      "displayName": "吳浩瑋",
      "photoUrl": "https://lh3.googleusercontent.com/a-/AOh14Gg1JVKOVvYXKwQf9nIC3P0NkNRIcFeYbZaYyftCfQ=s64",
      "userId": "11302229288605057867"
     },
     "user_tz": -480
    },
    "id": "Wh-9-6uRS2CC",
    "outputId": "ceeaa979-b9fc-46f9-b49f-208568fbddc8"
   },
   "outputs": [
    {
     "data": {
      "text/plain": [
       "51"
      ]
     },
     "execution_count": 77,
     "metadata": {},
     "output_type": "execute_result"
    }
   ],
   "source": [
    "len(X_train)"
   ]
  },
  {
   "cell_type": "code",
   "execution_count": 78,
   "metadata": {
    "colab": {
     "base_uri": "https://localhost:8080/"
    },
    "executionInfo": {
     "elapsed": 11,
     "status": "ok",
     "timestamp": 1635179558545,
     "user": {
      "displayName": "吳浩瑋",
      "photoUrl": "https://lh3.googleusercontent.com/a-/AOh14Gg1JVKOVvYXKwQf9nIC3P0NkNRIcFeYbZaYyftCfQ=s64",
      "userId": "11302229288605057867"
     },
     "user_tz": -480
    },
    "id": "LltaFCZYXpyN",
    "outputId": "b03268a3-5d41-426f-eea0-3e0ae936144e"
   },
   "outputs": [
    {
     "data": {
      "text/plain": [
       "0.9230769230769231"
      ]
     },
     "execution_count": 78,
     "metadata": {},
     "output_type": "execute_result"
    }
   ],
   "source": [
    "model.score(X_test, y_test)"
   ]
  },
  {
   "cell_type": "code",
   "execution_count": 79,
   "metadata": {
    "executionInfo": {
     "elapsed": 8,
     "status": "ok",
     "timestamp": 1635179558545,
     "user": {
      "displayName": "吳浩瑋",
      "photoUrl": "https://lh3.googleusercontent.com/a-/AOh14Gg1JVKOVvYXKwQf9nIC3P0NkNRIcFeYbZaYyftCfQ=s64",
      "userId": "11302229288605057867"
     },
     "user_tz": -480
    },
    "id": "x0eNn6_8QEUz"
   },
   "outputs": [],
   "source": [
    "from sklearn.model_selection import cross_val_score\n",
    "from sklearn.model_selection import KFold,StratifiedKFold"
   ]
  },
  {
   "cell_type": "code",
   "execution_count": 89,
   "metadata": {
    "colab": {
     "base_uri": "https://localhost:8080/"
    },
    "executionInfo": {
     "elapsed": 3299,
     "status": "ok",
     "timestamp": 1635179561837,
     "user": {
      "displayName": "吳浩瑋",
      "photoUrl": "https://lh3.googleusercontent.com/a-/AOh14Gg1JVKOVvYXKwQf9nIC3P0NkNRIcFeYbZaYyftCfQ=s64",
      "userId": "11302229288605057867"
     },
     "user_tz": -480
    },
    "id": "7vZJ12XLmSd1",
    "outputId": "56ebf06e-accd-4645-defd-48703c28283e"
   },
   "outputs": [
    {
     "data": {
      "text/plain": [
       "0.6530000000000009"
      ]
     },
     "execution_count": 89,
     "metadata": {},
     "output_type": "execute_result"
    }
   ],
   "source": [
    "scores = 0\n",
    "for i in range(100):\n",
    "    scores += cross_val_score(model, X_test, y_test, cv=5, scoring='accuracy').mean()\n",
    "scores / 100"
   ]
  },
  {
   "cell_type": "code",
   "execution_count": null,
   "metadata": {},
   "outputs": [],
   "source": []
  }
 ],
 "metadata": {
  "colab": {
   "authorship_tag": "ABX9TyNjppjSf9ZciIx0y8D5LG3F",
   "collapsed_sections": [],
   "name": "吳浩瑋＿分析病人生命跡象數據_建樹.ipynb",
   "provenance": []
  },
  "kernelspec": {
   "display_name": "venv-metal",
   "language": "python",
   "name": "venv-metal"
  },
  "language_info": {
   "codemirror_mode": {
    "name": "ipython",
    "version": 3
   },
   "file_extension": ".py",
   "mimetype": "text/x-python",
   "name": "python",
   "nbconvert_exporter": "python",
   "pygments_lexer": "ipython3",
   "version": "3.11.4"
  }
 },
 "nbformat": 4,
 "nbformat_minor": 1
}
