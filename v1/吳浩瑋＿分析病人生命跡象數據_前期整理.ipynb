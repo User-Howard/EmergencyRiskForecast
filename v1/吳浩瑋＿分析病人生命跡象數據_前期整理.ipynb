{
 "cells": [
  {
   "cell_type": "code",
   "execution_count": 1,
   "metadata": {
    "executionInfo": {
     "elapsed": 7,
     "status": "ok",
     "timestamp": 1635046879305,
     "user": {
      "displayName": "吳浩瑋",
      "photoUrl": "https://lh3.googleusercontent.com/a-/AOh14Gg1JVKOVvYXKwQf9nIC3P0NkNRIcFeYbZaYyftCfQ=s64",
      "userId": "11302229288605057867"
     },
     "user_tz": -480
    },
    "id": "vRMjWZnwKw7E"
   },
   "outputs": [],
   "source": [
    "import pandas\n",
    "import numpy as np"
   ]
  },
  {
   "cell_type": "code",
   "execution_count": 2,
   "metadata": {},
   "outputs": [],
   "source": [
    "item = dict()\n",
    "mark = tuple()"
   ]
  },
  {
   "cell_type": "code",
   "execution_count": 3,
   "metadata": {},
   "outputs": [],
   "source": [
    "df = pandas.read_csv(\"d_items.csv\", engine=\"python\", encoding=\"unicode_escape\")\n",
    "id_to_label = dict(zip(df[\"itemid\"], df[\"label\"]))\n",
    "label_to_id = dict(zip(df[\"label\"], df[\"itemid\"]))\n",
    "# df.head()"
   ]
  },
  {
   "cell_type": "code",
   "execution_count": 4,
   "metadata": {},
   "outputs": [],
   "source": [
    "mark = (\"Heart Rate\", \\\n",
    "        \"Respiratory Rate\", \\\n",
    "        \"Non Invasive Blood Pressure systolic\", \\\n",
    "        \"Non Invasive Blood Pressure diastolic\", \\\n",
    "        \"O2 saturation pulseoxymetry\", \\\n",
    "        \"Temperature Celsius\", \\\n",
    "        \"Temperature Fahrenheit\")"
   ]
  },
  {
   "cell_type": "code",
   "execution_count": 18,
   "metadata": {
    "colab": {
     "base_uri": "https://localhost:8080/",
     "height": 309
    },
    "executionInfo": {
     "elapsed": 10739,
     "status": "ok",
     "timestamp": 1635046969323,
     "user": {
      "displayName": "吳浩瑋",
      "photoUrl": "https://lh3.googleusercontent.com/a-/AOh14Gg1JVKOVvYXKwQf9nIC3P0NkNRIcFeYbZaYyftCfQ=s64",
      "userId": "11302229288605057867"
     },
     "user_tz": -480
    },
    "id": "_QcSsWLObJ34",
    "outputId": "8720729d-9fc7-41af-b0e5-290b916eaa52"
   },
   "outputs": [
    {
     "name": "stdout",
     "output_type": "stream",
     "text": [
      "CPU times: user 5.3 s, sys: 263 ms, total: 5.57 s\n",
      "Wall time: 5.6 s\n"
     ]
    }
   ],
   "source": [
    "%%time \n",
    "df = pandas.read_csv(\"chart_test3.csv\", engine=\"python\", encoding=\"unicode_escape\")\n",
    "# df.head()"
   ]
  },
  {
   "cell_type": "code",
   "execution_count": 7,
   "metadata": {},
   "outputs": [],
   "source": [
    "df['charttime'] = pandas.to_datetime(df['charttime']).round(\"10min\")"
   ]
  },
  {
   "cell_type": "code",
   "execution_count": 6,
   "metadata": {},
   "outputs": [],
   "source": [
    "# 建立一個CLASS容器來裝每一個PATIENT\n",
    "class Patient:\n",
    "    data = dict()\n",
    "    def __init__(self, ):\n",
    "        self.data = {\"subject_id\":None, \"hadm_id\":None, \"charttime\":None}\n",
    "        for label_ in mark:\n",
    "            self.data[label_] = None\n",
    "    def allna(self, ):\n",
    "        return not any([self.data[i]!=None for i in self.data])"
   ]
  },
  {
   "cell_type": "code",
   "execution_count": 9,
   "metadata": {},
   "outputs": [],
   "source": [
    "output = []\n",
    "tp = [label_to_id[i] for i in mark]\n",
    "for name, group in df.groupby([\"hadm_id\", \"charttime\"]):\n",
    "    patient = Patient()\n",
    "    for id_, value_ in zip(group.itemid, group.value):\n",
    "        if id_ in tp:\n",
    "            patient.data[id_to_label[id_]] = value_\n",
    "    # if not patient.allna():\n",
    "    if True:\n",
    "        patient.data[\"hadm_id\"], patient.data[\"charttime\"] = name\n",
    "        if patient.data[\"Temperature Fahrenheit\"] != None:\n",
    "            patient.data[\"Temperature Celsius\"] = round((float(patient.data[\"Temperature Fahrenheit\"]) - 32) * 5 / 9, 1)\n",
    "        output.append(patient.data)\n",
    "merged_df = pandas.DataFrame(output,columns=['hadm_id','charttime']+list(mark)).drop([\"Temperature Fahrenheit\"], axis=1)\n",
    "merged_df.to_csv(\"chart_test3_merge_new.csv\", float_format='%.2f', index=0)"
   ]
  },
  {
   "cell_type": "code",
   "execution_count": 10,
   "metadata": {
    "scrolled": true
   },
   "outputs": [
    {
     "name": "stdout",
     "output_type": "stream",
     "text": [
      "amount:  101010\n"
     ]
    }
   ],
   "source": [
    "# df.to_csv(\"chart_test3_merge_new.csv\", float_format='%.2f', index=0)\n",
    "print(\"amount: \", len(merged_df))\n",
    "# merged_df"
   ]
  },
  {
   "cell_type": "code",
   "execution_count": 11,
   "metadata": {},
   "outputs": [],
   "source": [
    "# ------------------------TODO------------------------ #"
   ]
  },
  {
   "cell_type": "code",
   "execution_count": 12,
   "metadata": {},
   "outputs": [],
   "source": [
    "testdf = merged_df"
   ]
  },
  {
   "cell_type": "code",
   "execution_count": 13,
   "metadata": {},
   "outputs": [
    {
     "data": {
      "text/html": [
       "<div>\n",
       "<style scoped>\n",
       "    .dataframe tbody tr th:only-of-type {\n",
       "        vertical-align: middle;\n",
       "    }\n",
       "\n",
       "    .dataframe tbody tr th {\n",
       "        vertical-align: top;\n",
       "    }\n",
       "\n",
       "    .dataframe thead th {\n",
       "        text-align: right;\n",
       "    }\n",
       "</style>\n",
       "<table border=\"1\" class=\"dataframe\">\n",
       "  <thead>\n",
       "    <tr style=\"text-align: right;\">\n",
       "      <th></th>\n",
       "      <th>hadm_id</th>\n",
       "      <th>charttime</th>\n",
       "      <th>Heart Rate</th>\n",
       "      <th>Respiratory Rate</th>\n",
       "      <th>Non Invasive Blood Pressure systolic</th>\n",
       "      <th>Non Invasive Blood Pressure diastolic</th>\n",
       "      <th>O2 saturation pulseoxymetry</th>\n",
       "      <th>Temperature Celsius</th>\n",
       "    </tr>\n",
       "  </thead>\n",
       "  <tbody>\n",
       "    <tr>\n",
       "      <th>1</th>\n",
       "      <td>20005763</td>\n",
       "      <td>2175-05-31 02:50:00</td>\n",
       "      <td>96</td>\n",
       "      <td>15</td>\n",
       "      <td>122</td>\n",
       "      <td>66</td>\n",
       "      <td>96</td>\n",
       "      <td>37.1</td>\n",
       "    </tr>\n",
       "    <tr>\n",
       "      <th>2</th>\n",
       "      <td>20005763</td>\n",
       "      <td>2175-05-31 03:00:00</td>\n",
       "      <td>72</td>\n",
       "      <td>10</td>\n",
       "      <td>124</td>\n",
       "      <td>69</td>\n",
       "      <td>90</td>\n",
       "      <td>None</td>\n",
       "    </tr>\n",
       "    <tr>\n",
       "      <th>3</th>\n",
       "      <td>20005763</td>\n",
       "      <td>2175-05-31 04:00:00</td>\n",
       "      <td>87</td>\n",
       "      <td>12</td>\n",
       "      <td>118</td>\n",
       "      <td>58</td>\n",
       "      <td>95</td>\n",
       "      <td>36.7</td>\n",
       "    </tr>\n",
       "    <tr>\n",
       "      <th>4</th>\n",
       "      <td>20005763</td>\n",
       "      <td>2175-05-31 05:00:00</td>\n",
       "      <td>67</td>\n",
       "      <td>10</td>\n",
       "      <td>105</td>\n",
       "      <td>51</td>\n",
       "      <td>96</td>\n",
       "      <td>None</td>\n",
       "    </tr>\n",
       "    <tr>\n",
       "      <th>5</th>\n",
       "      <td>20005763</td>\n",
       "      <td>2175-05-31 06:00:00</td>\n",
       "      <td>67</td>\n",
       "      <td>12</td>\n",
       "      <td>95</td>\n",
       "      <td>68</td>\n",
       "      <td>94</td>\n",
       "      <td>None</td>\n",
       "    </tr>\n",
       "    <tr>\n",
       "      <th>6</th>\n",
       "      <td>20005763</td>\n",
       "      <td>2175-05-31 07:00:00</td>\n",
       "      <td>78</td>\n",
       "      <td>13</td>\n",
       "      <td>105</td>\n",
       "      <td>78</td>\n",
       "      <td>94</td>\n",
       "      <td>None</td>\n",
       "    </tr>\n",
       "    <tr>\n",
       "      <th>7</th>\n",
       "      <td>20005763</td>\n",
       "      <td>2175-05-31 08:00:00</td>\n",
       "      <td>70</td>\n",
       "      <td>9</td>\n",
       "      <td>105</td>\n",
       "      <td>69</td>\n",
       "      <td>97</td>\n",
       "      <td>None</td>\n",
       "    </tr>\n",
       "    <tr>\n",
       "      <th>8</th>\n",
       "      <td>20005763</td>\n",
       "      <td>2175-05-31 09:00:00</td>\n",
       "      <td>62</td>\n",
       "      <td>11</td>\n",
       "      <td>122</td>\n",
       "      <td>62</td>\n",
       "      <td>95</td>\n",
       "      <td>36.9</td>\n",
       "    </tr>\n",
       "    <tr>\n",
       "      <th>9</th>\n",
       "      <td>20005763</td>\n",
       "      <td>2175-05-31 09:50:00</td>\n",
       "      <td>None</td>\n",
       "      <td>None</td>\n",
       "      <td>None</td>\n",
       "      <td>None</td>\n",
       "      <td>None</td>\n",
       "      <td>None</td>\n",
       "    </tr>\n",
       "  </tbody>\n",
       "</table>\n",
       "</div>"
      ],
      "text/plain": [
       "    hadm_id           charttime Heart Rate Respiratory Rate  \\\n",
       "1  20005763 2175-05-31 02:50:00         96               15   \n",
       "2  20005763 2175-05-31 03:00:00         72               10   \n",
       "3  20005763 2175-05-31 04:00:00         87               12   \n",
       "4  20005763 2175-05-31 05:00:00         67               10   \n",
       "5  20005763 2175-05-31 06:00:00         67               12   \n",
       "6  20005763 2175-05-31 07:00:00         78               13   \n",
       "7  20005763 2175-05-31 08:00:00         70                9   \n",
       "8  20005763 2175-05-31 09:00:00         62               11   \n",
       "9  20005763 2175-05-31 09:50:00       None             None   \n",
       "\n",
       "  Non Invasive Blood Pressure systolic Non Invasive Blood Pressure diastolic  \\\n",
       "1                                  122                                    66   \n",
       "2                                  124                                    69   \n",
       "3                                  118                                    58   \n",
       "4                                  105                                    51   \n",
       "5                                   95                                    68   \n",
       "6                                  105                                    78   \n",
       "7                                  105                                    69   \n",
       "8                                  122                                    62   \n",
       "9                                 None                                  None   \n",
       "\n",
       "  O2 saturation pulseoxymetry Temperature Celsius  \n",
       "1                          96                37.1  \n",
       "2                          90                None  \n",
       "3                          95                36.7  \n",
       "4                          96                None  \n",
       "5                          94                None  \n",
       "6                          94                None  \n",
       "7                          97                None  \n",
       "8                          95                36.9  \n",
       "9                        None                None  "
      ]
     },
     "execution_count": 13,
     "metadata": {},
     "output_type": "execute_result"
    }
   ],
   "source": [
    "testdf[1:10]"
   ]
  },
  {
   "cell_type": "code",
   "execution_count": 14,
   "metadata": {},
   "outputs": [
    {
     "data": {
      "text/html": [
       "<div>\n",
       "<style scoped>\n",
       "    .dataframe tbody tr th:only-of-type {\n",
       "        vertical-align: middle;\n",
       "    }\n",
       "\n",
       "    .dataframe tbody tr th {\n",
       "        vertical-align: top;\n",
       "    }\n",
       "\n",
       "    .dataframe thead th {\n",
       "        text-align: right;\n",
       "    }\n",
       "</style>\n",
       "<table border=\"1\" class=\"dataframe\">\n",
       "  <thead>\n",
       "    <tr style=\"text-align: right;\">\n",
       "      <th></th>\n",
       "      <th>Heart Rate</th>\n",
       "      <th>Respiratory Rate</th>\n",
       "      <th>Non Invasive Blood Pressure systolic</th>\n",
       "      <th>Non Invasive Blood Pressure diastolic</th>\n",
       "      <th>O2 saturation pulseoxymetry</th>\n",
       "      <th>Temperature Celsius</th>\n",
       "    </tr>\n",
       "  </thead>\n",
       "  <tbody>\n",
       "    <tr>\n",
       "      <th>2</th>\n",
       "      <td>72</td>\n",
       "      <td>10</td>\n",
       "      <td>124</td>\n",
       "      <td>69</td>\n",
       "      <td>90</td>\n",
       "      <td>None</td>\n",
       "    </tr>\n",
       "  </tbody>\n",
       "</table>\n",
       "</div>"
      ],
      "text/plain": [
       "  Heart Rate Respiratory Rate Non Invasive Blood Pressure systolic  \\\n",
       "2         72               10                                  124   \n",
       "\n",
       "  Non Invasive Blood Pressure diastolic O2 saturation pulseoxymetry  \\\n",
       "2                                    69                          90   \n",
       "\n",
       "  Temperature Celsius  \n",
       "2                None  "
      ]
     },
     "execution_count": 14,
     "metadata": {},
     "output_type": "execute_result"
    }
   ],
   "source": [
    "new_mark = (\"Heart Rate\", \\\n",
    "        \"Respiratory Rate\", \\\n",
    "        \"Non Invasive Blood Pressure systolic\", \\\n",
    "        \"Non Invasive Blood Pressure diastolic\", \\\n",
    "        \"O2 saturation pulseoxymetry\", \\\n",
    "        \"Temperature Celsius\")\n",
    "testdf[2:3][list(new_mark)]"
   ]
  },
  {
   "cell_type": "code",
   "execution_count": 15,
   "metadata": {
    "id": "6ElNsJQ3NmNi"
   },
   "outputs": [
    {
     "name": "stderr",
     "output_type": "stream",
     "text": [
      "/var/folders/bm/6f1rz86s3zg82c32tbrgx9j00000gn/T/ipykernel_6218/3897555827.py:6: FutureWarning: Dropping of nuisance columns in DataFrame reductions (with 'numeric_only=None') is deprecated; in a future version this will raise TypeError.  Select only valid columns before calling the reduction.\n",
      "  df[t:i][list(new_mark)] = df[t:i][list(new_mark)].interpolate().fillna(method='ffill').fillna(method='bfill').fillna(value=df[t:i].mean())\n",
      "/Library/Frameworks/Python.framework/Versions/3.8/lib/python3.8/site-packages/pandas/core/frame.py:3641: SettingWithCopyWarning: \n",
      "A value is trying to be set on a copy of a slice from a DataFrame.\n",
      "Try using .loc[row_indexer,col_indexer] = value instead\n",
      "\n",
      "See the caveats in the documentation: https://pandas.pydata.org/pandas-docs/stable/user_guide/indexing.html#returning-a-view-versus-a-copy\n",
      "  self[k1] = value[k2]\n"
     ]
    }
   ],
   "source": [
    "df = pandas.read_csv(\"chart_test3_merge_new.csv\", engine=\"python\", encoding=\"unicode_escape\")\n",
    "t = 0\n",
    "last_hadm_id = df.iloc[1].hadm_id\n",
    "for i in range(1, len(df)):\n",
    "    if last_hadm_id != df.iloc[i].hadm_id:\n",
    "        df[t:i][list(new_mark)] = df[t:i][list(new_mark)].interpolate().fillna(method='ffill').fillna(method='bfill').fillna(value=df[t:i].mean())\n",
    "        last_hadm_id = df.iloc[i].hadm_id\n",
    "        t = i\n",
    "# df[t:-1][list(new_mark)] = df[t:-1][list(new_mark)].interpolate().fillna(method='ffill').fillna(method='bfill').fillna(value=df[t:i].mean())\n",
    "df[:-1].to_csv(\"chart_test3_e2.csv\", float_format='%.1f', index=0)\n"
   ]
  },
  {
   "cell_type": "code",
   "execution_count": 16,
   "metadata": {
    "id": "hS74y6nLNp94"
   },
   "outputs": [
    {
     "name": "stdout",
     "output_type": "stream",
     "text": [
      "READ procedureevents.csv\n",
      "READ chart_test3_e2.csv\n"
     ]
    }
   ],
   "source": [
    "import time\n",
    "\n",
    "def read_csv_function(road: str) -> pandas.core.frame.DataFrame:\n",
    "    return pandas.read_csv(road, engine='python')\n",
    "def to_timestamp(s: str):\n",
    "    try:\n",
    "        return int(time.mktime(time.strptime(s, \"%Y-%m-%d %H:%M:%S\")))\n",
    "    except ValueError:\n",
    "        try:\n",
    "            return int(time.mktime(time.strptime(s, \"%Y-%m-%d %H:%M\")))\n",
    "        except ValueError:\n",
    "            return int(time.mktime(time.strptime(s, \"%Y/%m/%d %H:%M\")))\n",
    "\n",
    "print(\"READ procedureevents.csv\")\n",
    "df = read_csv_function(\"procedureevents.csv\")\n",
    "dic = {}\n",
    "for i, it in enumerate(df.itemid):\n",
    "    if it != 225466:\n",
    "        continue\n",
    "    if df.iloc[i].hadm_id not in dic:\n",
    "        dic[df.iloc[i].hadm_id] = list()\n",
    "    dic[df.iloc[i].hadm_id].append(to_timestamp(str(df.iloc[i].starttime)))\n",
    "\n",
    "print(\"READ\", \"chart_test3_e2.csv\")\n",
    "df = read_csv_function(\"chart_test3_e2.csv\")\n",
    "ans = [False]*len(df)\n",
    "for i in range(len(df)):\n",
    "    if int(df.iloc[i].hadm_id) in dic:\n",
    "        for j in dic[df.iloc[i].hadm_id]:\n",
    "            if 0 <= j - to_timestamp(str(df.iloc[i].charttime)) <= 14400:\n",
    "                ans[i] = True\n",
    "                break\n",
    "\n",
    "df[\"label\"] = ans\n",
    "df.to_csv(\"ANS.csv\", float_format='%.2f', index=0)"
   ]
  }
 ],
 "metadata": {
  "colab": {
   "authorship_tag": "ABX9TyOX3sUojrOkebKqz0H0NY8D",
   "collapsed_sections": [],
   "name": "吳浩瑋＿分析病人生命跡象數據_前期整理.ipynb",
   "provenance": []
  },
  "kernelspec": {
   "display_name": "venv-metal",
   "language": "python",
   "name": "venv-metal"
  },
  "language_info": {
   "codemirror_mode": {
    "name": "ipython",
    "version": 3
   },
   "file_extension": ".py",
   "mimetype": "text/x-python",
   "name": "python",
   "nbconvert_exporter": "python",
   "pygments_lexer": "ipython3",
   "version": "3.11.4"
  }
 },
 "nbformat": 4,
 "nbformat_minor": 4
}
