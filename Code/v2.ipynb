{
 "cells": [
  {
   "cell_type": "code",
   "execution_count": 15,
   "metadata": {
    "executionInfo": {
     "elapsed": 1640,
     "status": "ok",
     "timestamp": 1635182471146,
     "user": {
      "displayName": "吳浩瑋",
      "photoUrl": "https://lh3.googleusercontent.com/a-/AOh14Gg1JVKOVvYXKwQf9nIC3P0NkNRIcFeYbZaYyftCfQ=s64",
      "userId": "11302229288605057867"
     },
     "user_tz": -480
    },
    "id": "qyM0gIy4lEK1"
   },
   "outputs": [],
   "source": [
    "import pandas\n",
    "from imblearn.under_sampling import RandomUnderSampler\n",
    "from sklearn.model_selection import train_test_split"
   ]
  },
  {
   "cell_type": "code",
   "execution_count": 16,
   "metadata": {},
   "outputs": [],
   "source": [
    "L = [f\"../Data/Big/chartevents_20230706_{i}_labeled.csv\" for i in range(330)]"
   ]
  },
  {
   "cell_type": "code",
   "execution_count": 17,
   "metadata": {},
   "outputs": [
    {
     "name": "stdout",
     "output_type": "stream",
     "text": [
      "<class 'pandas.core.frame.DataFrame'>\n",
      "RangeIndex: 6463400 entries, 0 to 6463399\n",
      "Data columns (total 9 columns):\n",
      " #   Column                                 Dtype  \n",
      "---  ------                                 -----  \n",
      " 0   hadm_id                                object \n",
      " 1   charttime                              object \n",
      " 2   Heart Rate                             float64\n",
      " 3   Respiratory Rate                       float64\n",
      " 4   Non Invasive Blood Pressure systolic   float64\n",
      " 5   Non Invasive Blood Pressure diastolic  float64\n",
      " 6   O2 saturation pulseoxymetry            float64\n",
      " 7   Temperature Celsius                    float64\n",
      " 8   label                                  bool   \n",
      "dtypes: bool(1), float64(6), object(2)\n",
      "memory usage: 400.7+ MB\n"
     ]
    }
   ],
   "source": [
    "df = pandas.concat((pandas.read_csv(i, engine='python', dtype={\"label\":bool}) for i in L), ignore_index=True)\n",
    "df.info()"
   ]
  },
  {
   "cell_type": "code",
   "execution_count": 18,
   "metadata": {
    "executionInfo": {
     "elapsed": 6,
     "status": "ok",
     "timestamp": 1635182472522,
     "user": {
      "displayName": "吳浩瑋",
      "photoUrl": "https://lh3.googleusercontent.com/a-/AOh14Gg1JVKOVvYXKwQf9nIC3P0NkNRIcFeYbZaYyftCfQ=s64",
      "userId": "11302229288605057867"
     },
     "user_tz": -480
    },
    "id": "q5wgiB16JxhF"
   },
   "outputs": [],
   "source": [
    "mark = (\"Heart Rate\", \\\n",
    "        \"Respiratory Rate\", \\\n",
    "        \"Non Invasive Blood Pressure systolic\", \\\n",
    "        \"Non Invasive Blood Pressure diastolic\", \\\n",
    "        \"O2 saturation pulseoxymetry\", \\\n",
    "        \"Temperature Celsius\")\n",
    "df.dropna(how='any', inplace=True)\n",
    "df_under, df_under_label = df[list(mark)], df.label"
   ]
  },
  {
   "cell_type": "code",
   "execution_count": 19,
   "metadata": {
    "colab": {
     "base_uri": "https://localhost:8080/"
    },
    "executionInfo": {
     "elapsed": 409,
     "status": "ok",
     "timestamp": 1635182305355,
     "user": {
      "displayName": "吳浩瑋",
      "photoUrl": "https://lh3.googleusercontent.com/a-/AOh14Gg1JVKOVvYXKwQf9nIC3P0NkNRIcFeYbZaYyftCfQ=s64",
      "userId": "11302229288605057867"
     },
     "user_tz": -480
    },
    "id": "usjC-uR4e35U",
    "outputId": "c868973d-198c-4c64-bcae-9c9e04fd06df",
    "scrolled": true
   },
   "outputs": [
    {
     "name": "stdout",
     "output_type": "stream",
     "text": [
      "Before\t 0.0007234156171054704\n",
      "After \t 0.5\n"
     ]
    }
   ],
   "source": [
    "print(\"Before\\t\", sum(df_under_label) / len(df_under_label))\n",
    "df_under_resample, df_under_label_resample = RandomUnderSampler(sampling_strategy='majority').fit_resample(df_under, df_under_label)\n",
    "print(\"After \\t\", sum(df_under_label_resample) / len(df_under_label_resample))"
   ]
  },
  {
   "cell_type": "code",
   "execution_count": 20,
   "metadata": {
    "executionInfo": {
     "elapsed": 7,
     "status": "ok",
     "timestamp": 1635179557901,
     "user": {
      "displayName": "吳浩瑋",
      "photoUrl": "https://lh3.googleusercontent.com/a-/AOh14Gg1JVKOVvYXKwQf9nIC3P0NkNRIcFeYbZaYyftCfQ=s64",
      "userId": "11302229288605057867"
     },
     "user_tz": -480
    },
    "id": "GIuK6ZtheuiI"
   },
   "outputs": [
    {
     "data": {
      "text/html": [
       "<div>\n",
       "<style scoped>\n",
       "    .dataframe tbody tr th:only-of-type {\n",
       "        vertical-align: middle;\n",
       "    }\n",
       "\n",
       "    .dataframe tbody tr th {\n",
       "        vertical-align: top;\n",
       "    }\n",
       "\n",
       "    .dataframe thead th {\n",
       "        text-align: right;\n",
       "    }\n",
       "</style>\n",
       "<table border=\"1\" class=\"dataframe\">\n",
       "  <thead>\n",
       "    <tr style=\"text-align: right;\">\n",
       "      <th></th>\n",
       "      <th>Heart Rate</th>\n",
       "      <th>Respiratory Rate</th>\n",
       "      <th>Non Invasive Blood Pressure systolic</th>\n",
       "      <th>Non Invasive Blood Pressure diastolic</th>\n",
       "      <th>O2 saturation pulseoxymetry</th>\n",
       "      <th>Temperature Celsius</th>\n",
       "    </tr>\n",
       "  </thead>\n",
       "  <tbody>\n",
       "    <tr>\n",
       "      <th>1684</th>\n",
       "      <td>1.107194</td>\n",
       "      <td>0.429822</td>\n",
       "      <td>0.173091</td>\n",
       "      <td>0.254299</td>\n",
       "      <td>0.448542</td>\n",
       "      <td>0.005624</td>\n",
       "    </tr>\n",
       "    <tr>\n",
       "      <th>410</th>\n",
       "      <td>-1.212618</td>\n",
       "      <td>0.034630</td>\n",
       "      <td>0.399204</td>\n",
       "      <td>-1.284322</td>\n",
       "      <td>-0.382560</td>\n",
       "      <td>-0.340937</td>\n",
       "    </tr>\n",
       "    <tr>\n",
       "      <th>1242</th>\n",
       "      <td>-0.200336</td>\n",
       "      <td>-0.228832</td>\n",
       "      <td>-1.485067</td>\n",
       "      <td>-0.515012</td>\n",
       "      <td>0.448542</td>\n",
       "      <td>-0.837676</td>\n",
       "    </tr>\n",
       "    <tr>\n",
       "      <th>490</th>\n",
       "      <td>-0.284693</td>\n",
       "      <td>-0.228832</td>\n",
       "      <td>-0.392190</td>\n",
       "      <td>-0.789766</td>\n",
       "      <td>0.032991</td>\n",
       "      <td>-0.063688</td>\n",
       "    </tr>\n",
       "    <tr>\n",
       "      <th>218</th>\n",
       "      <td>0.685410</td>\n",
       "      <td>-0.360563</td>\n",
       "      <td>-0.618302</td>\n",
       "      <td>-1.559076</td>\n",
       "      <td>0.448542</td>\n",
       "      <td>0.167353</td>\n",
       "    </tr>\n",
       "  </tbody>\n",
       "</table>\n",
       "</div>"
      ],
      "text/plain": [
       "      Heart Rate  Respiratory Rate  Non Invasive Blood Pressure systolic  \\\n",
       "1684    1.107194          0.429822                              0.173091   \n",
       "410    -1.212618          0.034630                              0.399204   \n",
       "1242   -0.200336         -0.228832                             -1.485067   \n",
       "490    -0.284693         -0.228832                             -0.392190   \n",
       "218     0.685410         -0.360563                             -0.618302   \n",
       "\n",
       "      Non Invasive Blood Pressure diastolic  O2 saturation pulseoxymetry  \\\n",
       "1684                               0.254299                     0.448542   \n",
       "410                               -1.284322                    -0.382560   \n",
       "1242                              -0.515012                     0.448542   \n",
       "490                               -0.789766                     0.032991   \n",
       "218                               -1.559076                     0.448542   \n",
       "\n",
       "      Temperature Celsius  \n",
       "1684             0.005624  \n",
       "410             -0.340937  \n",
       "1242            -0.837676  \n",
       "490             -0.063688  \n",
       "218              0.167353  "
      ]
     },
     "execution_count": 20,
     "metadata": {},
     "output_type": "execute_result"
    }
   ],
   "source": [
    "df_under_resample = (df_under_resample - df_under_resample.mean()) / df_under_resample.std()\n",
    "df_under_resample.sample(5)"
   ]
  },
  {
   "cell_type": "code",
   "execution_count": 21,
   "metadata": {
    "executionInfo": {
     "elapsed": 7,
     "status": "ok",
     "timestamp": 1635179557901,
     "user": {
      "displayName": "吳浩瑋",
      "photoUrl": "https://lh3.googleusercontent.com/a-/AOh14Gg1JVKOVvYXKwQf9nIC3P0NkNRIcFeYbZaYyftCfQ=s64",
      "userId": "11302229288605057867"
     },
     "user_tz": -480
    },
    "id": "RpQvLocQbgrT"
   },
   "outputs": [
    {
     "data": {
      "text/plain": [
       "(1521, 381)"
      ]
     },
     "execution_count": 21,
     "metadata": {},
     "output_type": "execute_result"
    }
   ],
   "source": [
    "X_train, X_test, y_train, y_test = train_test_split(df_under_resample, df_under_label_resample, test_size=0.2, stratify=df_under_label_resample)\n",
    "len(X_train), len(X_test)"
   ]
  },
  {
   "cell_type": "code",
   "execution_count": 22,
   "metadata": {
    "executionInfo": {
     "elapsed": 6,
     "status": "ok",
     "timestamp": 1635179557901,
     "user": {
      "displayName": "吳浩瑋",
      "photoUrl": "https://lh3.googleusercontent.com/a-/AOh14Gg1JVKOVvYXKwQf9nIC3P0NkNRIcFeYbZaYyftCfQ=s64",
      "userId": "11302229288605057867"
     },
     "user_tz": -480
    },
    "id": "i0ILtnLHU7Ss"
   },
   "outputs": [
    {
     "data": {
      "text/plain": [
       "[Text(0.5, 0.875, 'x[4] <= -0.435\\ngini = 0.5\\nsamples = 1521\\nvalue = [760, 761]'),\n",
       " Text(0.25, 0.625, 'x[4] <= -0.954\\ngini = 0.199\\nsamples = 170\\nvalue = [19, 151]'),\n",
       " Text(0.125, 0.375, 'x[0] <= 0.706\\ngini = 0.088\\nsamples = 108\\nvalue = [5, 103]'),\n",
       " Text(0.0625, 0.125, 'gini = 0.146\\nsamples = 63\\nvalue = [5, 58]'),\n",
       " Text(0.1875, 0.125, 'gini = 0.0\\nsamples = 45\\nvalue = [0, 45]'),\n",
       " Text(0.375, 0.375, 'x[1] <= 0.496\\ngini = 0.35\\nsamples = 62\\nvalue = [14, 48]'),\n",
       " Text(0.3125, 0.125, 'gini = 0.461\\nsamples = 36\\nvalue = [13, 23]'),\n",
       " Text(0.4375, 0.125, 'gini = 0.074\\nsamples = 26\\nvalue = [1, 25]'),\n",
       " Text(0.75, 0.625, 'x[2] <= -0.863\\ngini = 0.495\\nsamples = 1351\\nvalue = [741, 610]'),\n",
       " Text(0.625, 0.375, 'x[5] <= -0.116\\ngini = 0.394\\nsamples = 189\\nvalue = [51, 138]'),\n",
       " Text(0.5625, 0.125, 'gini = 0.261\\nsamples = 123\\nvalue = [19, 104]'),\n",
       " Text(0.6875, 0.125, 'gini = 0.5\\nsamples = 66\\nvalue = [32, 34]'),\n",
       " Text(0.875, 0.375, 'x[0] <= 0.833\\ngini = 0.482\\nsamples = 1162\\nvalue = [690, 472]'),\n",
       " Text(0.8125, 0.125, 'gini = 0.462\\nsamples = 978\\nvalue = [623, 355]'),\n",
       " Text(0.9375, 0.125, 'gini = 0.463\\nsamples = 184\\nvalue = [67, 117]')]"
      ]
     },
     "execution_count": 22,
     "metadata": {},
     "output_type": "execute_result"
    },
    {
     "data": {
      "image/png": "[encoded data removed]",
      "text/plain": [
       "<Figure size 640x480 with 1 Axes>"
      ]
     },
     "metadata": {},
     "output_type": "display_data"
    }
   ],
   "source": [
    "from sklearn import tree\n",
    "model = tree.DecisionTreeClassifier(max_depth=3)\n",
    "model = model.fit(X_train, y_train)\n",
    "tree.plot_tree(model)"
   ]
  },
  {
   "cell_type": "code",
   "execution_count": 23,
   "metadata": {
    "executionInfo": {
     "elapsed": 11,
     "status": "ok",
     "timestamp": 1635179558544,
     "user": {
      "displayName": "吳浩瑋",
      "photoUrl": "https://lh3.googleusercontent.com/a-/AOh14Gg1JVKOVvYXKwQf9nIC3P0NkNRIcFeYbZaYyftCfQ=s64",
      "userId": "11302229288605057867"
     },
     "user_tz": -480
    },
    "id": "w_kuGXYYPkxC"
   },
   "outputs": [
    {
     "data": {
      "text/plain": [
       "'../Charts/Big.pdf'"
      ]
     },
     "execution_count": 23,
     "metadata": {},
     "output_type": "execute_result"
    }
   ],
   "source": [
    "from graphviz import Source\n",
    "features = list(mark)\n",
    "dot_data = tree.export_graphviz(model, feature_names=features)\n",
    "graph = Source(dot_data)\n",
    "graph.render(view=True, format=\"pdf\", filename=\"../Charts/Big\")"
   ]
  },
  {
   "cell_type": "code",
   "execution_count": 24,
   "metadata": {
    "colab": {
     "base_uri": "https://localhost:8080/"
    },
    "executionInfo": {
     "elapsed": 11,
     "status": "ok",
     "timestamp": 1635179558545,
     "user": {
      "displayName": "吳浩瑋",
      "photoUrl": "https://lh3.googleusercontent.com/a-/AOh14Gg1JVKOVvYXKwQf9nIC3P0NkNRIcFeYbZaYyftCfQ=s64",
      "userId": "11302229288605057867"
     },
     "user_tz": -480
    },
    "id": "LltaFCZYXpyN",
    "outputId": "b03268a3-5d41-426f-eea0-3e0ae936144e"
   },
   "outputs": [
    {
     "data": {
      "text/plain": [
       "0.7007874015748031"
      ]
     },
     "execution_count": 24,
     "metadata": {},
     "output_type": "execute_result"
    }
   ],
   "source": [
    "model.score(X_test, y_test)"
   ]
  },
  {
   "cell_type": "code",
   "execution_count": 25,
   "metadata": {
    "executionInfo": {
     "elapsed": 8,
     "status": "ok",
     "timestamp": 1635179558545,
     "user": {
      "displayName": "吳浩瑋",
      "photoUrl": "https://lh3.googleusercontent.com/a-/AOh14Gg1JVKOVvYXKwQf9nIC3P0NkNRIcFeYbZaYyftCfQ=s64",
      "userId": "11302229288605057867"
     },
     "user_tz": -480
    },
    "id": "x0eNn6_8QEUz"
   },
   "outputs": [],
   "source": [
    "from sklearn.model_selection import cross_val_score\n",
    "from sklearn.model_selection import KFold,StratifiedKFold"
   ]
  },
  {
   "cell_type": "code",
   "execution_count": 29,
   "metadata": {
    "colab": {
     "base_uri": "https://localhost:8080/"
    },
    "executionInfo": {
     "elapsed": 3299,
     "status": "ok",
     "timestamp": 1635179561837,
     "user": {
      "displayName": "吳浩瑋",
      "photoUrl": "https://lh3.googleusercontent.com/a-/AOh14Gg1JVKOVvYXKwQf9nIC3P0NkNRIcFeYbZaYyftCfQ=s64",
      "userId": "11302229288605057867"
     },
     "user_tz": -480
    },
    "id": "7vZJ12XLmSd1",
    "outputId": "56ebf06e-accd-4645-defd-48703c28283e"
   },
   "outputs": [
    {
     "name": "stdout",
     "output_type": "stream",
     "text": [
      "63.81%\n"
     ]
    }
   ],
   "source": [
    "scores = 0\n",
    "for i in range(100):\n",
    "    scores += cross_val_score(model, X_test, y_test, cv=5, scoring='accuracy').mean()\n",
    "print(f\"{round(scores, 2)}%\")"
   ]
  },
  {
   "cell_type": "code",
   "execution_count": 32,
   "metadata": {},
   "outputs": [
    {
     "data": {
      "text/plain": [
       "0.6009241607956901"
      ]
     },
     "execution_count": 32,
     "metadata": {},
     "output_type": "execute_result"
    }
   ],
   "source": [
    "cross_val_score(tree.DecisionTreeClassifier(max_depth=3), df_under_resample, df_under_label_resample, cv=5, scoring='accuracy').mean()"
   ]
  },
  {
   "cell_type": "code",
   "execution_count": null,
   "metadata": {},
   "outputs": [],
   "source": []
  }
 ],
 "metadata": {
  "colab": {
   "authorship_tag": "ABX9TyNjppjSf9ZciIx0y8D5LG3F",
   "collapsed_sections": [],
   "name": "吳浩瑋＿分析病人生命跡象數據_建樹.ipynb",
   "provenance": []
  },
  "kernelspec": {
   "display_name": "venv-metal",
   "language": "python",
   "name": "venv-metal"
  },
  "language_info": {
   "codemirror_mode": {
    "name": "ipython",
    "version": 3
   },
   "file_extension": ".py",
   "mimetype": "text/x-python",
   "name": "python",
   "nbconvert_exporter": "python",
   "pygments_lexer": "ipython3",
   "version": "3.11.4"
  }
 },
 "nbformat": 4,
 "nbformat_minor": 1
}
