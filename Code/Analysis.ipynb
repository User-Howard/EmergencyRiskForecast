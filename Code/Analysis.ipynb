{
 "cells": [
  {
   "cell_type": "code",
   "execution_count": 57,
   "metadata": {
    "executionInfo": {
     "elapsed": 1640,
     "status": "ok",
     "timestamp": 1635182471146,
     "user": {
      "displayName": "吳浩瑋",
      "photoUrl": "https://lh3.googleusercontent.com/a-/AOh14Gg1JVKOVvYXKwQf9nIC3P0NkNRIcFeYbZaYyftCfQ=s64",
      "userId": "11302229288605057867"
     },
     "user_tz": -480
    },
    "id": "qyM0gIy4lEK1"
   },
   "outputs": [],
   "source": [
    "import pandas\n",
    "from imblearn.under_sampling import RandomUnderSampler\n",
    "import datetime"
   ]
  },
  {
   "cell_type": "code",
   "execution_count": 58,
   "metadata": {},
   "outputs": [],
   "source": [
    "FILENAME = '20230706_2e+07'"
   ]
  },
  {
   "cell_type": "code",
   "execution_count": 59,
   "metadata": {},
   "outputs": [
    {
     "name": "stdout",
     "output_type": "stream",
     "text": [
      "<class 'pandas.core.frame.DataFrame'>\n",
      "RangeIndex: 827399 entries, 0 to 827398\n",
      "Data columns (total 9 columns):\n",
      " #   Column                                 Non-Null Count   Dtype  \n",
      "---  ------                                 --------------   -----  \n",
      " 0   hadm_id                                827399 non-null  int64  \n",
      " 1   charttime                              827399 non-null  object \n",
      " 2   Heart Rate                             827399 non-null  float64\n",
      " 3   Respiratory Rate                       827355 non-null  float64\n",
      " 4   Non Invasive Blood Pressure systolic   821804 non-null  float64\n",
      " 5   Non Invasive Blood Pressure diastolic  821784 non-null  float64\n",
      " 6   O2 saturation pulseoxymetry            827360 non-null  float64\n",
      " 7   Temperature Celsius                    826287 non-null  float64\n",
      " 8   label                                  827399 non-null  bool   \n",
      "dtypes: bool(1), float64(6), int64(1), object(1)\n",
      "memory usage: 51.3+ MB\n"
     ]
    }
   ],
   "source": [
    "df = pandas.read_csv(f\"../Data/Preprocessed/chartevents_{FILENAME}_labeled.csv\", engine='python')\n",
    "df.info()"
   ]
  },
  {
   "cell_type": "code",
   "execution_count": 60,
   "metadata": {
    "executionInfo": {
     "elapsed": 6,
     "status": "ok",
     "timestamp": 1635182472522,
     "user": {
      "displayName": "吳浩瑋",
      "photoUrl": "https://lh3.googleusercontent.com/a-/AOh14Gg1JVKOVvYXKwQf9nIC3P0NkNRIcFeYbZaYyftCfQ=s64",
      "userId": "11302229288605057867"
     },
     "user_tz": -480
    },
    "id": "q5wgiB16JxhF"
   },
   "outputs": [],
   "source": [
    "mark = (\"Heart Rate\", \\\n",
    "        \"Respiratory Rate\", \\\n",
    "        \"Non Invasive Blood Pressure systolic\", \\\n",
    "        \"Non Invasive Blood Pressure diastolic\", \\\n",
    "        \"O2 saturation pulseoxymetry\", \\\n",
    "        \"Temperature Celsius\")\n",
    "df.dropna(inplace=True)\n",
    "df_under, df_under_label = df[list(mark)], df.label"
   ]
  },
  {
   "cell_type": "code",
   "execution_count": 61,
   "metadata": {
    "colab": {
     "base_uri": "https://localhost:8080/"
    },
    "executionInfo": {
     "elapsed": 409,
     "status": "ok",
     "timestamp": 1635182305355,
     "user": {
      "displayName": "吳浩瑋",
      "photoUrl": "https://lh3.googleusercontent.com/a-/AOh14Gg1JVKOVvYXKwQf9nIC3P0NkNRIcFeYbZaYyftCfQ=s64",
      "userId": "11302229288605057867"
     },
     "user_tz": -480
    },
    "id": "usjC-uR4e35U",
    "outputId": "c868973d-198c-4c64-bcae-9c9e04fd06df",
    "scrolled": true
   },
   "outputs": [
    {
     "name": "stdout",
     "output_type": "stream",
     "text": [
      "Before\t 0.0002814564089817492\n",
      "After \t 0.5\n"
     ]
    }
   ],
   "source": [
    "print(\"Before\\t\", sum(df_under_label) / len(df_under_label))\n",
    "df_under_resample, df_under_label_resample = RandomUnderSampler(sampling_strategy='majority').fit_resample(df_under, df_under_label)\n",
    "print(\"After \\t\", sum(df_under_label_resample) / len(df_under_label_resample))"
   ]
  },
  {
   "cell_type": "code",
   "execution_count": 62,
   "metadata": {},
   "outputs": [
    {
     "data": {
      "text/plain": [
       "231"
      ]
     },
     "execution_count": 62,
     "metadata": {},
     "output_type": "execute_result"
    }
   ],
   "source": [
    "sum(df_under_label)"
   ]
  },
  {
   "cell_type": "code",
   "execution_count": 63,
   "metadata": {
    "executionInfo": {
     "elapsed": 7,
     "status": "ok",
     "timestamp": 1635179557901,
     "user": {
      "displayName": "吳浩瑋",
      "photoUrl": "https://lh3.googleusercontent.com/a-/AOh14Gg1JVKOVvYXKwQf9nIC3P0NkNRIcFeYbZaYyftCfQ=s64",
      "userId": "11302229288605057867"
     },
     "user_tz": -480
    },
    "id": "GIuK6ZtheuiI"
   },
   "outputs": [],
   "source": [
    "df_under_resample = (df_under_resample - df_under_resample.mean()) / df_under_resample.std()\n",
    "# df_under_resample"
   ]
  },
  {
   "cell_type": "code",
   "execution_count": 64,
   "metadata": {
    "colab": {
     "base_uri": "https://localhost:8080/"
    },
    "executionInfo": {
     "elapsed": 415,
     "status": "ok",
     "timestamp": 1635182454770,
     "user": {
      "displayName": "吳浩瑋",
      "photoUrl": "https://lh3.googleusercontent.com/a-/AOh14Gg1JVKOVvYXKwQf9nIC3P0NkNRIcFeYbZaYyftCfQ=s64",
      "userId": "11302229288605057867"
     },
     "user_tz": -480
    },
    "id": "mwl4adV6YBEb",
    "outputId": "553a5138-75ae-468e-fc2b-7e138829aeb8"
   },
   "outputs": [
    {
     "data": {
      "text/html": [
       "<div>\n",
       "<style scoped>\n",
       "    .dataframe tbody tr th:only-of-type {\n",
       "        vertical-align: middle;\n",
       "    }\n",
       "\n",
       "    .dataframe tbody tr th {\n",
       "        vertical-align: top;\n",
       "    }\n",
       "\n",
       "    .dataframe thead th {\n",
       "        text-align: right;\n",
       "    }\n",
       "</style>\n",
       "<table border=\"1\" class=\"dataframe\">\n",
       "  <thead>\n",
       "    <tr style=\"text-align: right;\">\n",
       "      <th></th>\n",
       "      <th>Heart Rate</th>\n",
       "      <th>Respiratory Rate</th>\n",
       "      <th>Non Invasive Blood Pressure systolic</th>\n",
       "      <th>Non Invasive Blood Pressure diastolic</th>\n",
       "      <th>O2 saturation pulseoxymetry</th>\n",
       "      <th>Temperature Celsius</th>\n",
       "    </tr>\n",
       "  </thead>\n",
       "  <tbody>\n",
       "    <tr>\n",
       "      <th>45</th>\n",
       "      <td>-0.231914</td>\n",
       "      <td>-1.089420</td>\n",
       "      <td>0.017353</td>\n",
       "      <td>-0.214341</td>\n",
       "      <td>0.289502</td>\n",
       "      <td>0.108940</td>\n",
       "    </tr>\n",
       "    <tr>\n",
       "      <th>361</th>\n",
       "      <td>2.002896</td>\n",
       "      <td>-0.489704</td>\n",
       "      <td>-0.279577</td>\n",
       "      <td>-0.372277</td>\n",
       "      <td>0.289502</td>\n",
       "      <td>0.391032</td>\n",
       "    </tr>\n",
       "    <tr>\n",
       "      <th>394</th>\n",
       "      <td>0.021083</td>\n",
       "      <td>-0.789562</td>\n",
       "      <td>-1.335329</td>\n",
       "      <td>-1.109310</td>\n",
       "      <td>-0.911846</td>\n",
       "      <td>0.014909</td>\n",
       "    </tr>\n",
       "    <tr>\n",
       "      <th>139</th>\n",
       "      <td>0.569244</td>\n",
       "      <td>-0.039916</td>\n",
       "      <td>1.238066</td>\n",
       "      <td>1.522952</td>\n",
       "      <td>0.289502</td>\n",
       "      <td>0.155955</td>\n",
       "    </tr>\n",
       "    <tr>\n",
       "      <th>422</th>\n",
       "      <td>0.021083</td>\n",
       "      <td>0.259942</td>\n",
       "      <td>-0.312569</td>\n",
       "      <td>0.733273</td>\n",
       "      <td>0.289502</td>\n",
       "      <td>0.297001</td>\n",
       "    </tr>\n",
       "  </tbody>\n",
       "</table>\n",
       "</div>"
      ],
      "text/plain": [
       "     Heart Rate  Respiratory Rate  Non Invasive Blood Pressure systolic  \\\n",
       "45    -0.231914         -1.089420                              0.017353   \n",
       "361    2.002896         -0.489704                             -0.279577   \n",
       "394    0.021083         -0.789562                             -1.335329   \n",
       "139    0.569244         -0.039916                              1.238066   \n",
       "422    0.021083          0.259942                             -0.312569   \n",
       "\n",
       "     Non Invasive Blood Pressure diastolic  O2 saturation pulseoxymetry  \\\n",
       "45                               -0.214341                     0.289502   \n",
       "361                              -0.372277                     0.289502   \n",
       "394                              -1.109310                    -0.911846   \n",
       "139                               1.522952                     0.289502   \n",
       "422                               0.733273                     0.289502   \n",
       "\n",
       "     Temperature Celsius  \n",
       "45              0.108940  \n",
       "361             0.391032  \n",
       "394             0.014909  \n",
       "139             0.155955  \n",
       "422             0.297001  "
      ]
     },
     "execution_count": 64,
     "metadata": {},
     "output_type": "execute_result"
    }
   ],
   "source": [
    "df_under_resample.sample(5)"
   ]
  },
  {
   "cell_type": "code",
   "execution_count": 65,
   "metadata": {
    "colab": {
     "base_uri": "https://localhost:8080/"
    },
    "executionInfo": {
     "elapsed": 399,
     "status": "ok",
     "timestamp": 1635180861780,
     "user": {
      "displayName": "吳浩瑋",
      "photoUrl": "https://lh3.googleusercontent.com/a-/AOh14Gg1JVKOVvYXKwQf9nIC3P0NkNRIcFeYbZaYyftCfQ=s64",
      "userId": "11302229288605057867"
     },
     "user_tz": -480
    },
    "id": "pjhzE-iOWdgB",
    "outputId": "3f616a4f-f6f6-42c5-dc10-c906305f8b49",
    "scrolled": true
   },
   "outputs": [
    {
     "data": {
      "text/plain": [
       "Heart Rate                               1.0\n",
       "Respiratory Rate                         1.0\n",
       "Non Invasive Blood Pressure systolic     1.0\n",
       "Non Invasive Blood Pressure diastolic    1.0\n",
       "O2 saturation pulseoxymetry              1.0\n",
       "Temperature Celsius                      1.0\n",
       "dtype: float64"
      ]
     },
     "execution_count": 65,
     "metadata": {},
     "output_type": "execute_result"
    }
   ],
   "source": [
    "df_under_resample.std()"
   ]
  },
  {
   "cell_type": "code",
   "execution_count": 66,
   "metadata": {
    "colab": {
     "base_uri": "https://localhost:8080/"
    },
    "executionInfo": {
     "elapsed": 511,
     "status": "ok",
     "timestamp": 1635180864045,
     "user": {
      "displayName": "吳浩瑋",
      "photoUrl": "https://lh3.googleusercontent.com/a-/AOh14Gg1JVKOVvYXKwQf9nIC3P0NkNRIcFeYbZaYyftCfQ=s64",
      "userId": "11302229288605057867"
     },
     "user_tz": -480
    },
    "id": "GMD1Q3cJXfee",
    "outputId": "2e2ce1f6-359d-466b-f735-41f684630578"
   },
   "outputs": [
    {
     "data": {
      "text/plain": [
       "Heart Rate                              -1.537971e-17\n",
       "Respiratory Rate                        -2.460754e-16\n",
       "Non Invasive Blood Pressure systolic    -1.230377e-16\n",
       "Non Invasive Blood Pressure diastolic    1.115029e-16\n",
       "O2 saturation pulseoxymetry             -5.229102e-16\n",
       "Temperature Celsius                     -9.458523e-16\n",
       "dtype: float64"
      ]
     },
     "execution_count": 66,
     "metadata": {},
     "output_type": "execute_result"
    }
   ],
   "source": [
    "df_under_resample.mean()"
   ]
  },
  {
   "cell_type": "code",
   "execution_count": 67,
   "metadata": {
    "executionInfo": {
     "elapsed": 7,
     "status": "ok",
     "timestamp": 1635179557901,
     "user": {
      "displayName": "吳浩瑋",
      "photoUrl": "https://lh3.googleusercontent.com/a-/AOh14Gg1JVKOVvYXKwQf9nIC3P0NkNRIcFeYbZaYyftCfQ=s64",
      "userId": "11302229288605057867"
     },
     "user_tz": -480
    },
    "id": "RpQvLocQbgrT"
   },
   "outputs": [],
   "source": [
    "from sklearn.model_selection import train_test_split\n",
    "X_train, X_test, y_train, y_test = train_test_split(df_under_resample, df_under_label_resample, test_size=0.2, stratify=df_under_label_resample)"
   ]
  },
  {
   "cell_type": "code",
   "execution_count": 68,
   "metadata": {
    "executionInfo": {
     "elapsed": 6,
     "status": "ok",
     "timestamp": 1635179557901,
     "user": {
      "displayName": "吳浩瑋",
      "photoUrl": "https://lh3.googleusercontent.com/a-/AOh14Gg1JVKOVvYXKwQf9nIC3P0NkNRIcFeYbZaYyftCfQ=s64",
      "userId": "11302229288605057867"
     },
     "user_tz": -480
    },
    "id": "i0ILtnLHU7Ss"
   },
   "outputs": [],
   "source": [
    "from sklearn import tree\n",
    "model = tree.DecisionTreeClassifier(max_depth=3)\n",
    "model = model.fit(X_train, y_train)"
   ]
  },
  {
   "cell_type": "code",
   "execution_count": 69,
   "metadata": {
    "colab": {
     "base_uri": "https://localhost:8080/",
     "height": 469
    },
    "executionInfo": {
     "elapsed": 648,
     "status": "ok",
     "timestamp": 1635179558543,
     "user": {
      "displayName": "吳浩瑋",
      "photoUrl": "https://lh3.googleusercontent.com/a-/AOh14Gg1JVKOVvYXKwQf9nIC3P0NkNRIcFeYbZaYyftCfQ=s64",
      "userId": "11302229288605057867"
     },
     "user_tz": -480
    },
    "id": "lRtUhZ8RWW1r",
    "outputId": "80a4b9f6-b07a-4330-fa1a-73810efdd6f2"
   },
   "outputs": [
    {
     "data": {
      "text/plain": [
       "[Text(0.5, 0.875, 'x[2] <= -0.725\\ngini = 0.5\\nsamples = 369\\nvalue = [185, 184]'),\n",
       " Text(0.25, 0.625, 'x[5] <= 0.121\\ngini = 0.236\\nsamples = 88\\nvalue = [12, 76]'),\n",
       " Text(0.125, 0.375, 'x[4] <= 0.34\\ngini = 0.065\\nsamples = 59\\nvalue = [2, 57]'),\n",
       " Text(0.0625, 0.125, 'gini = 0.0\\nsamples = 50\\nvalue = [0, 50]'),\n",
       " Text(0.1875, 0.125, 'gini = 0.346\\nsamples = 9\\nvalue = [2, 7]'),\n",
       " Text(0.375, 0.375, 'x[2] <= -0.989\\ngini = 0.452\\nsamples = 29\\nvalue = [10, 19]'),\n",
       " Text(0.3125, 0.125, 'gini = 0.18\\nsamples = 20\\nvalue = [2, 18]'),\n",
       " Text(0.4375, 0.125, 'gini = 0.198\\nsamples = 9\\nvalue = [8, 1]'),\n",
       " Text(0.75, 0.625, 'x[0] <= 1.054\\ngini = 0.473\\nsamples = 281\\nvalue = [173, 108]'),\n",
       " Text(0.625, 0.375, 'x[5] <= -0.114\\ngini = 0.437\\nsamples = 245\\nvalue = [166, 79]'),\n",
       " Text(0.5625, 0.125, 'gini = 0.33\\nsamples = 24\\nvalue = [5, 19]'),\n",
       " Text(0.6875, 0.125, 'gini = 0.396\\nsamples = 221\\nvalue = [161, 60]'),\n",
       " Text(0.875, 0.375, 'x[0] <= 1.687\\ngini = 0.313\\nsamples = 36\\nvalue = [7, 29]'),\n",
       " Text(0.8125, 0.125, 'gini = 0.444\\nsamples = 21\\nvalue = [7, 14]'),\n",
       " Text(0.9375, 0.125, 'gini = 0.0\\nsamples = 15\\nvalue = [0, 15]')]"
      ]
     },
     "execution_count": 69,
     "metadata": {},
     "output_type": "execute_result"
    },
    {
     "data": {
      "image/png": "[encoded data removed]",
      "text/plain": [
       "<Figure size 640x480 with 1 Axes>"
      ]
     },
     "metadata": {},
     "output_type": "display_data"
    }
   ],
   "source": [
    "tree.plot_tree(model)"
   ]
  },
  {
   "cell_type": "code",
   "execution_count": 70,
   "metadata": {
    "executionInfo": {
     "elapsed": 11,
     "status": "ok",
     "timestamp": 1635179558544,
     "user": {
      "displayName": "吳浩瑋",
      "photoUrl": "https://lh3.googleusercontent.com/a-/AOh14Gg1JVKOVvYXKwQf9nIC3P0NkNRIcFeYbZaYyftCfQ=s64",
      "userId": "11302229288605057867"
     },
     "user_tz": -480
    },
    "id": "w_kuGXYYPkxC"
   },
   "outputs": [],
   "source": [
    "import graphviz\n",
    "from graphviz import Digraph, Source\n",
    "features = list(mark)\n",
    "dot_data = tree.export_graphviz(model, feature_names=features)\n",
    "graph = Source(dot_data)"
   ]
  },
  {
   "cell_type": "code",
   "execution_count": 71,
   "metadata": {
    "colab": {
     "base_uri": "https://localhost:8080/",
     "height": 168
    },
    "executionInfo": {
     "elapsed": 1155,
     "status": "error",
     "timestamp": 1635263426781,
     "user": {
      "displayName": "吳浩瑋",
      "photoUrl": "https://lh3.googleusercontent.com/a-/AOh14Gg1JVKOVvYXKwQf9nIC3P0NkNRIcFeYbZaYyftCfQ=s64",
      "userId": "11302229288605057867"
     },
     "user_tz": -480
    },
    "id": "Wh-9-6uRS2CC",
    "outputId": "ceeaa979-b9fc-46f9-b49f-208568fbddc8"
   },
   "outputs": [
    {
     "data": {
      "text/plain": [
       "(369, 93)"
      ]
     },
     "execution_count": 71,
     "metadata": {},
     "output_type": "execute_result"
    }
   ],
   "source": [
    "len(X_train), len(X_test)"
   ]
  },
  {
   "cell_type": "code",
   "execution_count": 72,
   "metadata": {
    "colab": {
     "base_uri": "https://localhost:8080/"
    },
    "executionInfo": {
     "elapsed": 11,
     "status": "ok",
     "timestamp": 1635179558545,
     "user": {
      "displayName": "吳浩瑋",
      "photoUrl": "https://lh3.googleusercontent.com/a-/AOh14Gg1JVKOVvYXKwQf9nIC3P0NkNRIcFeYbZaYyftCfQ=s64",
      "userId": "11302229288605057867"
     },
     "user_tz": -480
    },
    "id": "LltaFCZYXpyN",
    "outputId": "b03268a3-5d41-426f-eea0-3e0ae936144e"
   },
   "outputs": [
    {
     "data": {
      "text/plain": [
       "0.7204301075268817"
      ]
     },
     "execution_count": 72,
     "metadata": {},
     "output_type": "execute_result"
    }
   ],
   "source": [
    "model.score(X_test, y_test)"
   ]
  },
  {
   "cell_type": "code",
   "execution_count": 73,
   "metadata": {
    "executionInfo": {
     "elapsed": 8,
     "status": "ok",
     "timestamp": 1635179558545,
     "user": {
      "displayName": "吳浩瑋",
      "photoUrl": "https://lh3.googleusercontent.com/a-/AOh14Gg1JVKOVvYXKwQf9nIC3P0NkNRIcFeYbZaYyftCfQ=s64",
      "userId": "11302229288605057867"
     },
     "user_tz": -480
    },
    "id": "x0eNn6_8QEUz"
   },
   "outputs": [],
   "source": [
    "from sklearn.model_selection import cross_val_score\n",
    "from sklearn.model_selection import KFold,StratifiedKFold"
   ]
  },
  {
   "cell_type": "code",
   "execution_count": 74,
   "metadata": {
    "colab": {
     "base_uri": "https://localhost:8080/"
    },
    "executionInfo": {
     "elapsed": 3299,
     "status": "ok",
     "timestamp": 1635179561837,
     "user": {
      "displayName": "吳浩瑋",
      "photoUrl": "https://lh3.googleusercontent.com/a-/AOh14Gg1JVKOVvYXKwQf9nIC3P0NkNRIcFeYbZaYyftCfQ=s64",
      "userId": "11302229288605057867"
     },
     "user_tz": -480
    },
    "id": "7vZJ12XLmSd1",
    "outputId": "56ebf06e-accd-4645-defd-48703c28283e"
   },
   "outputs": [
    {
     "data": {
      "text/plain": [
       "0.5892631578947367"
      ]
     },
     "execution_count": 74,
     "metadata": {},
     "output_type": "execute_result"
    }
   ],
   "source": [
    "scores = 0\n",
    "for i in range(100):\n",
    "    scores += cross_val_score(model, X_test, y_test, cv=5, scoring='accuracy').mean()\n",
    "scores / 100"
   ]
  },
  {
   "cell_type": "code",
   "execution_count": null,
   "metadata": {},
   "outputs": [],
   "source": []
  }
 ],
 "metadata": {
  "colab": {
   "authorship_tag": "ABX9TyNjppjSf9ZciIx0y8D5LG3F",
   "collapsed_sections": [],
   "name": "吳浩瑋＿分析病人生命跡象數據_建樹.ipynb",
   "provenance": []
  },
  "kernelspec": {
   "display_name": "venv-metal",
   "language": "python",
   "name": "venv-metal"
  },
  "language_info": {
   "codemirror_mode": {
    "name": "ipython",
    "version": 3
   },
   "file_extension": ".py",
   "mimetype": "text/x-python",
   "name": "python",
   "nbconvert_exporter": "python",
   "pygments_lexer": "ipython3",
   "version": "3.11.4"
  }
 },
 "nbformat": 4,
 "nbformat_minor": 1
}
