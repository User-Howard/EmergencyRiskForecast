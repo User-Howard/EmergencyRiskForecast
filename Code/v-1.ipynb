{
 "cells": [
  {
   "cell_type": "code",
   "execution_count": 1,
   "metadata": {},
   "outputs": [],
   "source": [
    "import pandas as pd\n",
    "import numpy as np"
   ]
  },
  {
   "cell_type": "code",
   "execution_count": 2,
   "id": "2ce73da0",
   "metadata": {},
   "outputs": [],
   "source": [
    "DATABASE_ADDRESS = \"../Data/chartevents_small.csv\"\n",
    "CHUNK_SIZE = 500"
   ]
  },
  {
   "cell_type": "code",
   "execution_count": 3,
   "id": "0a1dbd02",
   "metadata": {},
   "outputs": [],
   "source": [
    "marks = {\n",
    "    220045 : \"Heart Rate\", \\\n",
    "    220210 : \"Respiratory Rate\", \\\n",
    "    220179 : \"Non Invasive Blood Pressure systolic\", \\\n",
    "    220180 : \"Non Invasive Blood Pressure diastolic\", \\\n",
    "    220277 : \"O2 saturation pulseoxymetry\", \\\n",
    "    223762 : \"Temperature Celsius\", \\\n",
    "    # 223761 : \"Temperature Fahrenheit\"\n",
    "}"
   ]
  },
  {
   "cell_type": "code",
   "execution_count": 4,
   "id": "ec4a6f0e",
   "metadata": {},
   "outputs": [],
   "source": [
    "reader = pd.read_csv(DATABASE_ADDRESS, encoding=\"unicode_escape\" , iterator=True, chunksize=CHUNK_SIZE)"
   ]
  },
  {
   "cell_type": "code",
   "execution_count": null,
   "id": "d4c71abf",
   "metadata": {},
   "outputs": [],
   "source": [
    "from datetime import datetime\n",
    "# 2130/10/27 17:04\n",
    "df = pd.read_csv(DATABASE_ADDRESS, usecols=[\"subject_id\", \"hadm_id\", \"charttime\", \"itemid\", \"value\"], engine=\"python\", encoding=\"unicode_escape\", nrows=5745, on_bad_lines='skip', parse_dates=[\"charttime\"], date_parser=date_parser)\n",
    "df[\"charttime\"] = pd.to_datetime(df[\"charttime\"], format=\"%Y/%m/%d %H:%M\")\n",
    "df['charttime'] = df['charttime'].dt.round(\"10min\")\n",
    "df = df[df['itemid'].isin([220045, 220210, 220179, 220180, 220277, 223762])]\n",
    "\n",
    "wide_table = df.pivot_table(index=[\"subject_id\", \"hadm_id\", \"charttime\"], columns='itemid',values='value').reset_index() \n",
    "# 10005348,25239799,31523640,2130/10/27 17:04,2130/10/27 17:04,223762,34.6,34.6,¢XC,0"
   ]
  },
  {
   "cell_type": "code",
   "execution_count": null,
   "id": "ee02bdfa",
   "metadata": {},
   "outputs": [],
   "source": [
    "df = pd.read_csv(DATABASE_ADDRESS, usecols=[\"subject_id\", \"hadm_id\", \"charttime\", \"itemid\", \"value\"], engine=\"python\", encoding=\"unicode_escape\", nrows=5745, on_bad_lines='skip', parse_dates=[\"charttime\"])\n",
    "df.info()"
   ]
  },
  {
   "cell_type": "code",
   "execution_count": null,
   "id": "2415f5d1",
   "metadata": {},
   "outputs": [],
   "source": []
  },
  {
   "cell_type": "code",
   "execution_count": null,
   "id": "4cd12fe6",
   "metadata": {},
   "outputs": [],
   "source": [
    "wide_table"
   ]
  },
  {
   "cell_type": "code",
   "execution_count": null,
   "id": "98062e4e",
   "metadata": {},
   "outputs": [],
   "source": [
    "wide_table.dropna(subset=[220045, 220210, 220179, 220180, 220277])"
   ]
  },
  {
   "cell_type": "code",
   "execution_count": null,
   "id": "182e4c6a",
   "metadata": {},
   "outputs": [],
   "source": [
    "[i for i in marks]"
   ]
  },
  {
   "cell_type": "code",
   "execution_count": null,
   "id": "d6cef70c",
   "metadata": {},
   "outputs": [],
   "source": [
    "%%time \n",
    "df = pandas.read_csv(\"chart_test3.csv\", usecols=[\"hadm_id\", \"charttime\", \"itemid\", \"value\"], engine=\"python\", encoding=\"unicode_escape\")\n",
    "# df.head()\n",
    "df['charttime'] = pandas.to_datetime(df['charttime']).round(\"10min\")"
   ]
  },
  {
   "cell_type": "code",
   "execution_count": null,
   "id": "13518503",
   "metadata": {},
   "outputs": [],
   "source": [
    "# 建立一個CLASS容器來裝每一個PATIENT\n",
    "class Patient:\n",
    "    data = dict()\n",
    "    def __init__(self, ):\n",
    "        self.data = {\"subject_id\":None, \"hadm_id\":None, \"charttime\":None}\n",
    "        for label_ in mark:\n",
    "            self.data[label_] = None\n",
    "    def allna(self, ):\n",
    "        return all ([self.data[i]==None for i in mark])"
   ]
  },
  {
   "cell_type": "code",
   "execution_count": null,
   "id": "6829cdc4",
   "metadata": {},
   "outputs": [],
   "source": [
    "output = []\n",
    "cnt = 0\n",
    "tp = [label_to_id[i] for i in mark]\n",
    "for name, group in df.groupby([\"hadm_id\", \"charttime\"]):\n",
    "    patient = Patient()\n",
    "    for id_, value_ in zip(group.itemid, group.value):\n",
    "        cnt += 1\n",
    "        if id_ in tp:\n",
    "            patient.data[id_to_label[id_]] = value_\n",
    "    if not patient.allna():\n",
    "    # if True:\n",
    "        patient.data[\"hadm_id\"], patient.data[\"charttime\"] = name\n",
    "        if patient.data[\"Temperature Fahrenheit\"] != None:\n",
    "            patient.data[\"Temperature Celsius\"] = round((float(patient.data[\"Temperature Fahrenheit\"]) - 32) * 5 / 9, 1)\n",
    "        output.append(patient.data)\n",
    "merged_df = pd.DataFrame(output,columns=['hadm_id','charttime']+list(marks)).drop([\"Temperature Fahrenheit\"], axis=1)\n",
    "merged_df.to_csv(\"chart_test3_merge_new.csv\", float_format='%.2f', index=0)"
   ]
  },
  {
   "cell_type": "code",
   "execution_count": null,
   "id": "fff6c88b",
   "metadata": {},
   "outputs": [],
   "source": [
    "# df.to_csv(\"chart_test3_merge_new.csv\", float_format='%.2f', index=0)\n",
    "print(\"amount: \", len(output))\n",
    "print(\"amount: \", len(merged_df))\n",
    "# merged_df"
   ]
  }
 ],
 "metadata": {
  "kernelspec": {
   "display_name": "venv-metal",
   "language": "python",
   "name": "venv-metal"
  },
  "language_info": {
   "codemirror_mode": {
    "name": "ipython",
    "version": 3
   },
   "file_extension": ".py",
   "mimetype": "text/x-python",
   "name": "python",
   "nbconvert_exporter": "python",
   "pygments_lexer": "ipython3",
   "version": "3.11.4"
  }
 },
 "nbformat": 4,
 "nbformat_minor": 5
}
