{
 "cells": [
  {
   "cell_type": "code",
   "execution_count": null,
   "metadata": {
    "executionInfo": {
     "elapsed": 7,
     "status": "ok",
     "timestamp": 1635046879305,
     "user": {
      "displayName": "吳浩瑋",
      "photoUrl": "https://lh3.googleusercontent.com/a-/AOh14Gg1JVKOVvYXKwQf9nIC3P0NkNRIcFeYbZaYyftCfQ=s64",
      "userId": "11302229288605057867"
     },
     "user_tz": -480
    },
    "id": "vRMjWZnwKw7E"
   },
   "outputs": [],
   "source": [
    "import pandas as pd\n",
    "from datetime import datetime\n",
    "from imblearn.under_sampling import RandomUnderSampler"
   ]
  },
  {
   "cell_type": "code",
   "execution_count": null,
   "metadata": {},
   "outputs": [],
   "source": [
    "DATABASE_ADDRESS = \"../Data/raw/chartevent_part1.csv\"\n",
    "PROCEDURE_EVENTS_ADDRESS = \"../Data/raw/procedureevents.csv\"\n",
    "CODE_MAPPING_ADDRESS = \"../Data/raw/code_mappings.csv\"\n",
    "DATA_SIZE = 1*1000000\n",
    "\n",
    "FILENAME = datetime.now().strftime('%Y%m%d') + f'_{DATA_SIZE:.0e}'\n",
    "OUTPUT_FILLED_ADDRESS = f\"../Data/Preprocessed/chartevents_{FILENAME}_filled.csv\"\n",
    "OUTPUT_LABELED_ADDRESS = f\"../Data/Preprocessed/chartevents_{FILENAME}_labeled.csv\"\n",
    "\n",
    "print(f\"file name: {FILENAME}\")"
   ]
  },
  {
   "cell_type": "code",
   "execution_count": null,
   "metadata": {},
   "outputs": [],
   "source": [
    "mark = (\"Heart Rate\", \\\n",
    "        \"Respiratory Rate\", \\\n",
    "        \"Non Invasive Blood Pressure systolic\", \\\n",
    "        \"Non Invasive Blood Pressure diastolic\", \\\n",
    "        \"O2 saturation pulseoxymetry\")\n",
    "\n",
    "item_id_map = {\"Cardiac Arrest\" : 225466}"
   ]
  },
  {
   "attachments": {},
   "cell_type": "markdown",
   "metadata": {},
   "source": [
    "###### 20大概需要14分鐘\n",
    "###### 1需要30.5MB\n",
    "###### 大檔案有 329,499789行"
   ]
  },
  {
   "cell_type": "code",
   "execution_count": null,
   "metadata": {
    "colab": {
     "base_uri": "https://localhost:8080/",
     "height": 309
    },
    "executionInfo": {
     "elapsed": 10739,
     "status": "ok",
     "timestamp": 1635046969323,
     "user": {
      "displayName": "吳浩瑋",
      "photoUrl": "https://lh3.googleusercontent.com/a-/AOh14Gg1JVKOVvYXKwQf9nIC3P0NkNRIcFeYbZaYyftCfQ=s64",
      "userId": "11302229288605057867"
     },
     "user_tz": -480
    },
    "id": "_QcSsWLObJ34",
    "outputId": "8720729d-9fc7-41af-b0e5-290b916eaa52"
   },
   "outputs": [],
   "source": [
    "%%time \n",
    "df = pd.read_csv(DATABASE_ADDRESS, usecols=[\"hadm_id\", \"charttime\", \"itemid\", \"value\"], parse_dates=[\"charttime\"], engine=\"python\", encoding=\"unicode_escape\", nrows=DATA_SIZE)\n",
    "df.info()"
   ]
  },
  {
   "cell_type": "code",
   "execution_count": null,
   "metadata": {},
   "outputs": [],
   "source": [
    "df['charttime'] = df['charttime'].dt.round(\"10min\")\n",
    "df = df[df[\"itemid\"].isin(mark)]\n",
    "df.sample(5)"
   ]
  },
  {
   "cell_type": "code",
   "execution_count": null,
   "metadata": {},
   "outputs": [],
   "source": [
    "df_pivot = df.pivot_table(index=[\"hadm_id\", \"charttime\"], columns=\"itemid\", values=\"value\")\n",
    "df_pivot.dropna(thresh=3, inplace=True)\n",
    "\n",
    "df_interpolated = df_pivot.groupby(\"hadm_id\").apply(lambda x: x.interpolate()).reset_index(level=0, drop=True)\n",
    "df_interpolated.dropna(how=\"any\", inplace=True)\n",
    "df_interpolated.to_csv(OUTPUT_FILLED_ADDRESS, float_format='%.2f', index=0)\n",
    "df_interpolated.sample(5)"
   ]
  },
  {
   "cell_type": "code",
   "execution_count": null,
   "metadata": {},
   "outputs": [],
   "source": [
    "df_interpolated"
   ]
  },
  {
   "cell_type": "code",
   "execution_count": null,
   "metadata": {},
   "outputs": [],
   "source": [
    "procedure_events_df = pd.read_csv(PROCEDURE_EVENTS_ADDRESS, usecols=[\"hadm_id\", \"starttime\", \"itemid\"], parse_dates=[\"starttime\"], engine=\"python\", encoding=\"unicode_escape\")\n",
    "df_labeled_df = df_interpolated\n",
    "Arrested_patient = procedure_events_df[procedure_events_df[\"itemid\"]==item_id_map[\"Cardiac Arrest\"]].drop(columns=\"itemid\")"
   ]
  },
  {
   "cell_type": "code",
   "execution_count": null,
   "metadata": {},
   "outputs": [],
   "source": [
    "df_labeled_df['label'] = False\n",
    "for index, row in Arrested_patient.iterrows():\n",
    "    hadm_id = row['hadm_id']\n",
    "    starttime = row['starttime']\n",
    "    # print(f\"hadm_id: {hadm_id}, starttime: {starttime}\")\n",
    "    hadm_id_condition = df_interpolated.index.get_level_values('hadm_id') == hadm_id\n",
    "    starttime_condition = df_interpolated.index.get_level_values('charttime') >= starttime\n",
    "    endtime_condition = df_interpolated.index.get_level_values('charttime') <= starttime -pd.DateOffset(hour=4)\n",
    "    \n",
    "    df_labeled_df.loc[hadm_id_condition & starttime_condition & endtime_condition, 'label'] = True\n",
    "df_labeled_df.to_csv(OUTPUT_LABELED_ADDRESS, float_format='%.2f', index=0)\n",
    "df_labeled_df['label'].value_counts()"
   ]
  },
  {
   "cell_type": "code",
   "execution_count": null,
   "metadata": {},
   "outputs": [],
   "source": [
    "df_under, df_under_label = df_labeled_df.drop(columns=\"label\"), df_labeled_df[\"label\"]\n",
    "df_under_resample, df_under_label_resample = RandomUnderSampler(sampling_strategy='majority').fit_resample(df_under, df_under_label)"
   ]
  },
  {
   "cell_type": "code",
   "execution_count": null,
   "metadata": {},
   "outputs": [],
   "source": [
    "df_under_resample.info()"
   ]
  },
  {
   "cell_type": "code",
   "execution_count": null,
   "metadata": {},
   "outputs": [],
   "source": []
  },
  {
   "cell_type": "code",
   "execution_count": null,
   "metadata": {},
   "outputs": [],
   "source": []
  }
 ],
 "metadata": {
  "colab": {
   "authorship_tag": "ABX9TyOX3sUojrOkebKqz0H0NY8D",
   "collapsed_sections": [],
   "name": "吳浩瑋＿分析病人生命跡象數據_前期整理.ipynb",
   "provenance": []
  },
  "kernelspec": {
   "display_name": ".venv",
   "language": "python",
   "name": "python3"
  },
  "language_info": {
   "codemirror_mode": {
    "name": "ipython",
    "version": 3
   },
   "file_extension": ".py",
   "mimetype": "text/x-python",
   "name": "python",
   "nbconvert_exporter": "python",
   "pygments_lexer": "ipython3",
   "version": "3.12.1"
  }
 },
 "nbformat": 4,
 "nbformat_minor": 4
}
