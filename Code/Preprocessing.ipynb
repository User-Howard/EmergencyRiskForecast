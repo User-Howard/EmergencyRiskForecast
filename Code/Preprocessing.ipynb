{
 "cells": [
  {
   "cell_type": "code",
   "execution_count": 1,
   "metadata": {},
   "outputs": [],
   "source": [
    "import pandas as pd\n",
    "import numpy as np"
   ]
  },
  {
   "cell_type": "code",
   "execution_count": 2,
   "id": "2ce73da0",
   "metadata": {},
   "outputs": [],
   "source": [
    "DATABASE_ADDRESS = \"../Data/procedureevents_small.csv\""
   ]
  },
  {
   "cell_type": "code",
   "execution_count": 3,
   "id": "c05e6ee8",
   "metadata": {},
   "outputs": [],
   "source": [
    "marks = {\n",
    "    220045 : \"Heart Rate\", \\\n",
    "    220210 : \"Respiratory Rate\", \\\n",
    "    220179 : \"Non Invasive Blood Pressure systolic\", \\\n",
    "    220180 : \"Non Invasive Blood Pressure diastolic\", \\\n",
    "    220277 : \"O2 saturation pulseoxymetry\", \\\n",
    "    223762 : \"Temperature Celsius\", \\\n",
    "    223761 : \"Temperature Fahrenheit\"\n",
    "}\n",
    "\n",
    "# 建立一個CLASS容器來裝每一個PATIENT\n",
    "class Patient:\n",
    "    data = dict()\n",
    "    def __init__(self, ):\n",
    "        self.data = {\"subject_id\":None, \"hadm_id\":None, \"charttime\":None}\n",
    "        for label_ in mark:\n",
    "            self.data[label_] = None\n",
    "    def add(self, value, id):\n",
    "\n",
    "        pass\n",
    "    def allna(self, ):\n",
    "        return not any([self.data[i]!=None for i in self.data])"
   ]
  },
  {
   "cell_type": "code",
   "execution_count": 8,
   "id": "ec4a6f0e",
   "metadata": {},
   "outputs": [
    {
     "name": "stdout",
     "output_type": "stream",
     "text": [
      "0 subject_id               19999068\n",
      "hadm_id                  21606769\n",
      "stay_id                  31096823\n",
      "charttime     2161-08-30 20:00:00\n",
      "storetime         2161/8/30 19:51\n",
      "itemid                     223990\n",
      "value                      Normal\n",
      "valuenum                      NaN\n",
      "valueuom                      NaN\n",
      "warning                         0\n",
      "Name: 0, dtype: object\n",
      "1 subject_id               19999068\n",
      "hadm_id                  21606769\n",
      "stay_id                  31096823\n",
      "charttime     2161-08-30 20:00:00\n",
      "storetime         2161/8/30 19:51\n",
      "itemid                     223991\n",
      "value                        Weak\n",
      "valuenum                      NaN\n",
      "valueuom                      NaN\n",
      "warning                         0\n",
      "Name: 1, dtype: object\n"
     ]
    }
   ],
   "source": [
    "CHUNK_SIZE = 2\n",
    "\n",
    "reader = pd.read_csv(DATABASE_ADDRESS, encoding=\"unicode_escape\" , iterator=True, chunksize=CHUNK_SIZE)\n",
    "for cnt, df in enumerate(reader):\n",
    "    df['charttime'] = pd.to_datetime(df['charttime']).round(\"10min\")\n",
    "    for idx, row in df.iterrows():\n",
    "        print(idx, row)\n",
    "    break"
   ]
  },
  {
   "cell_type": "code",
   "execution_count": 5,
   "id": "10ff224f",
   "metadata": {},
   "outputs": [
    {
     "data": {
      "text/plain": [
       "'\\nhttps://blog.csdn.net/sinolzeng/article/details/113970949\\nhttps://www.cnblogs.com/hider/p/15263528.html\\nhttps://zhuanlan.zhihu.com/p/99618155\\n'"
      ]
     },
     "execution_count": 5,
     "metadata": {},
     "output_type": "execute_result"
    }
   ],
   "source": [
    "\"\"\"\n",
    "https://blog.csdn.net/sinolzeng/article/details/113970949\n",
    "https://www.cnblogs.com/hider/p/15263528.html\n",
    "https://zhuanlan.zhihu.com/p/99618155\n",
    "\"\"\""
   ]
  }
 ],
 "metadata": {
  "kernelspec": {
   "display_name": "venv-metal",
   "language": "python",
   "name": "venv-metal"
  },
  "language_info": {
   "codemirror_mode": {
    "name": "ipython",
    "version": 3
   },
   "file_extension": ".py",
   "mimetype": "text/x-python",
   "name": "python",
   "nbconvert_exporter": "python",
   "pygments_lexer": "ipython3",
   "version": "3.11.4"
  }
 },
 "nbformat": 4,
 "nbformat_minor": 5
}
