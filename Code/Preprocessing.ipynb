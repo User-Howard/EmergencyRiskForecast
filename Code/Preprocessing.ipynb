{
 "cells": [
  {
   "cell_type": "code",
   "execution_count": 65,
   "metadata": {
    "executionInfo": {
     "elapsed": 7,
     "status": "ok",
     "timestamp": 1635046879305,
     "user": {
      "displayName": "吳浩瑋",
      "photoUrl": "https://lh3.googleusercontent.com/a-/AOh14Gg1JVKOVvYXKwQf9nIC3P0NkNRIcFeYbZaYyftCfQ=s64",
      "userId": "11302229288605057867"
     },
     "user_tz": -480
    },
    "id": "vRMjWZnwKw7E"
   },
   "outputs": [],
   "source": [
    "import pandas as pd\n",
    "from time import mktime, strptime\n",
    "import datetime"
   ]
  },
  {
   "cell_type": "code",
   "execution_count": 88,
   "metadata": {},
   "outputs": [],
   "source": [
    "DATABASE_ADDRESS = \"../Data/Raw/chartevents.csv\"\n",
    "PROCEDURE_EVENTS_ADDRESS = \"../Data/Raw/procedureevents.csv\"\n",
    "CODE_MAPPING_ADDRESS = \"../Data/Raw/code_mappings.csv\"\n",
    "DATA_SIZE = 100*1000000"
   ]
  },
  {
   "attachments": {},
   "cell_type": "markdown",
   "metadata": {},
   "source": [
    "###### 20大概需要14分鐘\n",
    "###### 1需要30.5MB\n",
    "###### 大檔案有 329,499789行"
   ]
  },
  {
   "cell_type": "code",
   "execution_count": 67,
   "metadata": {},
   "outputs": [
    {
     "data": {
      "text/plain": [
       "'20230706_2e+07'"
      ]
     },
     "execution_count": 67,
     "metadata": {},
     "output_type": "execute_result"
    }
   ],
   "source": [
    "FILENAME = datetime.datetime.now().strftime('%Y%m%d') + f'_{DATA_SIZE:.0e}'\n",
    "FILENAME"
   ]
  },
  {
   "cell_type": "code",
   "execution_count": 68,
   "metadata": {},
   "outputs": [],
   "source": [
    "item = dict()\n",
    "mark = tuple()"
   ]
  },
  {
   "cell_type": "code",
   "execution_count": 69,
   "metadata": {},
   "outputs": [],
   "source": [
    "df = pd.read_csv(CODE_MAPPING_ADDRESS, engine=\"python\", encoding=\"unicode_escape\")\n",
    "id_to_label = dict(zip(df[\"itemid\"], df[\"label\"]))\n",
    "label_to_id = dict(zip(df[\"label\"], df[\"itemid\"]))\n",
    "# df.head()"
   ]
  },
  {
   "cell_type": "code",
   "execution_count": 70,
   "metadata": {},
   "outputs": [],
   "source": [
    "mark = (\"Heart Rate\", \\\n",
    "        \"Respiratory Rate\", \\\n",
    "        \"Non Invasive Blood Pressure systolic\", \\\n",
    "        \"Non Invasive Blood Pressure diastolic\", \\\n",
    "        \"O2 saturation pulseoxymetry\", \\\n",
    "        \"Temperature Celsius\", \\\n",
    "        \"Temperature Fahrenheit\")"
   ]
  },
  {
   "cell_type": "code",
   "execution_count": 89,
   "metadata": {
    "colab": {
     "base_uri": "https://localhost:8080/",
     "height": 309
    },
    "executionInfo": {
     "elapsed": 10739,
     "status": "ok",
     "timestamp": 1635046969323,
     "user": {
      "displayName": "吳浩瑋",
      "photoUrl": "https://lh3.googleusercontent.com/a-/AOh14Gg1JVKOVvYXKwQf9nIC3P0NkNRIcFeYbZaYyftCfQ=s64",
      "userId": "11302229288605057867"
     },
     "user_tz": -480
    },
    "id": "_QcSsWLObJ34",
    "outputId": "8720729d-9fc7-41af-b0e5-290b916eaa52"
   },
   "outputs": [
    {
     "name": "stdout",
     "output_type": "stream",
     "text": [
      "<class 'pandas.core.frame.DataFrame'>\n",
      "RangeIndex: 2000000 entries, 0 to 1999999\n",
      "Data columns (total 4 columns):\n",
      " #   Column     Dtype  \n",
      "---  ------     -----  \n",
      " 0   hadm_id    int64  \n",
      " 1   charttime  object \n",
      " 2   itemid     int64  \n",
      " 3   value      float64\n",
      "dtypes: float64(1), int64(2), object(1)\n",
      "memory usage: 61.0+ MB\n",
      "CPU times: user 6.35 s, sys: 341 ms, total: 6.69 s\n",
      "Wall time: 6.94 s\n"
     ]
    }
   ],
   "source": [
    "%%time \n",
    "df = pd.read_csv(DATABASE_ADDRESS, usecols=[\"hadm_id\", \"charttime\", \"itemid\", \"value\"], engine=\"python\", encoding=\"unicode_escape\", nrows=DATA_SIZE)\n",
    "df.info()"
   ]
  },
  {
   "cell_type": "code",
   "execution_count": 72,
   "metadata": {},
   "outputs": [],
   "source": [
    "df['charttime'] = pd.to_datetime(df['charttime']).round(\"10min\")"
   ]
  },
  {
   "cell_type": "code",
   "execution_count": 73,
   "metadata": {},
   "outputs": [],
   "source": [
    "# 建立一個CLASS容器來裝每一個PATIENT\n",
    "class Patient:\n",
    "    data = dict()\n",
    "    def __init__(self, ):\n",
    "        self.data = {\"subject_id\":None, \"hadm_id\":None, \"charttime\":None}\n",
    "        for label_ in mark:\n",
    "            self.data[label_] = None\n",
    "    def allna(self, ):\n",
    "        return all ([self.data[i]==None for i in mark])"
   ]
  },
  {
   "cell_type": "code",
   "execution_count": 74,
   "metadata": {},
   "outputs": [],
   "source": [
    "output = []\n",
    "cnt = 0\n",
    "tp = [label_to_id[i] for i in mark]\n",
    "for name, group in df.groupby([\"hadm_id\", \"charttime\"]):\n",
    "    patient = Patient()\n",
    "    for id_, value_ in zip(group.itemid, group.value):\n",
    "        cnt += 1\n",
    "        if id_ in tp:\n",
    "            patient.data[id_to_label[id_]] = value_\n",
    "    if not patient.allna():\n",
    "    # if True:\n",
    "        patient.data[\"hadm_id\"], patient.data[\"charttime\"] = name\n",
    "        if patient.data[\"Temperature Fahrenheit\"] != None:\n",
    "            patient.data[\"Temperature Celsius\"] = round((float(patient.data[\"Temperature Fahrenheit\"]) - 32) * 5 / 9, 1)\n",
    "        output.append(patient.data)\n",
    "merged_df = pd.DataFrame(output,columns=['hadm_id','charttime']+list(mark)).drop([\"Temperature Fahrenheit\"], axis=1)\n",
    "merged_df.to_csv(f\"../Data/Preprocessed/chartevents_{FILENAME}_pivot.csv\", float_format='%.2f', index=0)"
   ]
  },
  {
   "cell_type": "code",
   "execution_count": 75,
   "metadata": {
    "scrolled": true
   },
   "outputs": [
    {
     "name": "stdout",
     "output_type": "stream",
     "text": [
      "amount:  923360\n",
      "amount:  923360\n"
     ]
    }
   ],
   "source": [
    "# df.to_csv(\"chart_test3_merge_new.csv\", float_format='%.2f', index=0)\n",
    "print(\"amount: \", len(output))\n",
    "print(\"amount: \", len(merged_df))\n",
    "# merged_df"
   ]
  },
  {
   "cell_type": "code",
   "execution_count": 76,
   "metadata": {},
   "outputs": [],
   "source": [
    "# ------------------------TODO------------------------ #"
   ]
  },
  {
   "cell_type": "code",
   "execution_count": 77,
   "metadata": {},
   "outputs": [],
   "source": [
    "testdf = merged_df"
   ]
  },
  {
   "cell_type": "code",
   "execution_count": 78,
   "metadata": {},
   "outputs": [
    {
     "data": {
      "text/html": [
       "<div>\n",
       "<style scoped>\n",
       "    .dataframe tbody tr th:only-of-type {\n",
       "        vertical-align: middle;\n",
       "    }\n",
       "\n",
       "    .dataframe tbody tr th {\n",
       "        vertical-align: top;\n",
       "    }\n",
       "\n",
       "    .dataframe thead th {\n",
       "        text-align: right;\n",
       "    }\n",
       "</style>\n",
       "<table border=\"1\" class=\"dataframe\">\n",
       "  <thead>\n",
       "    <tr style=\"text-align: right;\">\n",
       "      <th></th>\n",
       "      <th>hadm_id</th>\n",
       "      <th>charttime</th>\n",
       "      <th>Heart Rate</th>\n",
       "      <th>Respiratory Rate</th>\n",
       "      <th>Non Invasive Blood Pressure systolic</th>\n",
       "      <th>Non Invasive Blood Pressure diastolic</th>\n",
       "      <th>O2 saturation pulseoxymetry</th>\n",
       "      <th>Temperature Celsius</th>\n",
       "    </tr>\n",
       "  </thead>\n",
       "  <tbody>\n",
       "    <tr>\n",
       "      <th>130406</th>\n",
       "      <td>21588174</td>\n",
       "      <td>2166-06-19 15:00:00</td>\n",
       "      <td>70</td>\n",
       "      <td>23</td>\n",
       "      <td>None</td>\n",
       "      <td>None</td>\n",
       "      <td>94</td>\n",
       "      <td>None</td>\n",
       "    </tr>\n",
       "  </tbody>\n",
       "</table>\n",
       "</div>"
      ],
      "text/plain": [
       "         hadm_id           charttime Heart Rate Respiratory Rate  \\\n",
       "130406  21588174 2166-06-19 15:00:00         70               23   \n",
       "\n",
       "       Non Invasive Blood Pressure systolic  \\\n",
       "130406                                 None   \n",
       "\n",
       "       Non Invasive Blood Pressure diastolic O2 saturation pulseoxymetry  \\\n",
       "130406                                  None                          94   \n",
       "\n",
       "       Temperature Celsius  \n",
       "130406                None  "
      ]
     },
     "execution_count": 78,
     "metadata": {},
     "output_type": "execute_result"
    }
   ],
   "source": [
    "testdf.sample()"
   ]
  },
  {
   "cell_type": "code",
   "execution_count": 79,
   "metadata": {},
   "outputs": [
    {
     "data": {
      "text/html": [
       "<div>\n",
       "<style scoped>\n",
       "    .dataframe tbody tr th:only-of-type {\n",
       "        vertical-align: middle;\n",
       "    }\n",
       "\n",
       "    .dataframe tbody tr th {\n",
       "        vertical-align: top;\n",
       "    }\n",
       "\n",
       "    .dataframe thead th {\n",
       "        text-align: right;\n",
       "    }\n",
       "</style>\n",
       "<table border=\"1\" class=\"dataframe\">\n",
       "  <thead>\n",
       "    <tr style=\"text-align: right;\">\n",
       "      <th></th>\n",
       "      <th>Heart Rate</th>\n",
       "      <th>Respiratory Rate</th>\n",
       "      <th>Non Invasive Blood Pressure systolic</th>\n",
       "      <th>Non Invasive Blood Pressure diastolic</th>\n",
       "      <th>O2 saturation pulseoxymetry</th>\n",
       "      <th>Temperature Celsius</th>\n",
       "    </tr>\n",
       "  </thead>\n",
       "  <tbody>\n",
       "    <tr>\n",
       "      <th>2</th>\n",
       "      <td>95</td>\n",
       "      <td>18</td>\n",
       "      <td>None</td>\n",
       "      <td>None</td>\n",
       "      <td>99</td>\n",
       "      <td>None</td>\n",
       "    </tr>\n",
       "  </tbody>\n",
       "</table>\n",
       "</div>"
      ],
      "text/plain": [
       "  Heart Rate Respiratory Rate Non Invasive Blood Pressure systolic  \\\n",
       "2         95               18                                 None   \n",
       "\n",
       "  Non Invasive Blood Pressure diastolic O2 saturation pulseoxymetry  \\\n",
       "2                                  None                          99   \n",
       "\n",
       "  Temperature Celsius  \n",
       "2                None  "
      ]
     },
     "execution_count": 79,
     "metadata": {},
     "output_type": "execute_result"
    }
   ],
   "source": [
    "new_mark = (\"Heart Rate\", \\\n",
    "        \"Respiratory Rate\", \\\n",
    "        \"Non Invasive Blood Pressure systolic\", \\\n",
    "        \"Non Invasive Blood Pressure diastolic\", \\\n",
    "        \"O2 saturation pulseoxymetry\", \\\n",
    "        \"Temperature Celsius\")\n",
    "testdf[2:3][list(new_mark)]"
   ]
  },
  {
   "cell_type": "code",
   "execution_count": 80,
   "metadata": {},
   "outputs": [],
   "source": [
    "df = pd.read_csv(f\"../Data/Preprocessed/chartevents_{FILENAME}_pivot.csv\", engine=\"python\", encoding=\"unicode_escape\", parse_dates=[\"charttime\"])\n",
    "df.dropna(thresh=5, inplace=True)\n",
    "for name, group in df.groupby(\"hadm_id\"):\n",
    "    group.interpolate(method='bfill', inplace=True)\n",
    "    group.interpolate(method='ffill', inplace=True)\n",
    "    df.update(group)\n",
    "df.to_csv(f\"../Data/Preprocessed/chartevents_{FILENAME}_filled.csv\", float_format='%.1f', index=0)"
   ]
  },
  {
   "cell_type": "code",
   "execution_count": 81,
   "metadata": {},
   "outputs": [
    {
     "name": "stdout",
     "output_type": "stream",
     "text": [
      "<class 'pandas.core.frame.DataFrame'>\n",
      "Index: 827399 entries, 0 to 923359\n",
      "Data columns (total 8 columns):\n",
      " #   Column                                 Non-Null Count   Dtype         \n",
      "---  ------                                 --------------   -----         \n",
      " 0   hadm_id                                827399 non-null  int64         \n",
      " 1   charttime                              827399 non-null  datetime64[ns]\n",
      " 2   Heart Rate                             827399 non-null  float64       \n",
      " 3   Respiratory Rate                       827355 non-null  float64       \n",
      " 4   Non Invasive Blood Pressure systolic   821804 non-null  float64       \n",
      " 5   Non Invasive Blood Pressure diastolic  821784 non-null  float64       \n",
      " 6   O2 saturation pulseoxymetry            827360 non-null  float64       \n",
      " 7   Temperature Celsius                    826287 non-null  float64       \n",
      "dtypes: datetime64[ns](1), float64(6), int64(1)\n",
      "memory usage: 56.8 MB\n"
     ]
    }
   ],
   "source": [
    "df.info()"
   ]
  },
  {
   "cell_type": "code",
   "execution_count": 82,
   "metadata": {},
   "outputs": [],
   "source": [
    "def read_csv_function(road: str) -> pd.core.frame.DataFrame:\n",
    "    print(\"Reading\", road, \"...\")\n",
    "    return pd.read_csv(road, engine='python')\n",
    "def to_timestamp(s: str):\n",
    "    try:\n",
    "        return int(mktime(strptime(s, \"%Y-%m-%d %H:%M:%S\")))\n",
    "    except ValueError:\n",
    "        try:\n",
    "            return int(mktime(strptime(s, \"%Y-%m-%d %H:%M\")))\n",
    "        except ValueError:\n",
    "            return int(mktime(strptime(s, \"%Y/%m/%d %H:%M\")))"
   ]
  },
  {
   "cell_type": "code",
   "execution_count": 83,
   "metadata": {
    "id": "hS74y6nLNp94"
   },
   "outputs": [
    {
     "name": "stdout",
     "output_type": "stream",
     "text": [
      "Reading ../Data/Raw/procedureevents.csv ...\n",
      "Reading ../Data/Preprocessed/chartevents_20230706_2e+07_filled.csv ...\n"
     ]
    }
   ],
   "source": [
    "df = read_csv_function(PROCEDURE_EVENTS_ADDRESS)\n",
    "dic = {}\n",
    "for i, it in enumerate(df.itemid):\n",
    "    if it != 225466:\n",
    "        continue\n",
    "    if df.iloc[i].hadm_id not in dic:\n",
    "        dic[df.iloc[i].hadm_id] = list()\n",
    "    dic[df.iloc[i].hadm_id].append(to_timestamp(str(df.iloc[i].starttime)))\n",
    "\n",
    "df = read_csv_function(f\"../Data/Preprocessed/chartevents_{FILENAME}_filled.csv\")\n",
    "ans = [False]*len(df)\n",
    "for i in range(len(df)):\n",
    "    if int(df.iloc[i].hadm_id) in dic:\n",
    "        for j in dic[df.iloc[i].hadm_id]:\n",
    "            if 0 <= j - to_timestamp(str(df.iloc[i].charttime)) <= 14400:\n",
    "                ans[i] = True\n",
    "                break\n",
    "\n",
    "df[\"label\"] = ans\n",
    "df.to_csv(f\"../Data/Preprocessed/chartevents_{FILENAME}_labeled.csv\", float_format='%.2f', index=0)"
   ]
  },
  {
   "cell_type": "code",
   "execution_count": 84,
   "metadata": {},
   "outputs": [
    {
     "data": {
      "text/plain": [
       "label\n",
       "False    827148\n",
       "True        251\n",
       "Name: count, dtype: int64"
      ]
     },
     "execution_count": 84,
     "metadata": {},
     "output_type": "execute_result"
    }
   ],
   "source": [
    "df.label.value_counts()"
   ]
  }
 ],
 "metadata": {
  "colab": {
   "authorship_tag": "ABX9TyOX3sUojrOkebKqz0H0NY8D",
   "collapsed_sections": [],
   "name": "吳浩瑋＿分析病人生命跡象數據_前期整理.ipynb",
   "provenance": []
  },
  "kernelspec": {
   "display_name": "venv-metal",
   "language": "python",
   "name": "venv-metal"
  },
  "language_info": {
   "codemirror_mode": {
    "name": "ipython",
    "version": 3
   },
   "file_extension": ".py",
   "mimetype": "text/x-python",
   "name": "python",
   "nbconvert_exporter": "python",
   "pygments_lexer": "ipython3",
   "version": "3.11.4"
  }
 },
 "nbformat": 4,
 "nbformat_minor": 4
}
