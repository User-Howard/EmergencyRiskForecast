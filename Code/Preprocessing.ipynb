{
 "cells": [
  {
   "cell_type": "code",
   "execution_count": null,
   "metadata": {},
   "outputs": [],
   "source": [
    "DATABASE_ADDRESS = \"../Data/Raw/chartevents.csv\"\n",
    "PROCEDURE_EVENTS_ADDRESS = \"../Data/Raw/procedureevents.csv\"\n",
    "CODE_MAPPING_ADDRESS = \"../Data/Raw/code_mappings.csv\"\n",
    "DATA_SIZE = 100*1000000"
   ]
  },
  {
   "attachments": {},
   "cell_type": "markdown",
   "metadata": {},
   "source": [
    "###### 20大概需要14分鐘\n",
    "###### 1需要30.5MB\n",
    "###### 大檔案有 329,499789行"
   ]
  },
  {
   "cell_type": "code",
   "execution_count": null,
   "metadata": {},
   "outputs": [],
   "source": [
    "FILENAME = datetime.datetime.now().strftime('%Y%m%d') + f'_{DATA_SIZE:.0e}'\n",
    "FILENAME"
   ]
  },
  {
   "cell_type": "code",
   "execution_count": null,
   "metadata": {},
   "outputs": [],
   "source": [
    "item = dict()\n",
    "mark = tuple()"
   ]
  },
  {
   "cell_type": "code",
   "execution_count": null,
   "metadata": {},
   "outputs": [],
   "source": [
    "df = pd.read_csv(CODE_MAPPING_ADDRESS, engine=\"python\", encoding=\"unicode_escape\")\n",
    "id_to_label = dict(zip(df[\"itemid\"], df[\"label\"]))\n",
    "label_to_id = dict(zip(df[\"label\"], df[\"itemid\"]))\n",
    "# df.head()"
   ]
  },
  {
   "cell_type": "code",
   "execution_count": null,
   "metadata": {},
   "outputs": [],
   "source": [
    "mark = (\"Heart Rate\", \\\n",
    "        \"Respiratory Rate\", \\\n",
    "        \"Non Invasive Blood Pressure systolic\", \\\n",
    "        \"Non Invasive Blood Pressure diastolic\", \\\n",
    "        \"O2 saturation pulseoxymetry\", \\\n",
    "        \"Temperature Celsius\", \\\n",
    "        \"Temperature Fahrenheit\")"
   ]
  },
  {
   "cell_type": "code",
   "execution_count": null,
   "metadata": {
    "colab": {
     "base_uri": "https://localhost:8080/",
     "height": 309
    },
    "executionInfo": {
     "elapsed": 10739,
     "status": "ok",
     "timestamp": 1635046969323,
     "user": {
      "displayName": "吳浩瑋",
      "photoUrl": "https://lh3.googleusercontent.com/a-/AOh14Gg1JVKOVvYXKwQf9nIC3P0NkNRIcFeYbZaYyftCfQ=s64",
      "userId": "11302229288605057867"
     },
     "user_tz": -480
    },
    "id": "_QcSsWLObJ34",
    "outputId": "8720729d-9fc7-41af-b0e5-290b916eaa52"
   },
   "outputs": [],
   "source": [
    "%%time \n",
    "df = pd.read_csv(DATABASE_ADDRESS, usecols=[\"hadm_id\", \"charttime\", \"itemid\", \"value\"], engine=\"python\", encoding=\"unicode_escape\", nrows=DATA_SIZE)\n",
    "df.info()"
   ]
  },
  {
   "cell_type": "code",
   "execution_count": null,
   "metadata": {},
   "outputs": [],
   "source": [
    "df['charttime'] = pd.to_datetime(df['charttime']).round(\"10min\")"
   ]
  },
  {
   "cell_type": "code",
   "execution_count": null,
   "metadata": {},
   "outputs": [],
   "source": [
    "# 建立一個CLASS容器來裝每一個PATIENT\n",
    "class Patient:\n",
    "    data = dict()\n",
    "    def __init__(self, ):\n",
    "        self.data = {\"subject_id\":None, \"hadm_id\":None, \"charttime\":None}\n",
    "        for label_ in mark:\n",
    "            self.data[label_] = None\n",
    "    def allna(self, ):\n",
    "        return all ([self.data[i]==None for i in mark])"
   ]
  },
  {
   "cell_type": "code",
   "execution_count": null,
   "metadata": {},
   "outputs": [],
   "source": [
    "output = []\n",
    "cnt = 0\n",
    "tp = [label_to_id[i] for i in mark]\n",
    "for name, group in df.groupby([\"hadm_id\", \"charttime\"]):\n",
    "    patient = Patient()\n",
    "    for id_, value_ in zip(group.itemid, group.value):\n",
    "        cnt += 1\n",
    "        if id_ in tp:\n",
    "            patient.data[id_to_label[id_]] = value_\n",
    "    if not patient.allna():\n",
    "    # if True:\n",
    "        patient.data[\"hadm_id\"], patient.data[\"charttime\"] = name\n",
    "        if patient.data[\"Temperature Fahrenheit\"] != None:\n",
    "            patient.data[\"Temperature Celsius\"] = round((float(patient.data[\"Temperature Fahrenheit\"]) - 32) * 5 / 9, 1)\n",
    "        output.append(patient.data)\n",
    "merged_df = pd.DataFrame(output,columns=['hadm_id','charttime']+list(mark)).drop([\"Temperature Fahrenheit\"], axis=1)\n",
    "merged_df.to_csv(f\"../Data/Preprocessed/chartevents_{FILENAME}_pivot.csv\", float_format='%.2f', index=0)"
   ]
  },
  {
   "cell_type": "code",
   "execution_count": null,
   "metadata": {
    "scrolled": true
   },
   "outputs": [],
   "source": [
    "# df.to_csv(\"chart_test3_merge_new.csv\", float_format='%.2f', index=0)\n",
    "print(\"amount: \", len(output))\n",
    "print(\"amount: \", len(merged_df))\n",
    "# merged_df"
   ]
  },
  {
   "cell_type": "code",
   "execution_count": null,
   "metadata": {},
   "outputs": [],
   "source": [
    "# ------------------------TODO------------------------ #"
   ]
  },
  {
   "cell_type": "code",
   "execution_count": null,
   "metadata": {},
   "outputs": [],
   "source": [
    "testdf = merged_df"
   ]
  },
  {
   "cell_type": "code",
   "execution_count": null,
   "metadata": {},
   "outputs": [],
   "source": [
    "testdf.sample()"
   ]
  },
  {
   "cell_type": "code",
   "execution_count": null,
   "metadata": {},
   "outputs": [],
   "source": [
    "new_mark = (\"Heart Rate\", \\\n",
    "        \"Respiratory Rate\", \\\n",
    "        \"Non Invasive Blood Pressure systolic\", \\\n",
    "        \"Non Invasive Blood Pressure diastolic\", \\\n",
    "        \"O2 saturation pulseoxymetry\", \\\n",
    "        \"Temperature Celsius\")\n",
    "testdf[2:3][list(new_mark)]"
   ]
  },
  {
   "cell_type": "code",
   "execution_count": null,
   "metadata": {},
   "outputs": [],
   "source": [
    "df = pd.read_csv(f\"../Data/Preprocessed/chartevents_{FILENAME}_pivot.csv\", engine=\"python\", encoding=\"unicode_escape\", parse_dates=[\"charttime\"])\n",
    "df.dropna(thresh=5, inplace=True)\n",
    "for name, group in df.groupby(\"hadm_id\"):\n",
    "    group.interpolate(method='bfill', inplace=True)\n",
    "    group.interpolate(method='ffill', inplace=True)\n",
    "    df.update(group)\n",
    "df.to_csv(f\"../Data/Preprocessed/chartevents_{FILENAME}_filled.csv\", float_format='%.1f', index=0)"
   ]
  },
  {
   "cell_type": "code",
   "execution_count": null,
   "metadata": {},
   "outputs": [],
   "source": [
    "df.info()"
   ]
  },
  {
   "cell_type": "code",
   "execution_count": null,
   "metadata": {},
   "outputs": [],
   "source": [
    "def read_csv_function(road: str) -> pd.core.frame.DataFrame:\n",
    "    print(\"Reading\", road, \"...\")\n",
    "    return pd.read_csv(road, engine='python')\n",
    "def to_timestamp(s: str):\n",
    "    try:\n",
    "        return int(mktime(strptime(s, \"%Y-%m-%d %H:%M:%S\")))\n",
    "    except ValueError:\n",
    "        try:\n",
    "            return int(mktime(strptime(s, \"%Y-%m-%d %H:%M\")))\n",
    "        except ValueError:\n",
    "            return int(mktime(strptime(s, \"%Y/%m/%d %H:%M\")))"
   ]
  },
  {
   "cell_type": "code",
   "execution_count": null,
   "metadata": {
    "id": "hS74y6nLNp94"
   },
   "outputs": [],
   "source": [
    "df = read_csv_function(PROCEDURE_EVENTS_ADDRESS)\n",
    "dic = {}\n",
    "for i, it in enumerate(df.itemid):\n",
    "    if it != 225466:\n",
    "        continue\n",
    "    if df.iloc[i].hadm_id not in dic:\n",
    "        dic[df.iloc[i].hadm_id] = list()\n",
    "    dic[df.iloc[i].hadm_id].append(to_timestamp(str(df.iloc[i].starttime)))\n",
    "\n",
    "df = read_csv_function(f\"../Data/Preprocessed/chartevents_{FILENAME}_filled.csv\")\n",
    "ans = [False]*len(df)\n",
    "for i in range(len(df)):\n",
    "    if int(df.iloc[i].hadm_id) in dic:\n",
    "        for j in dic[df.iloc[i].hadm_id]:\n",
    "            if 0 <= j - to_timestamp(str(df.iloc[i].charttime)) <= 14400:\n",
    "                ans[i] = True\n",
    "                break\n",
    "\n",
    "df[\"label\"] = ans\n",
    "df.to_csv(f\"../Data/Preprocessed/chartevents_{FILENAME}_labeled.csv\", float_format='%.2f', index=0)"
   ]
  },
  {
   "cell_type": "code",
   "execution_count": null,
   "metadata": {},
   "outputs": [],
   "source": [
    "df.label.value_counts()"
   ]
  }
 ],
 "metadata": {
  "colab": {
   "authorship_tag": "ABX9TyOX3sUojrOkebKqz0H0NY8D",
   "collapsed_sections": [],
   "name": "吳浩瑋＿分析病人生命跡象數據_前期整理.ipynb",
   "provenance": []
  },
  "kernelspec": {
   "display_name": "venv-metal",
   "language": "python",
   "name": "venv-metal"
  },
  "language_info": {
   "codemirror_mode": {
    "name": "ipython",
    "version": 3
   },
   "file_extension": ".py",
   "mimetype": "text/x-python",
   "name": "python",
   "nbconvert_exporter": "python",
   "pygments_lexer": "ipython3",
   "version": "3.11.4"
  }
 },
 "nbformat": 4,
 "nbformat_minor": 4
}
