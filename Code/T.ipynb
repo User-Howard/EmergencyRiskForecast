{
 "cells": [
  {
   "cell_type": "code",
   "execution_count": 5,
   "metadata": {},
   "outputs": [],
   "source": [
    "import pandas as pd\n",
    "from time import mktime, strptime\n",
    "import datetime"
   ]
  },
  {
   "cell_type": "code",
   "execution_count": 6,
   "metadata": {},
   "outputs": [
    {
     "name": "stdout",
     "output_type": "stream",
     "text": [
      "20240307_2e+06\n"
     ]
    }
   ],
   "source": [
    "DATABASE_ADDRESS = \"../Data/raw/chartevent_part1.csv\"\n",
    "PROCEDURE_EVENTS_ADDRESS = \"../Data/raw/procedureevents.csv\"\n",
    "CODE_MAPPING_ADDRESS = \"../Data/raw/code_mappings.csv\"\n",
    "DATA_SIZE = 2*1000000\n",
    "\n",
    "FILENAME = datetime.datetime.now().strftime('%Y%m%d') + f'_{DATA_SIZE:.0e}'\n",
    "print(FILENAME)"
   ]
  },
  {
   "cell_type": "code",
   "execution_count": 14,
   "metadata": {},
   "outputs": [],
   "source": [
    "itemid_map = {\"Cardiac Arrest\" : 225466}"
   ]
  },
  {
   "cell_type": "code",
   "execution_count": 13,
   "metadata": {},
   "outputs": [],
   "source": [
    "procedure_events_df = pd.read_csv(PROCEDURE_EVENTS_ADDRESS, usecols=[\"hadm_id\", \"starttime\", \"itemid\"], parse_dates=[\"starttime\"], engine=\"python\", encoding=\"unicode_escape\")\n",
    "Arrested_patient = procedure_events_df[procedure_events_df[\"itemid\"]==itemid_map[\"Cardiac Arrest\"]].drop(columns=\"itemid\")"
   ]
  },
  {
   "cell_type": "code",
   "execution_count": 24,
   "metadata": {},
   "outputs": [
    {
     "name": "stdout",
     "output_type": "stream",
     "text": [
      "hadm_id: 21758160, starttime: 2131-03-31 03:20:00\n",
      "<class 'pandas._libs.tslibs.timestamps.Timestamp'>\n",
      "hadm_id: 28621351, starttime: 2113-05-03 09:10:00\n",
      "<class 'pandas._libs.tslibs.timestamps.Timestamp'>\n",
      "hadm_id: 24697159, starttime: 2186-05-17 22:17:00\n",
      "<class 'pandas._libs.tslibs.timestamps.Timestamp'>\n"
     ]
    }
   ],
   "source": [
    "cnt = 0\n",
    "for index, row in Arrested_patient.iterrows():\n",
    "    hadm_id = row['hadm_id']\n",
    "    starttime = row['starttime']\n",
    "    # print(f\"hadm_id: {hadm_id}, starttime: {starttime}\")\n",
    "    hadm_id_condition = df_interpolated.index.get_level_values('hadm_id') == 29999625\n",
    "    starttime_condition = df_interpolated.index.get_level_values('charttime') >= start_time\n",
    "    endtime_condition = df_interpolated.index.get_level_values('charttime') <= end_time\n",
    "    \n",
    "    df_interpolated.loc[hadm_id_condition & starttime_condition & endtime_condition, 'label'] = True\n"
   ]
  },
  {
   "cell_type": "code",
   "execution_count": 9,
   "metadata": {},
   "outputs": [
    {
     "name": "stdout",
     "output_type": "stream",
     "text": [
      "Reading ../Data/raw/procedureevents.csv ...\n"
     ]
    },
    {
     "ename": "NameError",
     "evalue": "name 'itemid_map' is not defined",
     "output_type": "error",
     "traceback": [
      "\u001b[0;31m---------------------------------------------------------------------------\u001b[0m",
      "\u001b[0;31mNameError\u001b[0m                                 Traceback (most recent call last)",
      "Cell \u001b[0;32mIn[9], line 4\u001b[0m\n\u001b[1;32m      2\u001b[0m dic \u001b[38;5;241m=\u001b[39m {}\n\u001b[1;32m      3\u001b[0m \u001b[38;5;28;01mfor\u001b[39;00m i, it \u001b[38;5;129;01min\u001b[39;00m \u001b[38;5;28menumerate\u001b[39m(df\u001b[38;5;241m.\u001b[39mitemid):\n\u001b[0;32m----> 4\u001b[0m     \u001b[38;5;28;01mif\u001b[39;00m it \u001b[38;5;241m!=\u001b[39m \u001b[43mitemid_map\u001b[49m[\u001b[38;5;124m\"\u001b[39m\u001b[38;5;124mCardiac Arrest\u001b[39m\u001b[38;5;124m\"\u001b[39m]:\n\u001b[1;32m      5\u001b[0m         \u001b[38;5;28;01mcontinue\u001b[39;00m\n\u001b[1;32m      6\u001b[0m     \u001b[38;5;28;01mif\u001b[39;00m df\u001b[38;5;241m.\u001b[39miloc[i]\u001b[38;5;241m.\u001b[39mhadm_id \u001b[38;5;129;01mnot\u001b[39;00m \u001b[38;5;129;01min\u001b[39;00m dic:\n",
      "\u001b[0;31mNameError\u001b[0m: name 'itemid_map' is not defined"
     ]
    }
   ],
   "source": [
    "df = read_csv_function(PROCEDURE_EVENTS_ADDRESS)\n",
    "dic = {}\n",
    "for i, it in enumerate(df.itemid):\n",
    "    if it != itemid_map[\"Cardiac Arrest\"]:\n",
    "        continue\n",
    "    if df.iloc[i].hadm_id not in dic:\n",
    "        dic[df.iloc[i].hadm_id] = list()\n",
    "    dic[df.iloc[i].hadm_id].append(to_timestamp(str(df.iloc[i].starttime)))\n",
    "\n",
    "df = read_csv_function(f\"../Data/Preprocessed/chartevents_{FILENAME}_filled.csv\")\n",
    "ans = [False]*len(df)\n",
    "for i in range(len(df)):\n",
    "    if int(df.iloc[i].hadm_id) in dic:\n",
    "        for j in dic[df.iloc[i].hadm_id]:\n",
    "            if 0 <= j - to_timestamp(str(df.iloc[i].charttime)) <= 14400:\n",
    "                ans[i] = True\n",
    "                break\n",
    "\n",
    "df[\"label\"] = ans\n",
    "df.to_csv(f\"../Data/Preprocessed/chartevents_{FILENAME}_labeled.csv\", float_format='%.2f', index=0)"
   ]
  }
 ],
 "metadata": {
  "kernelspec": {
   "display_name": ".venv",
   "language": "python",
   "name": "python3"
  },
  "language_info": {
   "codemirror_mode": {
    "name": "ipython",
    "version": 3
   },
   "file_extension": ".py",
   "mimetype": "text/x-python",
   "name": "python",
   "nbconvert_exporter": "python",
   "pygments_lexer": "ipython3",
   "version": "3.12.1"
  }
 },
 "nbformat": 4,
 "nbformat_minor": 2
}
