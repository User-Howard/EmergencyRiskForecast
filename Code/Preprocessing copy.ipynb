{
 "cells": [
  {
   "cell_type": "code",
   "execution_count": 2,
   "metadata": {
    "editable": true,
    "executionInfo": {
     "elapsed": 7,
     "status": "ok",
     "timestamp": 1635046879305,
     "user": {
      "displayName": "吳浩瑋",
      "photoUrl": "https://lh3.googleusercontent.com/a-/AOh14Gg1JVKOVvYXKwQf9nIC3P0NkNRIcFeYbZaYyftCfQ=s64",
      "userId": "11302229288605057867"
     },
     "user_tz": -480
    },
    "id": "vRMjWZnwKw7E",
    "slideshow": {
     "slide_type": ""
    },
    "tags": []
   },
   "outputs": [],
   "source": [
    "import pandas as pd\n",
    "import datetime\n",
    "from tqdm import tqdm\n",
    "from time import sleep\n",
    "import numpy as np\n",
    "import matplotlib\n",
    "\n",
    "\n",
    "from imblearn.under_sampling import RandomUnderSampler"
   ]
  },
  {
   "cell_type": "code",
   "execution_count": 3,
   "metadata": {},
   "outputs": [
    {
     "name": "stdout",
     "output_type": "stream",
     "text": [
      "file name: 20240310_1e+06\n"
     ]
    }
   ],
   "source": [
    "DATABASE_ADDRESS = \"../Data/raw/chartevents.csv\"\n",
    "PROCEDURE_EVENTS_ADDRESS = \"../Data/raw/procedureevents.csv\"\n",
    "CODE_MAPPING_ADDRESS = \"../Data/raw/code_mappings.csv\"\n",
    "DATA_SIZE = 1000000\n",
    "\n",
    "FILENAME = datetime.datetime.now().strftime('%Y%m%d') + f'_{DATA_SIZE:.0e}'\n",
    "OUTPUT_FILLED_ADDRESS = f\"../Data/Preprocessed/chartevents_{FILENAME}_filled.csv\"\n",
    "OUTPUT_INTERPOLATED_ADDRESS = f\"../Data/Preprocessed/chartevents_{FILENAME}_interpolated.csv\"\n",
    "OUTPUT_LABELED_ADDRESS = f\"../Data/Preprocessed/chartevents_{FILENAME}_labeled.csv\"\n",
    "\n",
    "print(f\"file name: {FILENAME}\")"
   ]
  },
  {
   "cell_type": "code",
   "execution_count": 4,
   "metadata": {},
   "outputs": [],
   "source": [
    "mark = (\"Heart Rate\", \\\n",
    "        \"Respiratory Rate\", \\\n",
    "        \"Non Invasive Blood Pressure systolic\", \\\n",
    "        \"Non Invasive Blood Pressure diastolic\", \\\n",
    "        \"O2 saturation pulseoxymetry\")\n",
    "         # drop \"Temperature Celsius\", \"Temperature Fahrenheit\"\n",
    "itemid_map = {  \"Cardiac Arrest\"                        : 225466, \\\n",
    "                \"Heart Rate\"                            : 220045, \\\n",
    "                \"Respiratory Rate\"                      : 220210, \\\n",
    "                \"Non Invasive Blood Pressure systolic\"  : 220179, \\\n",
    "                \"Non Invasive Blood Pressure diastolic\" : 220180, \\\n",
    "                \"O2 saturation pulseoxymetry\"           : 220277}"
   ]
  },
  {
   "attachments": {},
   "cell_type": "markdown",
   "metadata": {},
   "source": [
    "###### 20大概需要14分鐘\n",
    "###### 1需要30.5MB\n",
    "###### 大檔案有 329,499789行"
   ]
  },
  {
   "cell_type": "code",
   "execution_count": 5,
   "metadata": {},
   "outputs": [],
   "source": [
    "procedure_events_df = pd.read_csv(PROCEDURE_EVENTS_ADDRESS, usecols=[\"hadm_id\", \"starttime\", \"itemid\"], parse_dates=[\"starttime\"], engine=\"python\", encoding=\"unicode_escape\")\n",
    "Arrested_patient = procedure_events_df[procedure_events_df[\"itemid\"]==itemid_map[\"Cardiac Arrest\"]].drop(columns=\"itemid\")"
   ]
  },
  {
   "cell_type": "code",
   "execution_count": 6,
   "metadata": {},
   "outputs": [
    {
     "data": {
      "text/html": [
       "<div>\n",
       "<style scoped>\n",
       "    .dataframe tbody tr th:only-of-type {\n",
       "        vertical-align: middle;\n",
       "    }\n",
       "\n",
       "    .dataframe tbody tr th {\n",
       "        vertical-align: top;\n",
       "    }\n",
       "\n",
       "    .dataframe thead th {\n",
       "        text-align: right;\n",
       "    }\n",
       "</style>\n",
       "<table border=\"1\" class=\"dataframe\">\n",
       "  <thead>\n",
       "    <tr style=\"text-align: right;\">\n",
       "      <th></th>\n",
       "      <th>hadm_id</th>\n",
       "      <th>starttime</th>\n",
       "    </tr>\n",
       "  </thead>\n",
       "  <tbody>\n",
       "    <tr>\n",
       "      <th>4869</th>\n",
       "      <td>21758160</td>\n",
       "      <td>2131-03-31 03:20:00</td>\n",
       "    </tr>\n",
       "    <tr>\n",
       "      <th>5606</th>\n",
       "      <td>28621351</td>\n",
       "      <td>2113-05-03 09:10:00</td>\n",
       "    </tr>\n",
       "    <tr>\n",
       "      <th>6862</th>\n",
       "      <td>24697159</td>\n",
       "      <td>2186-05-17 22:17:00</td>\n",
       "    </tr>\n",
       "    <tr>\n",
       "      <th>8543</th>\n",
       "      <td>20108756</td>\n",
       "      <td>2161-01-04 00:04:00</td>\n",
       "    </tr>\n",
       "    <tr>\n",
       "      <th>10916</th>\n",
       "      <td>28411958</td>\n",
       "      <td>2126-06-18 10:29:00</td>\n",
       "    </tr>\n",
       "    <tr>\n",
       "      <th>...</th>\n",
       "      <td>...</td>\n",
       "      <td>...</td>\n",
       "    </tr>\n",
       "    <tr>\n",
       "      <th>685185</th>\n",
       "      <td>23580066</td>\n",
       "      <td>2148-06-15 17:58:00</td>\n",
       "    </tr>\n",
       "    <tr>\n",
       "      <th>686571</th>\n",
       "      <td>24776727</td>\n",
       "      <td>2124-04-24 17:00:00</td>\n",
       "    </tr>\n",
       "    <tr>\n",
       "      <th>686572</th>\n",
       "      <td>24196469</td>\n",
       "      <td>2171-12-10 19:50:00</td>\n",
       "    </tr>\n",
       "    <tr>\n",
       "      <th>686573</th>\n",
       "      <td>23717261</td>\n",
       "      <td>2166-04-12 22:07:00</td>\n",
       "    </tr>\n",
       "    <tr>\n",
       "      <th>689365</th>\n",
       "      <td>23370065</td>\n",
       "      <td>2163-05-14 10:42:00</td>\n",
       "    </tr>\n",
       "  </tbody>\n",
       "</table>\n",
       "<p>559 rows × 2 columns</p>\n",
       "</div>"
      ],
      "text/plain": [
       "         hadm_id           starttime\n",
       "4869    21758160 2131-03-31 03:20:00\n",
       "5606    28621351 2113-05-03 09:10:00\n",
       "6862    24697159 2186-05-17 22:17:00\n",
       "8543    20108756 2161-01-04 00:04:00\n",
       "10916   28411958 2126-06-18 10:29:00\n",
       "...          ...                 ...\n",
       "685185  23580066 2148-06-15 17:58:00\n",
       "686571  24776727 2124-04-24 17:00:00\n",
       "686572  24196469 2171-12-10 19:50:00\n",
       "686573  23717261 2166-04-12 22:07:00\n",
       "689365  23370065 2163-05-14 10:42:00\n",
       "\n",
       "[559 rows x 2 columns]"
      ]
     },
     "execution_count": 6,
     "metadata": {},
     "output_type": "execute_result"
    }
   ],
   "source": [
    "Arrested_patient"
   ]
  },
  {
   "cell_type": "code",
   "execution_count": 7,
   "metadata": {},
   "outputs": [
    {
     "data": {
      "text/plain": [
       "'20240310_1e+06'"
      ]
     },
     "execution_count": 7,
     "metadata": {},
     "output_type": "execute_result"
    }
   ],
   "source": [
    "FILENAME"
   ]
  },
  {
   "cell_type": "code",
   "execution_count": 15,
   "metadata": {
    "colab": {
     "base_uri": "https://localhost:8080/",
     "height": 309
    },
    "executionInfo": {
     "elapsed": 10739,
     "status": "ok",
     "timestamp": 1635046969323,
     "user": {
      "displayName": "吳浩瑋",
      "photoUrl": "https://lh3.googleusercontent.com/a-/AOh14Gg1JVKOVvYXKwQf9nIC3P0NkNRIcFeYbZaYyftCfQ=s64",
      "userId": "11302229288605057867"
     },
     "user_tz": -480
    },
    "id": "_QcSsWLObJ34",
    "outputId": "8720729d-9fc7-41af-b0e5-290b916eaa52"
   },
   "outputs": [
    {
     "name": "stderr",
     "output_type": "stream",
     "text": [
      "120it [11:48,  5.77s/it]/Users/howard/Documents/GitHub/EmergencyRiskForecast/.venv/lib/python3.12/site-packages/tqdm/std.py:1181: UserWarning: Could not infer format, so each element will be parsed individually, falling back to `dateutil`. To ensure parsing is consistent and as-expected, please specify a format.\n",
      "  for obj in iterable:\n",
      "166it [16:24,  5.93s/it]\n"
     ]
    }
   ],
   "source": [
    "cnt = 0\n",
    "brk1 = []\n",
    "brk2 = []\n",
    "last_cnt = -1\n",
    "df = pd.DataFrame()\n",
    "df_label = pd.DataFrame()\n",
    "T = None\n",
    "with pd.read_csv(DATABASE_ADDRESS, usecols=[\"hadm_id\", \"charttime\", \"itemid\", \"value\"], parse_dates=[\"charttime\"], engine=\"python\", encoding=\"unicode_escape\", chunksize=DATA_SIZE) as reader:\n",
    "    for chunk in tqdm(reader):\n",
    "        T= chunk\n",
    "\n",
    "        try:\n",
    "            if cnt > last_cnt:\n",
    "                chunk.replace(' ', np.nan, inplace=True)\n",
    "                chunk.dropna(inplace=True)\n",
    "                chunk[\"value\"].astype(float)\n",
    "                chunk['charttime'] = chunk['charttime'].dt.round(\"10min\")\n",
    "                chunk = chunk[chunk[\"itemid\"].isin([itemid_map[i] for i in mark])]\n",
    "                chunk_pivot = chunk.pivot_table(index=[\"hadm_id\", \"charttime\"], columns=\"itemid\", values=\"value\")\n",
    "                chunk_pivot.dropna(thresh=3, inplace=True)\n",
    "                chunk_interpolated = chunk_pivot.groupby(\"hadm_id\").apply(lambda x: x.interpolate()).reset_index(level=0, drop=True)\n",
    "                chunk_interpolated.dropna(how=\"any\", inplace=True)\n",
    "\n",
    "                chunk_interpolated['label'] = False\n",
    "                for index, row in Arrested_patient.iterrows():\n",
    "                    hadm_id = row['hadm_id']\n",
    "                    starttime = row['starttime']\n",
    "                    hadm_id_condition = chunk_interpolated.index.get_level_values('hadm_id') == hadm_id\n",
    "                    starttime_condition = chunk_interpolated.index.get_level_values('charttime') >= starttime\n",
    "                    endtime_condition = chunk_interpolated.index.get_level_values('charttime') <= starttime -pd.DateOffset(hour=2)\n",
    "\n",
    "                    chunk_interpolated.loc[hadm_id_condition & starttime_condition & endtime_condition, 'label'] = True\n",
    "                \n",
    "                df_under, df_under_label = chunk_interpolated.drop(columns=\"label\"), chunk_interpolated[\"label\"]\n",
    "                df_under_resample, df_under_label_resample = RandomUnderSampler(sampling_strategy='majority').fit_resample(df_under, df_under_label)\n",
    "                df_under_resample[\"label\"] = df_under_label_resample\n",
    "                df = pd.concat([df, df_under_resample])\n",
    "        except ValueError:\n",
    "            # print(\"No label at\", str(cnt))\n",
    "            cnt += 1\n",
    "            brk1.append(cnt)\n",
    "            sleep(2)\n",
    "            continue\n",
    "        except TypeError:\n",
    "            print(\"ERROR at\", str(cnt))\n",
    "            cnt += 1\n",
    "            brk2.append(cnt)\n",
    "            sleep(2)\n",
    "            continue\n",
    "        cnt += 1\n",
    "        if cnt > 150:\n",
    "            break\n",
    "df.to_csv(f\"../Data/resampled/{FILENAME}.csv\", float_format='%.2f', index=0)"
   ]
  },
  {
   "cell_type": "code",
   "execution_count": 12,
   "metadata": {},
   "outputs": [
    {
     "data": {
      "text/plain": [
       "167"
      ]
     },
     "execution_count": 12,
     "metadata": {},
     "output_type": "execute_result"
    }
   ],
   "source": [
    "cnt"
   ]
  },
  {
   "cell_type": "code",
   "execution_count": 19,
   "metadata": {},
   "outputs": [
    {
     "data": {
      "text/plain": [
       "{9, 10, 12, 47, 48, 88, 95, 131, 132, 134, 167}"
      ]
     },
     "execution_count": 19,
     "metadata": {},
     "output_type": "execute_result"
    }
   ],
   "source": [
    "set(range(1, 168)) - set(brk1)"
   ]
  },
  {
   "cell_type": "code",
   "execution_count": 13,
   "metadata": {},
   "outputs": [
    {
     "data": {
      "text/plain": [
       "156"
      ]
     },
     "execution_count": 13,
     "metadata": {},
     "output_type": "execute_result"
    }
   ],
   "source": [
    "brk2"
   ]
  },
  {
   "cell_type": "code",
   "execution_count": 36,
   "metadata": {},
   "outputs": [
    {
     "data": {
      "text/html": [
       "<div>\n",
       "<style scoped>\n",
       "    .dataframe tbody tr th:only-of-type {\n",
       "        vertical-align: middle;\n",
       "    }\n",
       "\n",
       "    .dataframe tbody tr th {\n",
       "        vertical-align: top;\n",
       "    }\n",
       "\n",
       "    .dataframe thead th {\n",
       "        text-align: right;\n",
       "    }\n",
       "</style>\n",
       "<table border=\"1\" class=\"dataframe\">\n",
       "  <thead>\n",
       "    <tr style=\"text-align: right;\">\n",
       "      <th></th>\n",
       "      <th>itemid</th>\n",
       "      <th>220045</th>\n",
       "      <th>220179</th>\n",
       "      <th>220180</th>\n",
       "      <th>220210</th>\n",
       "      <th>220277</th>\n",
       "      <th>label</th>\n",
       "    </tr>\n",
       "    <tr>\n",
       "      <th>hadm_id</th>\n",
       "      <th>charttime</th>\n",
       "      <th></th>\n",
       "      <th></th>\n",
       "      <th></th>\n",
       "      <th></th>\n",
       "      <th></th>\n",
       "      <th></th>\n",
       "    </tr>\n",
       "  </thead>\n",
       "  <tbody>\n",
       "    <tr>\n",
       "      <th>28683663</th>\n",
       "      <th>2150-04-22 16:30:00</th>\n",
       "      <td>111.0</td>\n",
       "      <td>110.000000</td>\n",
       "      <td>62.000000</td>\n",
       "      <td>29.0</td>\n",
       "      <td>96.0</td>\n",
       "      <td>False</td>\n",
       "    </tr>\n",
       "    <tr>\n",
       "      <th>26326357</th>\n",
       "      <th>2144-10-27 19:00:00</th>\n",
       "      <td>117.0</td>\n",
       "      <td>94.000000</td>\n",
       "      <td>59.000000</td>\n",
       "      <td>28.0</td>\n",
       "      <td>96.0</td>\n",
       "      <td>False</td>\n",
       "    </tr>\n",
       "    <tr>\n",
       "      <th>24444070</th>\n",
       "      <th>2182-02-24 13:00:00</th>\n",
       "      <td>74.0</td>\n",
       "      <td>143.000000</td>\n",
       "      <td>86.000000</td>\n",
       "      <td>39.0</td>\n",
       "      <td>97.0</td>\n",
       "      <td>False</td>\n",
       "    </tr>\n",
       "    <tr>\n",
       "      <th>25482501</th>\n",
       "      <th>2179-07-27 21:00:00</th>\n",
       "      <td>83.0</td>\n",
       "      <td>109.000000</td>\n",
       "      <td>70.000000</td>\n",
       "      <td>15.0</td>\n",
       "      <td>100.0</td>\n",
       "      <td>False</td>\n",
       "    </tr>\n",
       "    <tr>\n",
       "      <th>27409048</th>\n",
       "      <th>2155-06-02 17:20:00</th>\n",
       "      <td>106.0</td>\n",
       "      <td>70.096774</td>\n",
       "      <td>40.983871</td>\n",
       "      <td>21.0</td>\n",
       "      <td>94.0</td>\n",
       "      <td>False</td>\n",
       "    </tr>\n",
       "    <tr>\n",
       "      <th>...</th>\n",
       "      <th>...</th>\n",
       "      <td>...</td>\n",
       "      <td>...</td>\n",
       "      <td>...</td>\n",
       "      <td>...</td>\n",
       "      <td>...</td>\n",
       "      <td>...</td>\n",
       "    </tr>\n",
       "    <tr>\n",
       "      <th rowspan=\"5\" valign=\"top\">23911300</th>\n",
       "      <th>2185-04-14 02:00:00</th>\n",
       "      <td>132.0</td>\n",
       "      <td>140.000000</td>\n",
       "      <td>68.000000</td>\n",
       "      <td>14.0</td>\n",
       "      <td>51.0</td>\n",
       "      <td>True</td>\n",
       "    </tr>\n",
       "    <tr>\n",
       "      <th>2185-04-14 03:00:00</th>\n",
       "      <td>106.0</td>\n",
       "      <td>140.000000</td>\n",
       "      <td>68.000000</td>\n",
       "      <td>14.0</td>\n",
       "      <td>99.0</td>\n",
       "      <td>True</td>\n",
       "    </tr>\n",
       "    <tr>\n",
       "      <th>2185-04-14 03:50:00</th>\n",
       "      <td>90.0</td>\n",
       "      <td>140.000000</td>\n",
       "      <td>68.000000</td>\n",
       "      <td>14.0</td>\n",
       "      <td>99.0</td>\n",
       "      <td>True</td>\n",
       "    </tr>\n",
       "    <tr>\n",
       "      <th>2185-04-14 04:00:00</th>\n",
       "      <td>74.0</td>\n",
       "      <td>140.000000</td>\n",
       "      <td>68.000000</td>\n",
       "      <td>14.0</td>\n",
       "      <td>98.0</td>\n",
       "      <td>True</td>\n",
       "    </tr>\n",
       "    <tr>\n",
       "      <th>2185-04-14 04:10:00</th>\n",
       "      <td>74.0</td>\n",
       "      <td>140.000000</td>\n",
       "      <td>68.000000</td>\n",
       "      <td>14.0</td>\n",
       "      <td>99.0</td>\n",
       "      <td>True</td>\n",
       "    </tr>\n",
       "  </tbody>\n",
       "</table>\n",
       "<p>386 rows × 6 columns</p>\n",
       "</div>"
      ],
      "text/plain": [
       "itemid                        220045      220179     220180  220210  220277  \\\n",
       "hadm_id  charttime                                                            \n",
       "28683663 2150-04-22 16:30:00   111.0  110.000000  62.000000    29.0    96.0   \n",
       "26326357 2144-10-27 19:00:00   117.0   94.000000  59.000000    28.0    96.0   \n",
       "24444070 2182-02-24 13:00:00    74.0  143.000000  86.000000    39.0    97.0   \n",
       "25482501 2179-07-27 21:00:00    83.0  109.000000  70.000000    15.0   100.0   \n",
       "27409048 2155-06-02 17:20:00   106.0   70.096774  40.983871    21.0    94.0   \n",
       "...                              ...         ...        ...     ...     ...   \n",
       "23911300 2185-04-14 02:00:00   132.0  140.000000  68.000000    14.0    51.0   \n",
       "         2185-04-14 03:00:00   106.0  140.000000  68.000000    14.0    99.0   \n",
       "         2185-04-14 03:50:00    90.0  140.000000  68.000000    14.0    99.0   \n",
       "         2185-04-14 04:00:00    74.0  140.000000  68.000000    14.0    98.0   \n",
       "         2185-04-14 04:10:00    74.0  140.000000  68.000000    14.0    99.0   \n",
       "\n",
       "itemid                        label  \n",
       "hadm_id  charttime                   \n",
       "28683663 2150-04-22 16:30:00  False  \n",
       "26326357 2144-10-27 19:00:00  False  \n",
       "24444070 2182-02-24 13:00:00  False  \n",
       "25482501 2179-07-27 21:00:00  False  \n",
       "27409048 2155-06-02 17:20:00  False  \n",
       "...                             ...  \n",
       "23911300 2185-04-14 02:00:00   True  \n",
       "         2185-04-14 03:00:00   True  \n",
       "         2185-04-14 03:50:00   True  \n",
       "         2185-04-14 04:00:00   True  \n",
       "         2185-04-14 04:10:00   True  \n",
       "\n",
       "[386 rows x 6 columns]"
      ]
     },
     "execution_count": 36,
     "metadata": {},
     "output_type": "execute_result"
    }
   ],
   "source": [
    "df"
   ]
  },
  {
   "cell_type": "code",
   "execution_count": 35,
   "metadata": {},
   "outputs": [
    {
     "data": {
      "text/plain": [
       "label\n",
       "False    193\n",
       "True     193\n",
       "Name: count, dtype: int64"
      ]
     },
     "execution_count": 35,
     "metadata": {},
     "output_type": "execute_result"
    }
   ],
   "source": [
    "df[\"label\"].value_counts()"
   ]
  },
  {
   "cell_type": "code",
   "execution_count": 18,
   "metadata": {},
   "outputs": [
    {
     "name": "stdout",
     "output_type": "stream",
     "text": [
      "<class 'pandas.core.frame.DataFrame'>\n",
      "MultiIndex: 32 entries, (27285076, Timestamp('2140-08-28 18:00:00')) to (25355565, Timestamp('2192-09-22 04:00:00'))\n",
      "Data columns (total 6 columns):\n",
      " #   Column  Non-Null Count  Dtype  \n",
      "---  ------  --------------  -----  \n",
      " 0   220045  32 non-null     float64\n",
      " 1   220179  32 non-null     float64\n",
      " 2   220180  32 non-null     float64\n",
      " 3   220210  32 non-null     float64\n",
      " 4   220277  32 non-null     float64\n",
      " 5   label   32 non-null     bool   \n",
      "dtypes: bool(1), float64(5)\n",
      "memory usage: 691.9 KB\n"
     ]
    }
   ],
   "source": [
    "df.info()"
   ]
  },
  {
   "cell_type": "code",
   "execution_count": 34,
   "metadata": {},
   "outputs": [
    {
     "data": {
      "text/plain": [
       "label\n",
       "False    193\n",
       "True     193\n",
       "Name: count, dtype: int64"
      ]
     },
     "execution_count": 34,
     "metadata": {},
     "output_type": "execute_result"
    }
   ],
   "source": [
    "df[\"label\"].value_counts()"
   ]
  },
  {
   "cell_type": "code",
   "execution_count": null,
   "metadata": {},
   "outputs": [],
   "source": [
    "cnt = 0\n",
    "last_cnt = -1\n",
    "df = pd.DataFrame()\n",
    "df_label = pd.DataFrame()\n",
    "DATA_SIZE = 100\n",
    "with pd.read_csv(DATABASE_ADDRESS, usecols=[\"hadm_id\", \"charttime\", \"itemid\", \"value\"], parse_dates=[\"charttime\"], engine=\"python\", encoding=\"unicode_escape\", chunksize=DATA_SIZE) as reader:\n",
    "    chunk.replace(' ', np.nan, inplace=True)\n",
    "    chunk.dropna(inplace=True)\n",
    "    for chunk in tqdm(reader):\n",
    "        print(chunk[\"value\"].dtype)\n",
    "        \n",
    "        cnt += 1\n",
    "        if cnt > 50000:\n",
    "            break\n",
    "        "
   ]
  },
  {
   "cell_type": "code",
   "execution_count": 11,
   "metadata": {},
   "outputs": [
    {
     "data": {
      "text/plain": [
       "35"
      ]
     },
     "execution_count": 11,
     "metadata": {},
     "output_type": "execute_result"
    }
   ],
   "source": [
    "cnt"
   ]
  },
  {
   "cell_type": "code",
   "execution_count": 38,
   "metadata": {},
   "outputs": [
    {
     "data": {
      "text/plain": [
       "4167350     76\n",
       "4167351     17\n",
       "4167352     96\n",
       "4167353     86\n",
       "4167354    111\n",
       "4167355     57\n",
       "4167356     74\n",
       "4167357       \n",
       "4167358     61\n",
       "4167359     70\n",
       "Name: value, dtype: object"
      ]
     },
     "execution_count": 38,
     "metadata": {},
     "output_type": "execute_result"
    }
   ],
   "source": [
    "df[\"value\"][50:60]"
   ]
  },
  {
   "cell_type": "code",
   "execution_count": 53,
   "metadata": {},
   "outputs": [],
   "source": [
    "df2 = df[\"value\"]"
   ]
  },
  {
   "cell_type": "code",
   "execution_count": 56,
   "metadata": {},
   "outputs": [],
   "source": [
    "df2.replace(' ', np.nan, inplace=True)"
   ]
  },
  {
   "cell_type": "code",
   "execution_count": 57,
   "metadata": {},
   "outputs": [
    {
     "data": {
      "text/plain": [
       "4167350     76\n",
       "4167351     17\n",
       "4167352     96\n",
       "4167353     86\n",
       "4167354    111\n",
       "4167355     57\n",
       "4167356     74\n",
       "4167357    NaN\n",
       "4167358     61\n",
       "4167359     70\n",
       "Name: value, dtype: object"
      ]
     },
     "execution_count": 57,
     "metadata": {},
     "output_type": "execute_result"
    }
   ],
   "source": [
    "df2[50:60]"
   ]
  },
  {
   "cell_type": "code",
   "execution_count": null,
   "metadata": {},
   "outputs": [],
   "source": [
    "procedure_events_df = pd.read_csv(PROCEDURE_EVENTS_ADDRESS, usecols=[\"hadm_id\", \"starttime\", \"itemid\"], parse_dates=[\"starttime\"], engine=\"python\", encoding=\"unicode_escape\")\n",
    "df_labeled_df = df_interpolated\n",
    "Arrested_patient = procedure_events_df[procedure_events_df[\"itemid\"]==itemid_map[\"Cardiac Arrest\"]].drop(columns=\"itemid\")"
   ]
  },
  {
   "cell_type": "code",
   "execution_count": null,
   "metadata": {},
   "outputs": [
    {
     "data": {
      "text/plain": [
       "label\n",
       "False    587089\n",
       "True         17\n",
       "Name: count, dtype: int64"
      ]
     },
     "execution_count": 8,
     "metadata": {},
     "output_type": "execute_result"
    }
   ],
   "source": [
    "df_labeled_df['label'] = False\n",
    "for index, row in Arrested_patient.iterrows():\n",
    "    hadm_id = row['hadm_id']\n",
    "    starttime = row['starttime']\n",
    "    # print(f\"hadm_id: {hadm_id}, starttime: {starttime}\")\n",
    "    hadm_id_condition = df_interpolated.index.get_level_values('hadm_id') == hadm_id\n",
    "    starttime_condition = df_interpolated.index.get_level_values('charttime') >= starttime\n",
    "    endtime_condition = df_interpolated.index.get_level_values('charttime') <= starttime -pd.DateOffset(hour=4)\n",
    "    \n",
    "    df_labeled_df.loc[hadm_id_condition & starttime_condition & endtime_condition, 'label'] = True\n",
    "df_labeled_df.to_csv(OUTPUT_LABELED_ADDRESS, float_format='%.1f', index=0)\n",
    "df_labeled_df['label'].value_counts()"
   ]
  }
 ],
 "metadata": {
  "colab": {
   "authorship_tag": "ABX9TyOX3sUojrOkebKqz0H0NY8D",
   "collapsed_sections": [],
   "name": "吳浩瑋＿分析病人生命跡象數據_前期整理.ipynb",
   "provenance": []
  },
  "kernelspec": {
   "display_name": ".venv",
   "language": "python",
   "name": "python3"
  },
  "language_info": {
   "codemirror_mode": {
    "name": "ipython",
    "version": 3
   },
   "file_extension": ".py",
   "mimetype": "text/x-python",
   "name": "python",
   "nbconvert_exporter": "python",
   "pygments_lexer": "ipython3",
   "version": "3.12.1"
  }
 },
 "nbformat": 4,
 "nbformat_minor": 4
}
