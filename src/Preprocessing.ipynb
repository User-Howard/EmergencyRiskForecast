{
 "cells": [
  {
   "cell_type": "code",
   "execution_count": null,
   "metadata": {
    "editable": true,
    "executionInfo": {
     "elapsed": 7,
     "status": "ok",
     "timestamp": 1635046879305,
     "user": {
      "displayName": "吳浩瑋",
      "photoUrl": "https://lh3.googleusercontent.com/a-/AOh14Gg1JVKOVvYXKwQf9nIC3P0NkNRIcFeYbZaYyftCfQ=s64",
      "userId": "11302229288605057867"
     },
     "user_tz": -480
    },
    "id": "vRMjWZnwKw7E",
    "slideshow": {
     "slide_type": ""
    },
    "tags": []
   },
   "outputs": [],
   "source": [
    "import pandas as pd\n",
    "import numpy as np\n",
    "from datetime import datetime\n",
    "from tqdm import tqdm\n",
    "\n",
    "from imblearn.under_sampling import RandomUnderSampler"
   ]
  },
  {
   "cell_type": "code",
   "execution_count": null,
   "metadata": {},
   "outputs": [],
   "source": [
    "DATABASE_ADDRESS = \"../Data/raw/chartevents.csv\"\n",
    "PROCEDURE_EVENTS_ADDRESS = \"../Data/raw/procedureevents.csv\"\n",
    "CODE_MAPPING_ADDRESS = \"../Data/raw/code_mappings.csv\"\n",
    "DATA_SIZE = 6000000 # This database has 329499788 lines\n",
    "\n",
    "FILENAME = datetime.now().strftime('%Y%m%d%H%M') + f'_{DATA_SIZE:.0e}'\n",
    "OUTPUT_ADDRESS = f\"data/{FILENAME}.csv\"\n",
    "\n",
    "print(f\"file name: {FILENAME}\")"
   ]
  },
  {
   "cell_type": "code",
   "execution_count": null,
   "metadata": {},
   "outputs": [],
   "source": [
    "mark = (\"Heart Rate\", \\\n",
    "        \"Respiratory Rate\", \\\n",
    "        \"Non Invasive Blood Pressure systolic\", \\\n",
    "        \"Non Invasive Blood Pressure diastolic\", \\\n",
    "        \"O2 saturation pulseoxymetry\")\n",
    "         # drop \"Temperature Celsius\", \"Temperature Fahrenheit\"\n",
    "\n",
    "itemid_map = {  \"Cardiac Arrest\"                        : 225466, \\\n",
    "                \"Heart Rate\"                            : 220045, \\\n",
    "                \"Respiratory Rate\"                      : 220210, \\\n",
    "                \"Non Invasive Blood Pressure systolic\"  : 220179, \\\n",
    "                \"Non Invasive Blood Pressure diastolic\" : 220180, \\\n",
    "                \"O2 saturation pulseoxymetry\"           : 220277}"
   ]
  },
  {
   "cell_type": "code",
   "execution_count": null,
   "metadata": {},
   "outputs": [],
   "source": [
    "procedure_events_df = pd.read_csv(PROCEDURE_EVENTS_ADDRESS, usecols=[\"hadm_id\", \"starttime\", \"itemid\"], parse_dates=[\"starttime\"], engine=\"python\", encoding=\"unicode_escape\")\n",
    "Arrested_patient = procedure_events_df[procedure_events_df[\"itemid\"]==itemid_map[\"Cardiac Arrest\"]].drop(columns=\"itemid\")\n",
    "Arrested_patient.sample(5)"
   ]
  },
  {
   "cell_type": "code",
   "execution_count": null,
   "metadata": {},
   "outputs": [],
   "source": [
    "def _init(df):\n",
    "    condition = df[\"itemid\"].isin([itemid_map[i] for i in mark])\n",
    "    df = df.loc[condition]\n",
    "    df.loc[:, 'value'] = pd.to_numeric(df['value'], errors=\"coerce\")\n",
    "    df = df[df['value']!=0]\n",
    "    # df.replace('0.00', np.nan, inplace=True\n",
    "    # df.replace('', np.nan, inplace=True)\n",
    "    # df.replace(' ', np.nan, inplace=True)\n",
    "    # df.dropna(inplace=True)\n",
    "\n",
    "    df.loc[:, 'charttime'] = df['charttime'].dt.round(\"10min\")\n",
    "    return df\n",
    "def _pivot_table(df):\n",
    "    df = df.dropna(thresh=3)\n",
    "    df['value'] = pd.to_numeric(df['value'], errors='coerce')\n",
    "    df.loc[df['value']==0, 'value'] = np.nan\n",
    "    try:\n",
    "        result = df.pivot_table(index=[\"hadm_id\", \"charttime\"], columns=\"itemid\", values=\"value\")\n",
    "    except TypeError:\n",
    "        print(\"BAD\")\n",
    "        result = df.pivot_table(index=[\"hadm_id\", \"charttime\"], aggfunc=\"mean\", columns=\"itemid\", values=\"value\")\n",
    "    result = result.dropna(thresh=3)\n",
    "    return result\n",
    "def _interpolated(df):\n",
    "    result = df.groupby(\"hadm_id\").apply(lambda x: x.interpolate()).reset_index(level=0, drop=True)\n",
    "    result.dropna(how=\"any\", inplace=True)\n",
    "    return result\n",
    "def _add_label(df):\n",
    "    df['label'] = 0 # 0->None, 1->warning time, 2->other arrest time\n",
    "    for idx in Arrested_patient.index:\n",
    "        hadm_id = Arrested_patient['hadm_id'][idx]\n",
    "        starttime = Arrested_patient['starttime'][idx]\n",
    "        hadm_id_condition = df.index.get_level_values('hadm_id') == hadm_id\n",
    "        starttime_condition = df.index.get_level_values('charttime') >= starttime - pd.DateOffset(hours=1, minutes=10)\n",
    "        endtime_condition = df.index.get_level_values('charttime') <= starttime - pd.DateOffset(hours=0)\n",
    "        df.loc[hadm_id_condition, 'label'] = 1\n",
    "        df.loc[hadm_id_condition & starttime_condition & endtime_condition, 'label'] = 2\n",
    "    return df"
   ]
  },
  {
   "cell_type": "code",
   "execution_count": null,
   "metadata": {
    "colab": {
     "base_uri": "https://localhost:8080/",
     "height": 309
    },
    "executionInfo": {
     "elapsed": 10739,
     "status": "ok",
     "timestamp": 1635046969323,
     "user": {
      "displayName": "吳浩瑋",
      "photoUrl": "https://lh3.googleusercontent.com/a-/AOh14Gg1JVKOVvYXKwQf9nIC3P0NkNRIcFeYbZaYyftCfQ=s64",
      "userId": "11302229288605057867"
     },
     "user_tz": -480
    },
    "id": "_QcSsWLObJ34",
    "outputId": "8720729d-9fc7-41af-b0e5-290b916eaa52"
   },
   "outputs": [],
   "source": [
    "df = pd.DataFrame()\n",
    "with pd.read_csv(   DATABASE_ADDRESS, \\\n",
    "                    usecols=[\"hadm_id\", \"charttime\", \"itemid\", \"value\"], \\\n",
    "                    parse_dates=[\"charttime\"], \\\n",
    "                    encoding=\"unicode_escape\", \\\n",
    "                    chunksize=DATA_SIZE, \\\n",
    "                    low_memory=False\n",
    "                    ) as reader:\n",
    "    for chunk in tqdm(reader):\n",
    "        chunk = _init(chunk)\n",
    "        if len(chunk) == 0:\n",
    "            continue\n",
    "        chunk_pivot = _pivot_table(chunk)\n",
    "        chunk_interpolated = _interpolated(chunk_pivot)\n",
    "        chunk_labeled = _add_label(chunk_interpolated)\n",
    "        chunk_labeled = chunk_labeled[~(chunk_labeled['label']==1)]\n",
    "        if len(chunk_labeled[chunk_labeled['label']==2])>0:\n",
    "            df_ = chunk_labeled.drop(columns=\"label\")\n",
    "            df_label = chunk_labeled[\"label\"]==2\n",
    "            df_resample, df_label_resample = RandomUnderSampler().fit_resample(df_, df_label)\n",
    "            df_resample[\"label\"] = df_label_resample\n",
    "            df = pd.concat([df, df_resample])\n",
    " \n",
    "df.to_csv(OUTPUT_ADDRESS, float_format='%.2f', index=0)"
   ]
  }
 ],
 "metadata": {
  "colab": {
   "authorship_tag": "ABX9TyOX3sUojrOkebKqz0H0NY8D",
   "collapsed_sections": [],
   "name": "吳浩瑋＿分析病人生命跡象數據_前期整理.ipynb",
   "provenance": []
  },
  "kernelspec": {
   "display_name": ".venv",
   "language": "python",
   "name": "python3"
  },
  "language_info": {
   "codemirror_mode": {
    "name": "ipython",
    "version": 3
   },
   "file_extension": ".py",
   "mimetype": "text/x-python",
   "name": "python",
   "nbconvert_exporter": "python",
   "pygments_lexer": "ipython3",
   "version": "3.12.2"
  }
 },
 "nbformat": 4,
 "nbformat_minor": 4
}
