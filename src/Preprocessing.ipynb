{
 "cells": [
  {
   "cell_type": "code",
   "execution_count": null,
   "metadata": {
    "editable": true,
    "executionInfo": {
     "elapsed": 7,
     "status": "ok",
     "timestamp": 1635046879305,
     "user": {
      "displayName": "吳浩瑋",
      "photoUrl": "https://lh3.googleusercontent.com/a-/AOh14Gg1JVKOVvYXKwQf9nIC3P0NkNRIcFeYbZaYyftCfQ=s64",
      "userId": "11302229288605057867"
     },
     "user_tz": -480
    },
    "id": "vRMjWZnwKw7E",
    "slideshow": {
     "slide_type": ""
    },
    "tags": []
   },
   "outputs": [],
   "source": [
    "import pandas as pd\n",
    "import datetime\n",
    "from tqdm import tqdm\n",
    "import numpy as np\n",
    "\n",
    "from imblearn.under_sampling import RandomUnderSampler"
   ]
  },
  {
   "cell_type": "code",
   "execution_count": null,
   "metadata": {},
   "outputs": [],
   "source": [
    "DATABASE_ADDRESS = \"../Data/raw/chartevents.csv\"\n",
    "PROCEDURE_EVENTS_ADDRESS = \"../Data/raw/procedureevents.csv\"\n",
    "CODE_MAPPING_ADDRESS = \"../Data/raw/code_mappings.csv\"\n",
    "DATA_SIZE = 15000000\n",
    "\n",
    "FILENAME = datetime.datetime.now().strftime('%Y%m%d%H%M') + f'_{DATA_SIZE:.0e}'\n",
    "OUTPUT_ADDRESS = f\"data/{FILENAME}.csv\"\n",
    "\n",
    "print(f\"file name: {FILENAME}\")"
   ]
  },
  {
   "cell_type": "code",
   "execution_count": null,
   "metadata": {},
   "outputs": [],
   "source": [
    "mark = (\"Heart Rate\", \\\n",
    "        \"Respiratory Rate\", \\\n",
    "        \"Non Invasive Blood Pressure systolic\", \\\n",
    "        \"Non Invasive Blood Pressure diastolic\", \\\n",
    "        \"O2 saturation pulseoxymetry\")\n",
    "         # drop \"Temperature Celsius\", \"Temperature Fahrenheit\"\n",
    "\n",
    "itemid_map = {  \"Cardiac Arrest\"                        : 225466, \\\n",
    "                \"Heart Rate\"                            : 220045, \\\n",
    "                \"Respiratory Rate\"                      : 220210, \\\n",
    "                \"Non Invasive Blood Pressure systolic\"  : 220179, \\\n",
    "                \"Non Invasive Blood Pressure diastolic\" : 220180, \\\n",
    "                \"O2 saturation pulseoxymetry\"           : 220277}"
   ]
  },
  {
   "attachments": {},
   "cell_type": "markdown",
   "metadata": {},
   "source": [
    "###### 20大概需要14分鐘\n",
    "###### 1需要30.5MB\n",
    "###### 大檔案有 329,499789行"
   ]
  },
  {
   "cell_type": "code",
   "execution_count": null,
   "metadata": {},
   "outputs": [],
   "source": [
    "procedure_events_df = pd.read_csv(PROCEDURE_EVENTS_ADDRESS, usecols=[\"hadm_id\", \"starttime\", \"itemid\"], parse_dates=[\"starttime\"], engine=\"python\", encoding=\"unicode_escape\")\n",
    "Arrested_patient = procedure_events_df[procedure_events_df[\"itemid\"]==itemid_map[\"Cardiac Arrest\"]].drop(columns=\"itemid\")"
   ]
  },
  {
   "cell_type": "code",
   "execution_count": null,
   "metadata": {},
   "outputs": [],
   "source": [
    "Arrested_patient"
   ]
  },
  {
   "cell_type": "code",
   "execution_count": null,
   "metadata": {},
   "outputs": [],
   "source": [
    "FILENAME"
   ]
  },
  {
   "cell_type": "code",
   "execution_count": null,
   "metadata": {},
   "outputs": [],
   "source": [
    "def _init(df):\n",
    "    try:\n",
    "        df.replace(' ', np.nan, inplace=True)\n",
    "        df.replace('', np.nan, inplace=True)\n",
    "        df.dropna(inplace=True)\n",
    "        df['value'].astype(float)\n",
    "    except ValueError:\n",
    "        df = df[df.map(np.isreal).all(1)]\n",
    "    \n",
    "    df['charttime'] = df['charttime'].dt.round(\"10min\")\n",
    "    df = df[df[\"itemid\"].isin([itemid_map[i] for i in mark])]\n",
    "    return df\n",
    "def _pivot_table(df):\n",
    "    result = df.pivot_table(index=[\"hadm_id\", \"charttime\"], columns=\"itemid\", values=\"value\")\n",
    "    result.dropna(thresh=3, inplace=True)\n",
    "    return result\n",
    "def _interpolated(df):\n",
    "    result = df.groupby(\"hadm_id\").apply(lambda x: x.interpolate()).reset_index(level=0, drop=True)\n",
    "    result.dropna(how=\"any\", inplace=True)\n",
    "    return result\n",
    "def _add_label(df):\n",
    "    df['label'] = False \n",
    "    for idx in Arrested_patient.index:\n",
    "        hadm_id = Arrested_patient['hadm_id'][idx]\n",
    "        starttime = Arrested_patient['starttime'][idx]\n",
    "        hadm_id_condition = df.index.get_level_values('hadm_id') == hadm_id\n",
    "        starttime_condition = df.index.get_level_values('charttime') >= starttime\n",
    "        endtime_condition = df.index.get_level_values('charttime') <= starttime -pd.DateOffset(hour=4)\n",
    "\n",
    "        df.loc[hadm_id_condition & starttime_condition & endtime_condition, 'label'] = True\n",
    "    return df"
   ]
  },
  {
   "cell_type": "code",
   "execution_count": null,
   "metadata": {
    "colab": {
     "base_uri": "https://localhost:8080/",
     "height": 309
    },
    "executionInfo": {
     "elapsed": 10739,
     "status": "ok",
     "timestamp": 1635046969323,
     "user": {
      "displayName": "吳浩瑋",
      "photoUrl": "https://lh3.googleusercontent.com/a-/AOh14Gg1JVKOVvYXKwQf9nIC3P0NkNRIcFeYbZaYyftCfQ=s64",
      "userId": "11302229288605057867"
     },
     "user_tz": -480
    },
    "id": "_QcSsWLObJ34",
    "outputId": "8720729d-9fc7-41af-b0e5-290b916eaa52"
   },
   "outputs": [],
   "source": [
    "cnt = 0\n",
    "df = pd.DataFrame()\n",
    "brk1 = []\n",
    "brk2 = []\n",
    "last_cnt = -1\n",
    "T = None\n",
    "with pd.read_csv(   DATABASE_ADDRESS, \\\n",
    "                    usecols=[\"hadm_id\", \"charttime\", \"itemid\", \"value\"], \\\n",
    "                    parse_dates=[\"charttime\"], \\\n",
    "                    engine=\"python\", \\\n",
    "                    encoding=\"unicode_escape\", \\\n",
    "                    chunksize=DATA_SIZE) as reader:\n",
    "    for chunk in tqdm(reader):\n",
    "        T = chunk\n",
    "        chunk = _init(chunk)\n",
    "        if len(chunk) == 0:\n",
    "            continue\n",
    "        cnt += len(chunk)\n",
    "        \n",
    "        # chunk_pivot = _pivot_table(chunk)\n",
    "        # chunk_interpolated = _interpolated(chunk_pivot)\n",
    "        # chunk_labeled = _add_label(chunk_interpolated)\n",
    "\n",
    "        # if chunk_labeled[\"label\"].any():\n",
    "        #     df_ = chunk_labeled.drop(columns=\"label\")\n",
    "        #     df_label = chunk_labeled[\"label\"]\n",
    "        #     df_resample, df_label_resample = RandomUnderSampler().fit_resample(df_, df_label)\n",
    "        #     df_resample[\"label\"] = df_label_resample\n",
    "        #     df = pd.concat([df, df_resample])\n",
    "            \n",
    "        # cnt += 1\n",
    "        # if cnt > 5:\n",
    "        #     break\n",
    "df.to_csv(OUTPUT_ADDRESS, float_format='%.2f', index=0)"
   ]
  },
  {
   "cell_type": "code",
   "execution_count": null,
   "metadata": {},
   "outputs": [],
   "source": [
    "df"
   ]
  }
 ],
 "metadata": {
  "colab": {
   "authorship_tag": "ABX9TyOX3sUojrOkebKqz0H0NY8D",
   "collapsed_sections": [],
   "name": "吳浩瑋＿分析病人生命跡象數據_前期整理.ipynb",
   "provenance": []
  },
  "kernelspec": {
   "display_name": ".venv",
   "language": "python",
   "name": "python3"
  },
  "language_info": {
   "codemirror_mode": {
    "name": "ipython",
    "version": 3
   },
   "file_extension": ".py",
   "mimetype": "text/x-python",
   "name": "python",
   "nbconvert_exporter": "python",
   "pygments_lexer": "ipython3",
   "version": "3.12.2"
  }
 },
 "nbformat": 4,
 "nbformat_minor": 4
}
