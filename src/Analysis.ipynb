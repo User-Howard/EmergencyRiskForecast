{
 "cells": [
  {
   "cell_type": "code",
   "execution_count": 347,
   "metadata": {
    "executionInfo": {
     "elapsed": 1640,
     "status": "ok",
     "timestamp": 1635182471146,
     "user": {
      "displayName": "吳浩瑋",
      "photoUrl": "https://lh3.googleusercontent.com/a-/AOh14Gg1JVKOVvYXKwQf9nIC3P0NkNRIcFeYbZaYyftCfQ=s64",
      "userId": "11302229288605057867"
     },
     "user_tz": -480
    },
    "id": "qyM0gIy4lEK1"
   },
   "outputs": [],
   "source": [
    "import pandas as pd\n",
    "import numpy as np\n",
    "from sklearn.model_selection import train_test_split\n",
    "from sklearn.model_selection import cross_val_score\n",
    "from sklearn.preprocessing import StandardScaler\n",
    "from sklearn.ensemble import RandomForestClassifier\n",
    "from sklearn.metrics import mean_squared_error\n",
    "from graphviz import Source\n"
   ]
  },
  {
   "cell_type": "code",
   "execution_count": 348,
   "metadata": {},
   "outputs": [
    {
     "data": {
      "text/plain": [
       "'data/1_3.csv'"
      ]
     },
     "execution_count": 348,
     "metadata": {},
     "output_type": "execute_result"
    }
   ],
   "source": [
    "FILENAME = f\"data/{input('File Name (in data/)')}\"\n",
    "# FILENAME = f\"data/processed_data.csv\"\n",
    "FILENAME"
   ]
  },
  {
   "cell_type": "code",
   "execution_count": 349,
   "metadata": {},
   "outputs": [],
   "source": [
    "rename_mark = { \"220045\" : \"Heart Rate\"                           , \\\n",
    "                \"220210\" : \"Respiratory Rate\"                     , \\\n",
    "                \"220179\" : \"Non Invasive Blood Pressure systolic\" , \\\n",
    "                \"220180\" : \"Non Invasive Blood Pressure diastolic\", \\\n",
    "                \"220277\" : \"O2 saturation pulseoxymetry\"          }"
   ]
  },
  {
   "cell_type": "code",
   "execution_count": 350,
   "metadata": {},
   "outputs": [],
   "source": [
    "df = pd.read_csv(FILENAME, engine='python')\n",
    "df.rename(columns=rename_mark, inplace=True)"
   ]
  },
  {
   "cell_type": "code",
   "execution_count": 351,
   "metadata": {
    "executionInfo": {
     "elapsed": 6,
     "status": "ok",
     "timestamp": 1635182472522,
     "user": {
      "displayName": "吳浩瑋",
      "photoUrl": "https://lh3.googleusercontent.com/a-/AOh14Gg1JVKOVvYXKwQf9nIC3P0NkNRIcFeYbZaYyftCfQ=s64",
      "userId": "11302229288605057867"
     },
     "user_tz": -480
    },
    "id": "q5wgiB16JxhF"
   },
   "outputs": [],
   "source": [
    "# scale = StandardScaler()\n",
    "df_spl, df_label_spl = df.drop(columns=\"label\"), df[\"label\"]\n",
    "# df_spl = pd.DataFrame(scale.fit_transform(df_spl), columns=df_spl.keys())\n",
    "X_train, X_test, y_train, y_test = train_test_split(df_spl, df_label_spl, test_size=0.2, stratify=df_label_spl)"
   ]
  },
  {
   "cell_type": "code",
   "execution_count": 352,
   "metadata": {
    "executionInfo": {
     "elapsed": 6,
     "status": "ok",
     "timestamp": 1635179557901,
     "user": {
      "displayName": "吳浩瑋",
      "photoUrl": "https://lh3.googleusercontent.com/a-/AOh14Gg1JVKOVvYXKwQf9nIC3P0NkNRIcFeYbZaYyftCfQ=s64",
      "userId": "11302229288605057867"
     },
     "user_tz": -480
    },
    "id": "i0ILtnLHU7Ss"
   },
   "outputs": [],
   "source": [
    "from sklearn import tree\n",
    "from sklearn.metrics import confusion_matrix"
   ]
  },
  {
   "cell_type": "code",
   "execution_count": 353,
   "metadata": {},
   "outputs": [],
   "source": [
    "def test_mse(m):\n",
    "    m.fit(X_train, y_train)\n",
    "    a = m.predict(X_test)\n",
    "    b = m.predict(X_train)\n",
    "    A_score = mean_squared_error(a.astype('int'), y_test.astype('int'))\n",
    "    B_score = mean_squared_error(b.astype('int'), y_train.astype('int'))\n",
    "    return (round(A_score, 4), round(B_score, 4))\n",
    "def test_model(m):\n",
    "    A = m\n",
    "    A.fit(X_train, y_train)\n",
    "    y_pred = A.predict(X_test)\n",
    "    cm=confusion_matrix(y_test,y_pred)\n",
    "    print(cm)\n",
    "    print(round(A.score(X_test, y_test), 2))\n",
    "    print(test_mse(m))"
   ]
  },
  {
   "cell_type": "code",
   "execution_count": 354,
   "metadata": {
    "colab": {
     "base_uri": "https://localhost:8080/",
     "height": 168
    },
    "executionInfo": {
     "elapsed": 1155,
     "status": "error",
     "timestamp": 1635263426781,
     "user": {
      "displayName": "吳浩瑋",
      "photoUrl": "https://lh3.googleusercontent.com/a-/AOh14Gg1JVKOVvYXKwQf9nIC3P0NkNRIcFeYbZaYyftCfQ=s64",
      "userId": "11302229288605057867"
     },
     "user_tz": -480
    },
    "id": "Wh-9-6uRS2CC",
    "outputId": "ceeaa979-b9fc-46f9-b49f-208568fbddc8"
   },
   "outputs": [
    {
     "data": {
      "text/plain": [
       "(1580, 396)"
      ]
     },
     "execution_count": 354,
     "metadata": {},
     "output_type": "execute_result"
    }
   ],
   "source": [
    "len(X_train), len(X_test)"
   ]
  },
  {
   "cell_type": "code",
   "execution_count": 366,
   "metadata": {},
   "outputs": [
    {
     "name": "stdout",
     "output_type": "stream",
     "text": [
      "[[158  40]\n",
      " [ 87 111]]\n",
      "0.68\n",
      "(0.3207, 0.2348)\n"
     ]
    }
   ],
   "source": [
    "# 隨機森林\n",
    "rfc = RandomForestClassifier(\n",
    "    n_estimators=400, \\\n",
    "    max_depth=5, \\\n",
    "    max_leaf_nodes= 20\n",
    ")\n",
    "test_model(rfc)"
   ]
  },
  {
   "cell_type": "code",
   "execution_count": 358,
   "metadata": {},
   "outputs": [],
   "source": [
    "\n",
    "# features = df.drop(columns=\"label\").keys()\n",
    "# dot_data = tree.export_graphviz(rfc[0], feature_names=features)\n",
    "# graph = Source(dot_data)\n",
    "# graph.render(view=True, format=\"pdf\", filename=f\"../Charts/forest{FILENAME}\")"
   ]
  },
  {
   "cell_type": "code",
   "execution_count": 359,
   "metadata": {},
   "outputs": [
    {
     "name": "stdout",
     "output_type": "stream",
     "text": [
      "[[148  50]\n",
      " [ 87 111]]\n",
      "0.65\n",
      "(0.346, 0.3177)\n"
     ]
    }
   ],
   "source": [
    "# 支持向量機\n",
    "from sklearn.svm import SVC\n",
    "clf = SVC(kernel='linear')\n",
    "test_model(clf)"
   ]
  },
  {
   "cell_type": "code",
   "execution_count": 364,
   "metadata": {},
   "outputs": [
    {
     "name": "stdout",
     "output_type": "stream",
     "text": [
      "[[145  53]\n",
      " [ 83 115]]\n",
      "0.66\n",
      "(0.3434, 0.3361)\n"
     ]
    }
   ],
   "source": [
    "from sklearn import linear_model\n",
    "model=linear_model.LogisticRegression()\n",
    "test_model(model)"
   ]
  }
 ],
 "metadata": {
  "colab": {
   "authorship_tag": "ABX9TyNjppjSf9ZciIx0y8D5LG3F",
   "collapsed_sections": [],
   "name": "吳浩瑋＿分析病人生命跡象數據_建樹.ipynb",
   "provenance": []
  },
  "kernelspec": {
   "display_name": "Python 3 (ipykernel)",
   "language": "python",
   "name": "python3"
  },
  "language_info": {
   "codemirror_mode": {
    "name": "ipython",
    "version": 3
   },
   "file_extension": ".py",
   "mimetype": "text/x-python",
   "name": "python",
   "nbconvert_exporter": "python",
   "pygments_lexer": "ipython3",
   "version": "3.12.2"
  }
 },
 "nbformat": 4,
 "nbformat_minor": 4
}
