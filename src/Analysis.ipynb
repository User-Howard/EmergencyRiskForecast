{
 "cells": [
  {
   "cell_type": "code",
   "execution_count": 7,
   "metadata": {
    "executionInfo": {
     "elapsed": 1640,
     "status": "ok",
     "timestamp": 1635182471146,
     "user": {
      "displayName": "吳浩瑋",
      "photoUrl": "https://lh3.googleusercontent.com/a-/AOh14Gg1JVKOVvYXKwQf9nIC3P0NkNRIcFeYbZaYyftCfQ=s64",
      "userId": "11302229288605057867"
     },
     "user_tz": -480
    },
    "id": "qyM0gIy4lEK1"
   },
   "outputs": [],
   "source": [
    "import pandas as pd\n",
    "import numpy as np\n",
    "from sklearn.model_selection import train_test_split\n",
    "from sklearn.metrics import confusion_matrix\n",
    "from sklearn.model_selection import cross_val_score\n",
    "from sklearn.preprocessing import StandardScaler\n",
    "from sklearn.ensemble import RandomForestClassifier\n",
    "from sklearn.metrics import mean_squared_error\n",
    "from graphviz import Source\n",
    "\n",
    "from sklearn.svm import SVC\n",
    "from sklearn import linear_model\n",
    "from sklearn import tree"
   ]
  },
  {
   "cell_type": "markdown",
   "metadata": {},
   "source": [
    "**設定檔案名**"
   ]
  },
  {
   "cell_type": "code",
   "execution_count": 8,
   "metadata": {},
   "outputs": [
    {
     "data": {
      "text/plain": [
       "'data/202404022239_6e+06.csv'"
      ]
     },
     "execution_count": 8,
     "metadata": {},
     "output_type": "execute_result"
    }
   ],
   "source": [
    "FILENAME = f\"data/{input('File Name (in data/)')}\"\n",
    "# FILENAME = f\"data/processed_data.csv\"\n",
    "FILENAME"
   ]
  },
  {
   "cell_type": "code",
   "execution_count": 19,
   "metadata": {},
   "outputs": [],
   "source": [
    "rename_mark = { \"220045\" : \"Heart Rate\"                           , \\\n",
    "                \"220210\" : \"Respiratory Rate\"                     , \\\n",
    "                \"220179\" : \"Non Invasive Blood Pressure systolic\" , \\\n",
    "                \"220180\" : \"Non Invasive Blood Pressure diastolic\", \\\n",
    "                \"220277\" : \"O2 saturation pulseoxymetry\"          }"
   ]
  },
  {
   "cell_type": "markdown",
   "metadata": {},
   "source": [
    "**載入資料**"
   ]
  },
  {
   "cell_type": "code",
   "execution_count": 20,
   "metadata": {},
   "outputs": [],
   "source": [
    "df = pd.read_csv(FILENAME, engine='python')\n",
    "df.rename(columns=rename_mark, inplace=True)"
   ]
  },
  {
   "cell_type": "markdown",
   "metadata": {},
   "source": [
    "**分割測試集和訓練集**"
   ]
  },
  {
   "cell_type": "code",
   "execution_count": 21,
   "metadata": {
    "executionInfo": {
     "elapsed": 6,
     "status": "ok",
     "timestamp": 1635182472522,
     "user": {
      "displayName": "吳浩瑋",
      "photoUrl": "https://lh3.googleusercontent.com/a-/AOh14Gg1JVKOVvYXKwQf9nIC3P0NkNRIcFeYbZaYyftCfQ=s64",
      "userId": "11302229288605057867"
     },
     "user_tz": -480
    },
    "id": "q5wgiB16JxhF"
   },
   "outputs": [],
   "source": [
    "# scale = StandardScaler()\n",
    "df_spl, df_label_spl = df.drop(columns=\"label\"), df[\"label\"]\n",
    "# df_spl = pd.DataFrame(scale.fit_transform(df_spl), columns=df_spl.keys())\n",
    "X_train, X_test, y_train, y_test = train_test_split(df_spl, df_label_spl, test_size=0.2, stratify=df_label_spl)"
   ]
  },
  {
   "cell_type": "markdown",
   "metadata": {},
   "source": [
    "**訓練集和測試集的資料數**"
   ]
  },
  {
   "cell_type": "code",
   "execution_count": 22,
   "metadata": {
    "colab": {
     "base_uri": "https://localhost:8080/",
     "height": 168
    },
    "executionInfo": {
     "elapsed": 1155,
     "status": "error",
     "timestamp": 1635263426781,
     "user": {
      "displayName": "吳浩瑋",
      "photoUrl": "https://lh3.googleusercontent.com/a-/AOh14Gg1JVKOVvYXKwQf9nIC3P0NkNRIcFeYbZaYyftCfQ=s64",
      "userId": "11302229288605057867"
     },
     "user_tz": -480
    },
    "id": "Wh-9-6uRS2CC",
    "outputId": "ceeaa979-b9fc-46f9-b49f-208568fbddc8"
   },
   "outputs": [
    {
     "data": {
      "text/plain": [
       "(1304, 326)"
      ]
     },
     "execution_count": 22,
     "metadata": {},
     "output_type": "execute_result"
    }
   ],
   "source": [
    "len(X_train), len(X_test)"
   ]
  },
  {
   "cell_type": "markdown",
   "metadata": {},
   "source": [
    "**定義測試模型用函數**"
   ]
  },
  {
   "cell_type": "code",
   "execution_count": 23,
   "metadata": {},
   "outputs": [],
   "source": [
    "def test_mse(m):\n",
    "    m.fit(X_train, y_train)\n",
    "    a = m.predict(X_test)\n",
    "    b = m.predict(X_train)\n",
    "    A_score = mean_squared_error(a.astype('int'), y_test.astype('int'))\n",
    "    B_score = mean_squared_error(b.astype('int'), y_train.astype('int'))\n",
    "    return (round(A_score, 4), round(B_score, 4))\n",
    "def test_model(m):\n",
    "    A = m\n",
    "    A.fit(X_train, y_train)\n",
    "    y_pred = A.predict(X_test)\n",
    "    cm=confusion_matrix(y_test,y_pred)\n",
    "    print(cm)\n",
    "    print(round(A.score(X_test, y_test), 2))\n",
    "    print(test_mse(m))"
   ]
  },
  {
   "cell_type": "markdown",
   "metadata": {},
   "source": [
    "**隨機森林**"
   ]
  },
  {
   "cell_type": "code",
   "execution_count": 24,
   "metadata": {},
   "outputs": [
    {
     "name": "stdout",
     "output_type": "stream",
     "text": [
      "[[137  26]\n",
      " [ 48 115]]\n",
      "0.77\n",
      "(0.2239, 0.1879)\n"
     ]
    }
   ],
   "source": [
    "rfc = RandomForestClassifier(\n",
    "    n_estimators=200, \\\n",
    "    max_depth=5, \\\n",
    "    max_leaf_nodes= 20\n",
    ")\n",
    "test_model(rfc)"
   ]
  },
  {
   "cell_type": "markdown",
   "metadata": {},
   "source": [
    "**繪製樹的模型**"
   ]
  },
  {
   "cell_type": "code",
   "execution_count": 25,
   "metadata": {},
   "outputs": [
    {
     "data": {
      "text/plain": [
       "'../Charts/forestdata/202404022239_6e+06.csv.pdf'"
      ]
     },
     "execution_count": 25,
     "metadata": {},
     "output_type": "execute_result"
    }
   ],
   "source": [
    "features = df.drop(columns=\"label\").keys()\n",
    "dot_data = tree.export_graphviz(rfc[0], feature_names=features)\n",
    "graph = Source(dot_data)\n",
    "graph.render(view=True, format=\"pdf\", filename=f\"../Charts/forest{FILENAME}\")"
   ]
  },
  {
   "cell_type": "markdown",
   "metadata": {},
   "source": [
    "**支持向量機**"
   ]
  },
  {
   "cell_type": "code",
   "execution_count": 26,
   "metadata": {},
   "outputs": [
    {
     "name": "stdout",
     "output_type": "stream",
     "text": [
      "[[130  33]\n",
      " [ 60 103]]\n",
      "0.71\n",
      "(0.2853, 0.2531)\n"
     ]
    }
   ],
   "source": [
    "clf = SVC(kernel='linear')\n",
    "test_model(clf)"
   ]
  },
  {
   "cell_type": "markdown",
   "metadata": {},
   "source": [
    "**邏輯回歸**"
   ]
  },
  {
   "cell_type": "code",
   "execution_count": 27,
   "metadata": {},
   "outputs": [
    {
     "name": "stdout",
     "output_type": "stream",
     "text": [
      "[[123  40]\n",
      " [ 55 108]]\n",
      "0.71\n",
      "(0.2914, 0.2776)\n"
     ]
    }
   ],
   "source": [
    "model=linear_model.LogisticRegression()\n",
    "test_model(model)"
   ]
  }
 ],
 "metadata": {
  "colab": {
   "authorship_tag": "ABX9TyNjppjSf9ZciIx0y8D5LG3F",
   "collapsed_sections": [],
   "name": "吳浩瑋＿分析病人生命跡象數據_建樹.ipynb",
   "provenance": []
  },
  "kernelspec": {
   "display_name": "Python 3 (ipykernel)",
   "language": "python",
   "name": "python3"
  },
  "language_info": {
   "codemirror_mode": {
    "name": "ipython",
    "version": 3
   },
   "file_extension": ".py",
   "mimetype": "text/x-python",
   "name": "python",
   "nbconvert_exporter": "python",
   "pygments_lexer": "ipython3",
   "version": "3.12.2"
  }
 },
 "nbformat": 4,
 "nbformat_minor": 4
}
