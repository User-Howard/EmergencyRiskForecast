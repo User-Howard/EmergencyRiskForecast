{
 "cells": [
  {
   "cell_type": "code",
   "execution_count": 1,
   "metadata": {
    "executionInfo": {
     "elapsed": 7,
     "status": "ok",
     "timestamp": 1635046879305,
     "user": {
      "displayName": "吳浩瑋",
      "photoUrl": "https://lh3.googleusercontent.com/a-/AOh14Gg1JVKOVvYXKwQf9nIC3P0NkNRIcFeYbZaYyftCfQ=s64",
      "userId": "11302229288605057867"
     },
     "user_tz": -480
    },
    "id": "vRMjWZnwKw7E"
   },
   "outputs": [],
   "source": [
    "import pandas as pd\n",
    "from time import mktime, strptime\n",
    "import datetime\n",
    "from tqdm import tqdm"
   ]
  },
  {
   "cell_type": "code",
   "execution_count": 2,
   "metadata": {},
   "outputs": [],
   "source": [
    "DATABASE_ADDRESS = \"../data/Raw/chartevents.csv\"\n",
    "PROCEDURE_EVENTS_ADDRESS = \"../data/Raw/procedureevents.csv\"\n",
    "CODE_MAPPING_ADDRESS = \"../data/Raw/code_mappings.csv\"\n",
    "CHUNK_SIZE = 1*1000000"
   ]
  },
  {
   "cell_type": "code",
   "execution_count": null,
   "metadata": {},
   "outputs": [],
   "source": []
  },
  {
   "attachments": {},
   "cell_type": "markdown",
   "metadata": {},
   "source": [
    "###### 20大概需要14分鐘\n",
    "###### 1需要30.5MB\n",
    "###### 大檔案有 329,499789行"
   ]
  },
  {
   "cell_type": "code",
   "execution_count": 3,
   "metadata": {},
   "outputs": [
    {
     "data": {
      "text/plain": [
       "'20230706'"
      ]
     },
     "execution_count": 3,
     "metadata": {},
     "output_type": "execute_result"
    }
   ],
   "source": [
    "FILENAME = datetime.datetime.now().strftime('%Y%m%d')\n",
    "FILENAME"
   ]
  },
  {
   "cell_type": "code",
   "execution_count": 4,
   "metadata": {},
   "outputs": [],
   "source": [
    "item = dict()\n",
    "mark = tuple()"
   ]
  },
  {
   "cell_type": "code",
   "execution_count": 5,
   "metadata": {},
   "outputs": [],
   "source": [
    "df = pd.read_csv(CODE_MAPPING_ADDRESS, engine=\"python\", encoding=\"unicode_escape\")\n",
    "id_to_label = dict(zip(df[\"itemid\"], df[\"label\"]))\n",
    "label_to_id = dict(zip(df[\"label\"], df[\"itemid\"]))\n",
    "# df.head()"
   ]
  },
  {
   "cell_type": "code",
   "execution_count": 6,
   "metadata": {},
   "outputs": [
    {
     "name": "stdout",
     "output_type": "stream",
     "text": [
      "Reading ../Data/Raw/procedureevents.csv ...\n"
     ]
    }
   ],
   "source": [
    "mark = (\n",
    "    \"Heart Rate\",\n",
    "    \"Respiratory Rate\",\n",
    "    \"Non Invasive Blood Pressure systolic\",\n",
    "    \"Non Invasive Blood Pressure diastolic\",\n",
    "    \"O2 saturation pulseoxymetry\",\n",
    "    \"Temperature Celsius\"\n",
    ")\n",
    "\n",
    "class Patient:\n",
    "    data = dict()\n",
    "\n",
    "    def __init__(self):\n",
    "        self.data = {\"subject_id\": None, \"hadm_id\": None, \"charttime\": None}\n",
    "        for label_ in mark:\n",
    "            self.data[label_] = None\n",
    "\n",
    "    def good(self):\n",
    "        return sum([self.data[i] != None for i in mark]) >= 5\n",
    "    \n",
    "def read_csv_function(road: str) -> pd.core.frame.DataFrame:\n",
    "    print(\"Reading\", road, \"...\")\n",
    "    return pd.read_csv(road, engine='python')\n",
    "\n",
    "def to_timestamp(s: str):\n",
    "    try:\n",
    "        return int(mktime(strptime(s, \"%Y-%m-%d %H:%M:%S\")))\n",
    "    except ValueError:\n",
    "        try:\n",
    "            return int(mktime(strptime(s, \"%Y-%m-%d %H:%M\")))\n",
    "        except ValueError:\n",
    "            return int(mktime(strptime(s, \"%Y/%m/%d %H:%M\")))\n",
    "df = read_csv_function(PROCEDURE_EVENTS_ADDRESS)\n",
    "dic = {}\n",
    "for i, it in enumerate(df.itemid):\n",
    "    if it != 225466:\n",
    "        continue\n",
    "    if df.iloc[i].hadm_id not in dic:\n",
    "        dic[df.iloc[i].hadm_id] = list()\n",
    "    dic[df.iloc[i].hadm_id].append(to_timestamp(str(df.iloc[i].starttime)))\n"
   ]
  },
  {
   "cell_type": "code",
   "execution_count": 7,
   "metadata": {},
   "outputs": [
    {
     "name": "stderr",
     "output_type": "stream",
     "text": [
      "  0%|          | 0/330 [00:00<?, ?it/s]"
     ]
    }
   ],
   "source": [
    "record = []\n",
    "bar = tqdm(total=330)"
   ]
  },
  {
   "cell_type": "code",
   "execution_count": 8,
   "metadata": {
    "colab": {
     "base_uri": "https://localhost:8080/",
     "height": 309
    },
    "executionInfo": {
     "elapsed": 10739,
     "status": "ok",
     "timestamp": 1635046969323,
     "user": {
      "displayName": "吳浩瑋",
      "photoUrl": "https://lh3.googleusercontent.com/a-/AOh14Gg1JVKOVvYXKwQf9nIC3P0NkNRIcFeYbZaYyftCfQ=s64",
      "userId": "11302229288605057867"
     },
     "user_tz": -480
    },
    "id": "_QcSsWLObJ34",
    "outputId": "8720729d-9fc7-41af-b0e5-290b916eaa52"
   },
   "outputs": [
    {
     "name": "stderr",
     "output_type": "stream",
     "text": [
      " 37%|███▋      | 121/330 [15:52<30:10,  8.66s/it]<timed exec>:4: UserWarning: Could not infer format, so each element will be parsed individually, falling back to `dateutil`. To ensure parsing is consistent and as-expected, please specify a format.\n",
      "100%|██████████| 330/330 [1:32:13<00:00, 16.77s/it]   "
     ]
    },
    {
     "name": "stdout",
     "output_type": "stream",
     "text": [
      "CPU times: user 45min 16s, sys: 22min 10s, total: 1h 7min 26s\n",
      "Wall time: 1h 32min 13s\n"
     ]
    },
    {
     "name": "stderr",
     "output_type": "stream",
     "text": [
      "\n"
     ]
    }
   ],
   "source": [
    "%%time \n",
    "reader = pd.read_csv(DATABASE_ADDRESS, usecols=[\"hadm_id\", \"charttime\", \"itemid\", \"value\"], engine=\"python\", encoding=\"unicode_escape\",iterator=True, chunksize=CHUNK_SIZE)\n",
    "for tlr, df in enumerate(reader):\n",
    "    bar.update(1)\n",
    "    df['charttime'] = pd.to_datetime(df['charttime']).round(\"10min\")\n",
    "    df = df[df[\"itemid\"].isin((220045, 220210, 220179, 220180, 220277, 223762, 223761))]\n",
    "    output = []\n",
    "    cnt = 0\n",
    "    tp = [label_to_id[i] for i in mark]\n",
    "    for name, group in df.groupby([\"hadm_id\", \"charttime\"]):\n",
    "        patient = Patient()\n",
    "\n",
    "        for id_, value_ in zip(group.itemid, group.value):\n",
    "            if id_ == 223761:\n",
    "                patient.data[223762] = round((float(value_) - 32) * 5 / 9, 1)\n",
    "                continue\n",
    "            patient.data[id_to_label[id_]] = value_\n",
    "        patient.data[\"hadm_id\"], patient.data[\"charttime\"] = name\n",
    "        output.append(patient.data)\n",
    "    merged_df = pd.DataFrame(output,columns=['hadm_id','charttime']+list(mark))\n",
    "\n",
    "    df = merged_df.round(2)\n",
    "\n",
    "    df.dropna(thresh=5, inplace=True)\n",
    "    for name, group in df.groupby(\"hadm_id\"):\n",
    "        group.interpolate(method='bfill', inplace=True)\n",
    "        group.interpolate(method='ffill', inplace=True)\n",
    "        df.update(group)\n",
    "\n",
    "    ans = [False]*len(df)\n",
    "    for i in range(len(df)):\n",
    "        if int(df.iloc[i].hadm_id) in dic:\n",
    "            for j in dic[df.iloc[i].hadm_id]:\n",
    "                if 0 <= j - to_timestamp(str(df.iloc[i].charttime)) <= 14400:\n",
    "                    ans[i] = True\n",
    "                    break\n",
    "\n",
    "    df[\"label\"] = ans\n",
    "    df.to_csv(f\"../data/Big/chartevents_{FILENAME}_{tlr}_labeled.csv\", float_format='%.2f', index=0)\n",
    "\n",
    "    record.append(df.label.value_counts())\n",
    "bar.close()"
   ]
  },
  {
   "cell_type": "code",
   "execution_count": null,
   "metadata": {},
   "outputs": [],
   "source": []
  }
 ],
 "metadata": {
  "colab": {
   "authorship_tag": "ABX9TyOX3sUojrOkebKqz0H0NY8D",
   "collapsed_sections": [],
   "name": "吳浩瑋＿分析病人生命跡象數據_前期整理.ipynb",
   "provenance": []
  },
  "kernelspec": {
   "display_name": "venv-metal",
   "language": "python",
   "name": "venv-metal"
  },
  "language_info": {
   "codemirror_mode": {
    "name": "ipython",
    "version": 3
   },
   "file_extension": ".py",
   "mimetype": "text/x-python",
   "name": "python",
   "nbconvert_exporter": "python",
   "pygments_lexer": "ipython3",
   "version": "3.11.4"
  }
 },
 "nbformat": 4,
 "nbformat_minor": 4
}
