{
 "cells": [
  {
   "cell_type": "code",
   "execution_count": 20,
   "metadata": {
    "executionInfo": {
     "elapsed": 7,
     "status": "ok",
     "timestamp": 1635046879305,
     "user": {
      "displayName": "吳浩瑋",
      "photoUrl": "https://lh3.googleusercontent.com/a-/AOh14Gg1JVKOVvYXKwQf9nIC3P0NkNRIcFeYbZaYyftCfQ=s64",
      "userId": "11302229288605057867"
     },
     "user_tz": -480
    },
    "id": "vRMjWZnwKw7E"
   },
   "outputs": [],
   "source": [
    "import pandas as pd\n",
    "from time import mktime, strptime\n",
    "import datetime"
   ]
  },
  {
   "cell_type": "code",
   "execution_count": 21,
   "metadata": {},
   "outputs": [],
   "source": [
    "DATABASE_ADDRESS =          \"../../data/Raw/chartevents.csv\"\n",
    "PROCEDURE_EVENTS_ADDRESS =  \"../../data/Raw/procedureevents.csv\"\n",
    "CODE_MAPPING_ADDRESS =      \"../../data/Raw/code_mappings.csv\"\n",
    "DATA_SIZE =                 2 * 1000000"
   ]
  },
  {
   "attachments": {},
   "cell_type": "markdown",
   "metadata": {},
   "source": [
    "###### 20大概需要14分鐘\n",
    "###### 1需要30.5MB\n",
    "###### 大檔案有 329,499789行"
   ]
  },
  {
   "cell_type": "code",
   "execution_count": 22,
   "metadata": {},
   "outputs": [
    {
     "data": {
      "text/plain": [
       "'20230710_2e+06'"
      ]
     },
     "execution_count": 22,
     "metadata": {},
     "output_type": "execute_result"
    }
   ],
   "source": [
    "FILENAME = datetime.datetime.now().strftime('%Y%m%d') + f'_{DATA_SIZE:.0e}'\n",
    "FILENAME"
   ]
  },
  {
   "cell_type": "code",
   "execution_count": 23,
   "metadata": {},
   "outputs": [],
   "source": [
    "item = dict()\n",
    "mark = tuple()"
   ]
  },
  {
   "cell_type": "code",
   "execution_count": 24,
   "metadata": {},
   "outputs": [],
   "source": [
    "df = pd.read_csv(CODE_MAPPING_ADDRESS, engine=\"python\", encoding=\"unicode_escape\")\n",
    "id_to_label = dict(zip(df[\"itemid\"], df[\"label\"]))\n",
    "label_to_id = dict(zip(df[\"label\"], df[\"itemid\"]))\n",
    "# df.head()"
   ]
  },
  {
   "cell_type": "code",
   "execution_count": 25,
   "metadata": {},
   "outputs": [],
   "source": [
    "mark = (\"Heart Rate\", \\\n",
    "        \"Respiratory Rate\", \\\n",
    "        \"Non Invasive Blood Pressure systolic\", \\\n",
    "        \"Non Invasive Blood Pressure diastolic\", \\\n",
    "        \"O2 saturation pulseoxymetry\", \\\n",
    "        \"Temperature Celsius\", \\\n",
    "        \"Temperature Fahrenheit\")"
   ]
  },
  {
   "cell_type": "code",
   "execution_count": 26,
   "metadata": {
    "colab": {
     "base_uri": "https://localhost:8080/",
     "height": 309
    },
    "executionInfo": {
     "elapsed": 10739,
     "status": "ok",
     "timestamp": 1635046969323,
     "user": {
      "displayName": "吳浩瑋",
      "photoUrl": "https://lh3.googleusercontent.com/a-/AOh14Gg1JVKOVvYXKwQf9nIC3P0NkNRIcFeYbZaYyftCfQ=s64",
      "userId": "11302229288605057867"
     },
     "user_tz": -480
    },
    "id": "_QcSsWLObJ34",
    "outputId": "8720729d-9fc7-41af-b0e5-290b916eaa52"
   },
   "outputs": [
    {
     "name": "stdout",
     "output_type": "stream",
     "text": [
      "<class 'pandas.core.frame.DataFrame'>\n",
      "RangeIndex: 2000000 entries, 0 to 1999999\n",
      "Data columns (total 4 columns):\n",
      " #   Column     Dtype  \n",
      "---  ------     -----  \n",
      " 0   hadm_id    int64  \n",
      " 1   charttime  object \n",
      " 2   itemid     int64  \n",
      " 3   value      float64\n",
      "dtypes: float64(1), int64(2), object(1)\n",
      "memory usage: 61.0+ MB\n",
      "CPU times: user 6.18 s, sys: 411 ms, total: 6.59 s\n",
      "Wall time: 6.68 s\n"
     ]
    }
   ],
   "source": [
    "%%time \n",
    "df = pd.read_csv(DATABASE_ADDRESS, usecols=[\"hadm_id\", \"charttime\", \"itemid\", \"value\"], engine=\"python\", encoding=\"unicode_escape\", nrows=DATA_SIZE)\n",
    "df.info()"
   ]
  },
  {
   "cell_type": "code",
   "execution_count": 27,
   "metadata": {},
   "outputs": [],
   "source": [
    "df['charttime'] = pd.to_datetime(df['charttime']).round(\"10min\")"
   ]
  },
  {
   "cell_type": "code",
   "execution_count": 28,
   "metadata": {},
   "outputs": [],
   "source": [
    "df = df[df[\"itemid\"].isin((220045, 220210, 220179, 220180, 220277, 223762, 223761))]"
   ]
  },
  {
   "cell_type": "code",
   "execution_count": 29,
   "metadata": {},
   "outputs": [
    {
     "name": "stdout",
     "output_type": "stream",
     "text": [
      "<class 'pandas.core.frame.DataFrame'>\n",
      "Index: 604291 entries, 12 to 1999999\n",
      "Data columns (total 4 columns):\n",
      " #   Column     Non-Null Count   Dtype         \n",
      "---  ------     --------------   -----         \n",
      " 0   hadm_id    604291 non-null  int64         \n",
      " 1   charttime  604291 non-null  datetime64[ns]\n",
      " 2   itemid     604291 non-null  int64         \n",
      " 3   value      604291 non-null  float64       \n",
      "dtypes: datetime64[ns](1), float64(1), int64(2)\n",
      "memory usage: 23.1 MB\n"
     ]
    }
   ],
   "source": [
    "df.info()"
   ]
  },
  {
   "cell_type": "code",
   "execution_count": 30,
   "metadata": {},
   "outputs": [],
   "source": [
    "# 建立一個CLASS容器來裝每一個PATIENT\n",
    "class Patient:\n",
    "    data = dict()\n",
    "    def __init__(self, ):\n",
    "        self.data = {\"hadm_id\":None, \"charttime\":None}\n",
    "        for label_ in mark:\n",
    "            self.data[label_] = None\n",
    "    def allna(self, ):\n",
    "        return all ([self.data[i]==None for i in mark])"
   ]
  },
  {
   "cell_type": "code",
   "execution_count": 31,
   "metadata": {},
   "outputs": [],
   "source": [
    "output = []\n",
    "cnt = 0\n",
    "tp = [label_to_id[i] for i in mark]\n",
    "for name, group in df.groupby([\"hadm_id\", \"charttime\"]):\n",
    "    patient = Patient()\n",
    "    \n",
    "    for id_, value_ in zip(group.itemid, group.value):\n",
    "        cnt += 1\n",
    "        patient.data[id_to_label[id_]] = value_\n",
    "    patient.data[\"hadm_id\"], patient.data[\"charttime\"] = name\n",
    "    if patient.data[\"Temperature Fahrenheit\"] != None:\n",
    "        patient.data[\"Temperature Celsius\"] = round((float(patient.data[\"Temperature Fahrenheit\"]) - 32) * 5 / 9, 1)\n",
    "    output.append(patient.data)\n",
    "merged_df = pd.DataFrame(output,columns=['hadm_id','charttime']+list(mark)).drop([\"Temperature Fahrenheit\"], axis=1)\n",
    "merged_df.to_csv(f\"../data/chartevents_{FILENAME}_pivot.csv\", float_format='%.2f', index=0)"
   ]
  },
  {
   "cell_type": "code",
   "execution_count": 32,
   "metadata": {
    "scrolled": true
   },
   "outputs": [
    {
     "name": "stdout",
     "output_type": "stream",
     "text": [
      "amount:  140901\n",
      "amount:  140901\n"
     ]
    }
   ],
   "source": [
    "# df.to_csv(\"chart_test3_merge_new.csv\", float_format='%.2f', index=0)\n",
    "print(\"amount: \", len(output))\n",
    "print(\"amount: \", len(merged_df))\n",
    "# merged_df"
   ]
  },
  {
   "cell_type": "code",
   "execution_count": 33,
   "metadata": {},
   "outputs": [
    {
     "data": {
      "text/html": [
       "<div>\n",
       "<style scoped>\n",
       "    .dataframe tbody tr th:only-of-type {\n",
       "        vertical-align: middle;\n",
       "    }\n",
       "\n",
       "    .dataframe tbody tr th {\n",
       "        vertical-align: top;\n",
       "    }\n",
       "\n",
       "    .dataframe thead th {\n",
       "        text-align: right;\n",
       "    }\n",
       "</style>\n",
       "<table border=\"1\" class=\"dataframe\">\n",
       "  <thead>\n",
       "    <tr style=\"text-align: right;\">\n",
       "      <th></th>\n",
       "      <th>hadm_id</th>\n",
       "      <th>charttime</th>\n",
       "      <th>itemid</th>\n",
       "      <th>value</th>\n",
       "    </tr>\n",
       "  </thead>\n",
       "  <tbody>\n",
       "    <tr>\n",
       "      <th>1061987</th>\n",
       "      <td>29413193</td>\n",
       "      <td>2163-04-15 07:20:00</td>\n",
       "      <td>220045</td>\n",
       "      <td>33.0</td>\n",
       "    </tr>\n",
       "    <tr>\n",
       "      <th>1036587</th>\n",
       "      <td>25306392</td>\n",
       "      <td>2188-04-30 16:00:00</td>\n",
       "      <td>220277</td>\n",
       "      <td>94.0</td>\n",
       "    </tr>\n",
       "    <tr>\n",
       "      <th>846730</th>\n",
       "      <td>29250995</td>\n",
       "      <td>2191-06-08 04:40:00</td>\n",
       "      <td>220210</td>\n",
       "      <td>16.0</td>\n",
       "    </tr>\n",
       "    <tr>\n",
       "      <th>1768733</th>\n",
       "      <td>26053308</td>\n",
       "      <td>2122-01-16 18:00:00</td>\n",
       "      <td>220179</td>\n",
       "      <td>136.0</td>\n",
       "    </tr>\n",
       "    <tr>\n",
       "      <th>856998</th>\n",
       "      <td>23165015</td>\n",
       "      <td>2194-11-10 04:00:00</td>\n",
       "      <td>220180</td>\n",
       "      <td>49.0</td>\n",
       "    </tr>\n",
       "  </tbody>\n",
       "</table>\n",
       "</div>"
      ],
      "text/plain": [
       "          hadm_id           charttime  itemid  value\n",
       "1061987  29413193 2163-04-15 07:20:00  220045   33.0\n",
       "1036587  25306392 2188-04-30 16:00:00  220277   94.0\n",
       "846730   29250995 2191-06-08 04:40:00  220210   16.0\n",
       "1768733  26053308 2122-01-16 18:00:00  220179  136.0\n",
       "856998   23165015 2194-11-10 04:00:00  220180   49.0"
      ]
     },
     "execution_count": 33,
     "metadata": {},
     "output_type": "execute_result"
    }
   ],
   "source": [
    "df.sample(5)"
   ]
  },
  {
   "cell_type": "code",
   "execution_count": 34,
   "metadata": {},
   "outputs": [],
   "source": [
    "df = pd.read_csv(f\"../data/chartevents_{FILENAME}_pivot.csv\", engine=\"python\", encoding=\"unicode_escape\", parse_dates=[\"charttime\"])\n",
    "# df.dropna(thresh=5, inplace=True)\n",
    "for name, group in df.groupby(\"hadm_id\"):\n",
    "    group.interpolate(method='bfill', inplace=True)\n",
    "    group.interpolate(method='ffill', inplace=True)\n",
    "    df.update(group)\n",
    "df.to_csv(f\"../data/chartevents_{FILENAME}_filled.csv\", float_format='%.1f', index=0)"
   ]
  },
  {
   "cell_type": "code",
   "execution_count": 35,
   "metadata": {},
   "outputs": [
    {
     "name": "stdout",
     "output_type": "stream",
     "text": [
      "<class 'pandas.core.frame.DataFrame'>\n",
      "RangeIndex: 140901 entries, 0 to 140900\n",
      "Data columns (total 8 columns):\n",
      " #   Column                                 Non-Null Count   Dtype         \n",
      "---  ------                                 --------------   -----         \n",
      " 0   hadm_id                                140901 non-null  int64         \n",
      " 1   charttime                              140901 non-null  datetime64[ns]\n",
      " 2   Heart Rate                             140901 non-null  float64       \n",
      " 3   Respiratory Rate                       140901 non-null  float64       \n",
      " 4   Non Invasive Blood Pressure systolic   140692 non-null  float64       \n",
      " 5   Non Invasive Blood Pressure diastolic  140692 non-null  float64       \n",
      " 6   O2 saturation pulseoxymetry            140897 non-null  float64       \n",
      " 7   Temperature Celsius                    140604 non-null  float64       \n",
      "dtypes: datetime64[ns](1), float64(6), int64(1)\n",
      "memory usage: 8.6 MB\n"
     ]
    }
   ],
   "source": [
    "df.info()"
   ]
  },
  {
   "cell_type": "code",
   "execution_count": 36,
   "metadata": {},
   "outputs": [],
   "source": [
    "def read_csv_function(road: str) -> pd.core.frame.DataFrame:\n",
    "    print(\"Reading\", road, \"...\")\n",
    "    return pd.read_csv(road, engine='python')\n",
    "def to_timestamp(s: str):\n",
    "    try:\n",
    "        return int(mktime(strptime(s, \"%Y-%m-%d %H:%M:%S\")))\n",
    "    except ValueError:\n",
    "        try:\n",
    "            return int(mktime(strptime(s, \"%Y-%m-%d %H:%M\")))\n",
    "        except ValueError:\n",
    "            return int(mktime(strptime(s, \"%Y/%m/%d %H:%M\")))"
   ]
  },
  {
   "cell_type": "code",
   "execution_count": 37,
   "metadata": {
    "id": "hS74y6nLNp94"
   },
   "outputs": [
    {
     "name": "stdout",
     "output_type": "stream",
     "text": [
      "Reading ../../data/Raw/procedureevents.csv ...\n",
      "Reading ../data/chartevents_20230710_2e+06_filled.csv ...\n"
     ]
    }
   ],
   "source": [
    "df = read_csv_function(PROCEDURE_EVENTS_ADDRESS)\n",
    "df[\"starttime\"] = pd.to_datetime(df[\"starttime\"])\n",
    "dic = {}\n",
    "for i, it in enumerate(df.itemid):\n",
    "    if it != 225466:\n",
    "        continue\n",
    "    if df.iloc[i].hadm_id not in dic:\n",
    "        dic[df.iloc[i].hadm_id] = list()\n",
    "    dic[df.iloc[i].hadm_id].append(df.iloc[i].starttime)\n",
    "\n",
    "df = read_csv_function(f\"../data/chartevents_{FILENAME}_filled.csv\")\n",
    "df[\"charttime\"] = pd.to_datetime(df[\"charttime\"])\n",
    "ans = [False]*len(df)\n",
    "for i in range(len(df)):\n",
    "    if int(df.iloc[i].hadm_id) in dic:\n",
    "        for j in dic[df.iloc[i].hadm_id]:\n",
    "            time_diff = int(pd.Timedelta(j - df.iloc[i].charttime).total_seconds())\n",
    "            if 0 <= time_diff <= 14400:\n",
    "                ans[i] = True\n",
    "                break\n",
    "\n",
    "df[\"label\"] = ans\n",
    "df.to_csv(f\"../../data/Preprocessed/chartevents_{FILENAME}_labeled.csv\", float_format='%.2f', index=0)"
   ]
  },
  {
   "cell_type": "code",
   "execution_count": 38,
   "metadata": {},
   "outputs": [
    {
     "data": {
      "text/plain": [
       "label\n",
       "False    140858\n",
       "True         43\n",
       "Name: count, dtype: int64"
      ]
     },
     "execution_count": 38,
     "metadata": {},
     "output_type": "execute_result"
    }
   ],
   "source": [
    "df.label.value_counts()"
   ]
  },
  {
   "cell_type": "code",
   "execution_count": null,
   "metadata": {},
   "outputs": [],
   "source": []
  }
 ],
 "metadata": {
  "colab": {
   "authorship_tag": "ABX9TyOX3sUojrOkebKqz0H0NY8D",
   "collapsed_sections": [],
   "name": "吳浩瑋＿分析病人生命跡象數據_前期整理.ipynb",
   "provenance": []
  },
  "kernelspec": {
   "display_name": "venv-metal",
   "language": "python",
   "name": "venv-metal"
  },
  "language_info": {
   "codemirror_mode": {
    "name": "ipython",
    "version": 3
   },
   "file_extension": ".py",
   "mimetype": "text/x-python",
   "name": "python",
   "nbconvert_exporter": "python",
   "pygments_lexer": "ipython3",
   "version": "3.11.4"
  }
 },
 "nbformat": 4,
 "nbformat_minor": 4
}
